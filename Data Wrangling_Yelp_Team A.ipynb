{
 "cells": [
  {
   "cell_type": "markdown",
   "metadata": {},
   "source": [
    "# Loading Yelp's Data and Processing"
   ]
  },
  {
   "cell_type": "markdown",
   "metadata": {},
   "source": [
    "## Import the packages"
   ]
  },
  {
   "cell_type": "code",
   "execution_count": 1,
   "metadata": {},
   "outputs": [
    {
     "name": "stdout",
     "output_type": "stream",
     "text": [
      "['bmh', 'classic', 'dark_background', 'fast', 'fivethirtyeight', 'ggplot', 'grayscale', 'seaborn-bright', 'seaborn-colorblind', 'seaborn-dark-palette', 'seaborn-dark', 'seaborn-darkgrid', 'seaborn-deep', 'seaborn-muted', 'seaborn-notebook', 'seaborn-paper', 'seaborn-pastel', 'seaborn-poster', 'seaborn-talk', 'seaborn-ticks', 'seaborn-white', 'seaborn-whitegrid', 'seaborn', 'Solarize_Light2', '_classic_test']\n",
      "0.20.3\n"
     ]
    }
   ],
   "source": [
    "import json\n",
    "import numpy as np\n",
    "import pandas as pd\n",
    "import matplotlib.pyplot as plt\n",
    "from pandas import Series, DataFrame\n",
    "\n",
    "%matplotlib inline\n",
    "plt.style.use('default')\n",
    "print(plt.style.available)\n",
    "#print all available styles\n",
    "\n",
    "print (pd.__version__)\n",
    "\n",
    "import os\n",
    "from IPython.core.display import HTML"
   ]
  },
  {
   "cell_type": "markdown",
   "metadata": {},
   "source": [
    "# Yelp Dataset Challenge URL\n",
    "\n",
    "This link gives you an idea of the structure of Data Schema: all JSON files with each line as a distinct record\n",
    "https://www.yelp.com/dataset/challenge\n",
    "\n",
    "Except dataset_photo.json, there are 5 tables:\n",
    "\n",
    "1. Business\n",
    "2. Review\n",
    "3. Checkins\n",
    "4. Tips\n",
    "5. Users\n",
    "\n",
    "Further down this notebook, we will see that the Reviews table is a 1GB file that's not easy to load directly into IPython RAM, so we'll chop it up into 4 pieces along the way of our cleaning process."
   ]
  },
  {
   "cell_type": "code",
   "execution_count": 2,
   "metadata": {},
   "outputs": [
    {
     "data": {
      "text/html": [
       "<iframe src = \"https://www.yelp.com/dataset/challenge\" width = \"1000px\" height = \"333px\">"
      ],
      "text/plain": [
       "<IPython.core.display.HTML object>"
      ]
     },
     "execution_count": 2,
     "metadata": {},
     "output_type": "execute_result"
    }
   ],
   "source": [
    "YELP_DATACHALLENGE_URL = \"https://www.yelp.com/dataset/challenge\"\n",
    "tag = '<iframe src = \"{0}\" width = \"1000px\" height = \"333px\">'.format(YELP_DATACHALLENGE_URL)\n",
    "HTML(tag)"
   ]
  },
  {
   "cell_type": "markdown",
   "metadata": {},
   "source": [
    "## Read data from file and load to Pandas DataFrame"
   ]
  },
  {
   "cell_type": "code",
   "execution_count": 3,
   "metadata": {
    "collapsed": true
   },
   "outputs": [],
   "source": [
    "file_business, file_checkin, file_tip, file_user, file_review = [\n",
    "    'yelp_academic_dataset_business.json',\n",
    "    'yelp_academic_dataset_checkin.json',\n",
    "    'yelp_academic_dataset_tip.json',\n",
    "    'yelp_academic_dataset_user.json',\n",
    "    'yelp_academic_dataset_review.json'\n",
    "]"
   ]
  },
  {
   "cell_type": "markdown",
   "metadata": {},
   "source": [
    "### Business Data"
   ]
  },
  {
   "cell_type": "code",
   "execution_count": 4,
   "metadata": {},
   "outputs": [
    {
     "name": "stdout",
     "output_type": "stream",
     "text": [
      "<class 'str'>\n",
      "{\"business_id\":\"Apn5Q_b6Nz61Tq4XzPdf9A\",\"name\":\"Minhas Micro Brewery\",\"neighborhood\":\"\",\"address\":\"1314 44 Avenue NE\",\"city\":\"Calgary\",\"state\":\"AB\",\"postal_code\":\"T2E 6L6\",\"latitude\":51.0918130155,\"longitude\":-114.031674872,\"stars\":4.0,\"review_count\":24,\"is_open\":1,\"attributes\":{\"BikeParking\":\"False\",\"BusinessAcceptsCreditCards\":\"True\",\"BusinessParking\":\"{'garage': False, 'street': True, 'validated': False, 'lot': False, 'valet': False}\",\"GoodForKids\":\"True\",\"HasTV\":\"True\",\"NoiseLevel\":\"average\",\"OutdoorSeating\":\"False\",\"RestaurantsAttire\":\"casual\",\"RestaurantsDelivery\":\"False\",\"RestaurantsGoodForGroups\":\"True\",\"RestaurantsPriceRange2\":\"2\",\"RestaurantsReservations\":\"True\",\"RestaurantsTakeOut\":\"True\"},\"categories\":\"Tours, Breweries, Pizza, Restaurants, Food, Hotels & Travel\",\"hours\":{\"Monday\":\"8:30-17:0\",\"Tuesday\":\"11:0-21:0\",\"Wednesday\":\"11:0-21:0\",\"Thursday\":\"11:0-21:0\",\"Friday\":\"11:0-21:0\",\"Saturday\":\"11:0-21:0\"}}\n",
      "\n",
      "<class 'dict'>\n",
      "{'business_id': 'Apn5Q_b6Nz61Tq4XzPdf9A', 'name': 'Minhas Micro Brewery', 'neighborhood': '', 'address': '1314 44 Avenue NE', 'city': 'Calgary', 'state': 'AB', 'postal_code': 'T2E 6L6', 'latitude': 51.0918130155, 'longitude': -114.031674872, 'stars': 4.0, 'review_count': 24, 'is_open': 1, 'attributes': {'BikeParking': 'False', 'BusinessAcceptsCreditCards': 'True', 'BusinessParking': \"{'garage': False, 'street': True, 'validated': False, 'lot': False, 'valet': False}\", 'GoodForKids': 'True', 'HasTV': 'True', 'NoiseLevel': 'average', 'OutdoorSeating': 'False', 'RestaurantsAttire': 'casual', 'RestaurantsDelivery': 'False', 'RestaurantsGoodForGroups': 'True', 'RestaurantsPriceRange2': '2', 'RestaurantsReservations': 'True', 'RestaurantsTakeOut': 'True'}, 'categories': 'Tours, Breweries, Pizza, Restaurants, Food, Hotels & Travel', 'hours': {'Monday': '8:30-17:0', 'Tuesday': '11:0-21:0', 'Wednesday': '11:0-21:0', 'Thursday': '11:0-21:0', 'Friday': '11:0-21:0', 'Saturday': '11:0-21:0'}}\n"
     ]
    }
   ],
   "source": [
    "# Open file\n",
    "f = open(file_business,encoding=\"utf8\")\n",
    "first_line = f.readline()\n",
    "first_line_json = json.loads(first_line)\n",
    "\n",
    "print (type(first_line))\n",
    "print (first_line)\n",
    "print (type(first_line_json))\n",
    "print (first_line_json)"
   ]
  },
  {
   "cell_type": "code",
   "execution_count": 5,
   "metadata": {
    "collapsed": true
   },
   "outputs": [],
   "source": [
    "with open(file_business,encoding=\"utf8\") as f:\n",
    "    df_business = pd.DataFrame(json.loads(line) for line in f)"
   ]
  },
  {
   "cell_type": "code",
   "execution_count": 6,
   "metadata": {},
   "outputs": [
    {
     "data": {
      "text/html": [
       "<div>\n",
       "<style>\n",
       "    .dataframe thead tr:only-child th {\n",
       "        text-align: right;\n",
       "    }\n",
       "\n",
       "    .dataframe thead th {\n",
       "        text-align: left;\n",
       "    }\n",
       "\n",
       "    .dataframe tbody tr th {\n",
       "        vertical-align: top;\n",
       "    }\n",
       "</style>\n",
       "<table border=\"1\" class=\"dataframe\">\n",
       "  <thead>\n",
       "    <tr style=\"text-align: right;\">\n",
       "      <th></th>\n",
       "      <th>address</th>\n",
       "      <th>attributes</th>\n",
       "      <th>business_id</th>\n",
       "      <th>categories</th>\n",
       "      <th>city</th>\n",
       "      <th>hours</th>\n",
       "      <th>is_open</th>\n",
       "      <th>latitude</th>\n",
       "      <th>longitude</th>\n",
       "      <th>name</th>\n",
       "      <th>neighborhood</th>\n",
       "      <th>postal_code</th>\n",
       "      <th>review_count</th>\n",
       "      <th>stars</th>\n",
       "      <th>state</th>\n",
       "    </tr>\n",
       "  </thead>\n",
       "  <tbody>\n",
       "    <tr>\n",
       "      <th>0</th>\n",
       "      <td>1314 44 Avenue NE</td>\n",
       "      <td>{'BikeParking': 'False', 'BusinessAcceptsCredi...</td>\n",
       "      <td>Apn5Q_b6Nz61Tq4XzPdf9A</td>\n",
       "      <td>Tours, Breweries, Pizza, Restaurants, Food, Ho...</td>\n",
       "      <td>Calgary</td>\n",
       "      <td>{'Monday': '8:30-17:0', 'Tuesday': '11:0-21:0'...</td>\n",
       "      <td>1</td>\n",
       "      <td>51.091813</td>\n",
       "      <td>-114.031675</td>\n",
       "      <td>Minhas Micro Brewery</td>\n",
       "      <td></td>\n",
       "      <td>T2E 6L6</td>\n",
       "      <td>24</td>\n",
       "      <td>4.0</td>\n",
       "      <td>AB</td>\n",
       "    </tr>\n",
       "    <tr>\n",
       "      <th>1</th>\n",
       "      <td></td>\n",
       "      <td>{'Alcohol': 'none', 'BikeParking': 'False', 'B...</td>\n",
       "      <td>AjEbIBw6ZFfln7ePHha9PA</td>\n",
       "      <td>Chicken Wings, Burgers, Caterers, Street Vendo...</td>\n",
       "      <td>Henderson</td>\n",
       "      <td>{'Friday': '17:0-23:0', 'Saturday': '17:0-23:0...</td>\n",
       "      <td>0</td>\n",
       "      <td>35.960734</td>\n",
       "      <td>-114.939821</td>\n",
       "      <td>CK'S BBQ &amp; Catering</td>\n",
       "      <td></td>\n",
       "      <td>89002</td>\n",
       "      <td>3</td>\n",
       "      <td>4.5</td>\n",
       "      <td>NV</td>\n",
       "    </tr>\n",
       "    <tr>\n",
       "      <th>2</th>\n",
       "      <td>1335 rue Beaubien E</td>\n",
       "      <td>{'Alcohol': 'beer_and_wine', 'Ambience': '{'ro...</td>\n",
       "      <td>O8S5hYJ1SMc8fA4QBtVujA</td>\n",
       "      <td>Breakfast &amp; Brunch, Restaurants, French, Sandw...</td>\n",
       "      <td>Montréal</td>\n",
       "      <td>{'Monday': '10:0-22:0', 'Tuesday': '10:0-22:0'...</td>\n",
       "      <td>0</td>\n",
       "      <td>45.540503</td>\n",
       "      <td>-73.599300</td>\n",
       "      <td>La Bastringue</td>\n",
       "      <td>Rosemont-La Petite-Patrie</td>\n",
       "      <td>H2G 1K7</td>\n",
       "      <td>5</td>\n",
       "      <td>4.0</td>\n",
       "      <td>QC</td>\n",
       "    </tr>\n",
       "    <tr>\n",
       "      <th>3</th>\n",
       "      <td>211 W Monroe St</td>\n",
       "      <td>None</td>\n",
       "      <td>bFzdJJ3wp3PZssNEsyU23g</td>\n",
       "      <td>Insurance, Financial Services</td>\n",
       "      <td>Phoenix</td>\n",
       "      <td>None</td>\n",
       "      <td>1</td>\n",
       "      <td>33.449999</td>\n",
       "      <td>-112.076979</td>\n",
       "      <td>Geico Insurance</td>\n",
       "      <td></td>\n",
       "      <td>85003</td>\n",
       "      <td>8</td>\n",
       "      <td>1.5</td>\n",
       "      <td>AZ</td>\n",
       "    </tr>\n",
       "    <tr>\n",
       "      <th>4</th>\n",
       "      <td>2005 Alyth Place SE</td>\n",
       "      <td>{'BusinessAcceptsCreditCards': 'True'}</td>\n",
       "      <td>8USyCYqpScwiNEb58Bt6CA</td>\n",
       "      <td>Home &amp; Garden, Nurseries &amp; Gardening, Shopping...</td>\n",
       "      <td>Calgary</td>\n",
       "      <td>{'Monday': '8:0-17:0', 'Tuesday': '8:0-17:0', ...</td>\n",
       "      <td>1</td>\n",
       "      <td>51.035591</td>\n",
       "      <td>-114.027366</td>\n",
       "      <td>Action Engine</td>\n",
       "      <td></td>\n",
       "      <td>T2H 0N5</td>\n",
       "      <td>4</td>\n",
       "      <td>2.0</td>\n",
       "      <td>AB</td>\n",
       "    </tr>\n",
       "  </tbody>\n",
       "</table>\n",
       "</div>"
      ],
      "text/plain": [
       "               address                                         attributes  \\\n",
       "0    1314 44 Avenue NE  {'BikeParking': 'False', 'BusinessAcceptsCredi...   \n",
       "1                       {'Alcohol': 'none', 'BikeParking': 'False', 'B...   \n",
       "2  1335 rue Beaubien E  {'Alcohol': 'beer_and_wine', 'Ambience': '{'ro...   \n",
       "3      211 W Monroe St                                               None   \n",
       "4  2005 Alyth Place SE             {'BusinessAcceptsCreditCards': 'True'}   \n",
       "\n",
       "              business_id                                         categories  \\\n",
       "0  Apn5Q_b6Nz61Tq4XzPdf9A  Tours, Breweries, Pizza, Restaurants, Food, Ho...   \n",
       "1  AjEbIBw6ZFfln7ePHha9PA  Chicken Wings, Burgers, Caterers, Street Vendo...   \n",
       "2  O8S5hYJ1SMc8fA4QBtVujA  Breakfast & Brunch, Restaurants, French, Sandw...   \n",
       "3  bFzdJJ3wp3PZssNEsyU23g                      Insurance, Financial Services   \n",
       "4  8USyCYqpScwiNEb58Bt6CA  Home & Garden, Nurseries & Gardening, Shopping...   \n",
       "\n",
       "        city                                              hours  is_open  \\\n",
       "0    Calgary  {'Monday': '8:30-17:0', 'Tuesday': '11:0-21:0'...        1   \n",
       "1  Henderson  {'Friday': '17:0-23:0', 'Saturday': '17:0-23:0...        0   \n",
       "2   Montréal  {'Monday': '10:0-22:0', 'Tuesday': '10:0-22:0'...        0   \n",
       "3    Phoenix                                               None        1   \n",
       "4    Calgary  {'Monday': '8:0-17:0', 'Tuesday': '8:0-17:0', ...        1   \n",
       "\n",
       "    latitude   longitude                  name               neighborhood  \\\n",
       "0  51.091813 -114.031675  Minhas Micro Brewery                              \n",
       "1  35.960734 -114.939821   CK'S BBQ & Catering                              \n",
       "2  45.540503  -73.599300         La Bastringue  Rosemont-La Petite-Patrie   \n",
       "3  33.449999 -112.076979       Geico Insurance                              \n",
       "4  51.035591 -114.027366         Action Engine                              \n",
       "\n",
       "  postal_code  review_count  stars state  \n",
       "0     T2E 6L6            24    4.0    AB  \n",
       "1       89002             3    4.5    NV  \n",
       "2     H2G 1K7             5    4.0    QC  \n",
       "3       85003             8    1.5    AZ  \n",
       "4     T2H 0N5             4    2.0    AB  "
      ]
     },
     "execution_count": 6,
     "metadata": {},
     "output_type": "execute_result"
    }
   ],
   "source": [
    "df_business.head()"
   ]
  },
  {
   "cell_type": "code",
   "execution_count": 7,
   "metadata": {},
   "outputs": [
    {
     "name": "stdout",
     "output_type": "stream",
     "text": [
      "<class 'pandas.core.frame.DataFrame'>\n",
      "RangeIndex: 188593 entries, 0 to 188592\n",
      "Data columns (total 15 columns):\n",
      "address         188593 non-null object\n",
      "attributes      162807 non-null object\n",
      "business_id     188593 non-null object\n",
      "categories      188052 non-null object\n",
      "city            188593 non-null object\n",
      "hours           143791 non-null object\n",
      "is_open         188593 non-null int64\n",
      "latitude        188587 non-null float64\n",
      "longitude       188587 non-null float64\n",
      "name            188593 non-null object\n",
      "neighborhood    188593 non-null object\n",
      "postal_code     188593 non-null object\n",
      "review_count    188593 non-null int64\n",
      "stars           188593 non-null float64\n",
      "state           188593 non-null object\n",
      "dtypes: float64(3), int64(2), object(10)\n",
      "memory usage: 21.6+ MB\n"
     ]
    }
   ],
   "source": [
    "df_business.info()"
   ]
  },
  {
   "cell_type": "markdown",
   "metadata": {},
   "source": [
    "### Checkin Data"
   ]
  },
  {
   "cell_type": "code",
   "execution_count": 8,
   "metadata": {
    "collapsed": true
   },
   "outputs": [],
   "source": [
    "with open(file_checkin,encoding=\"utf8\") as f:\n",
    "    df_checkin = pd.DataFrame(json.loads(line) for line in f)"
   ]
  },
  {
   "cell_type": "code",
   "execution_count": 9,
   "metadata": {},
   "outputs": [
    {
     "data": {
      "text/html": [
       "<div>\n",
       "<style>\n",
       "    .dataframe thead tr:only-child th {\n",
       "        text-align: right;\n",
       "    }\n",
       "\n",
       "    .dataframe thead th {\n",
       "        text-align: left;\n",
       "    }\n",
       "\n",
       "    .dataframe tbody tr th {\n",
       "        vertical-align: top;\n",
       "    }\n",
       "</style>\n",
       "<table border=\"1\" class=\"dataframe\">\n",
       "  <thead>\n",
       "    <tr style=\"text-align: right;\">\n",
       "      <th></th>\n",
       "      <th>business_id</th>\n",
       "      <th>time</th>\n",
       "    </tr>\n",
       "  </thead>\n",
       "  <tbody>\n",
       "    <tr>\n",
       "      <th>0</th>\n",
       "      <td>7KPBkxAOEtb3QeIL9PEErg</td>\n",
       "      <td>{'Fri-0': 2, 'Sat-0': 1, 'Sun-0': 1, 'Wed-0': ...</td>\n",
       "    </tr>\n",
       "    <tr>\n",
       "      <th>1</th>\n",
       "      <td>kREVIrSBbtqBhIYkTccQUg</td>\n",
       "      <td>{'Mon-13': 1, 'Thu-13': 1, 'Sat-16': 1, 'Wed-1...</td>\n",
       "    </tr>\n",
       "    <tr>\n",
       "      <th>2</th>\n",
       "      <td>tJRDll5yqpZwehenzE2cSg</td>\n",
       "      <td>{'Thu-0': 1, 'Mon-1': 1, 'Mon-12': 1, 'Sat-16'...</td>\n",
       "    </tr>\n",
       "    <tr>\n",
       "      <th>3</th>\n",
       "      <td>tZccfdl6JNw-j5BKnCTIQQ</td>\n",
       "      <td>{'Sun-14': 1, 'Fri-18': 1, 'Mon-20': 1}</td>\n",
       "    </tr>\n",
       "    <tr>\n",
       "      <th>4</th>\n",
       "      <td>r1p7RAMzCV_6NPF0dNoR3g</td>\n",
       "      <td>{'Sat-3': 1, 'Sun-18': 1, 'Sat-21': 1, 'Sat-23...</td>\n",
       "    </tr>\n",
       "  </tbody>\n",
       "</table>\n",
       "</div>"
      ],
      "text/plain": [
       "              business_id                                               time\n",
       "0  7KPBkxAOEtb3QeIL9PEErg  {'Fri-0': 2, 'Sat-0': 1, 'Sun-0': 1, 'Wed-0': ...\n",
       "1  kREVIrSBbtqBhIYkTccQUg  {'Mon-13': 1, 'Thu-13': 1, 'Sat-16': 1, 'Wed-1...\n",
       "2  tJRDll5yqpZwehenzE2cSg  {'Thu-0': 1, 'Mon-1': 1, 'Mon-12': 1, 'Sat-16'...\n",
       "3  tZccfdl6JNw-j5BKnCTIQQ            {'Sun-14': 1, 'Fri-18': 1, 'Mon-20': 1}\n",
       "4  r1p7RAMzCV_6NPF0dNoR3g  {'Sat-3': 1, 'Sun-18': 1, 'Sat-21': 1, 'Sat-23..."
      ]
     },
     "execution_count": 9,
     "metadata": {},
     "output_type": "execute_result"
    }
   ],
   "source": [
    "df_checkin.head()"
   ]
  },
  {
   "cell_type": "code",
   "execution_count": 10,
   "metadata": {},
   "outputs": [
    {
     "name": "stdout",
     "output_type": "stream",
     "text": [
      "<class 'pandas.core.frame.DataFrame'>\n",
      "RangeIndex: 157075 entries, 0 to 157074\n",
      "Data columns (total 2 columns):\n",
      "business_id    157075 non-null object\n",
      "time           157075 non-null object\n",
      "dtypes: object(2)\n",
      "memory usage: 2.4+ MB\n"
     ]
    }
   ],
   "source": [
    "df_checkin.info()"
   ]
  },
  {
   "cell_type": "markdown",
   "metadata": {},
   "source": [
    "### Tip Data"
   ]
  },
  {
   "cell_type": "code",
   "execution_count": 11,
   "metadata": {},
   "outputs": [
    {
     "name": "stdout",
     "output_type": "stream",
     "text": [
      "<class 'pandas.core.frame.DataFrame'>\n",
      "RangeIndex: 1185348 entries, 0 to 1185347\n",
      "Data columns (total 5 columns):\n",
      "business_id    1185348 non-null object\n",
      "date           1185348 non-null object\n",
      "likes          1185348 non-null int64\n",
      "text           1185348 non-null object\n",
      "user_id        1185348 non-null object\n",
      "dtypes: int64(1), object(4)\n",
      "memory usage: 45.2+ MB\n"
     ]
    }
   ],
   "source": [
    "with open(file_tip,encoding=\"utf8\") as f:\n",
    "    df_tip = pd.DataFrame(json.loads(line) for line in f)\n",
    "    \n",
    "df_tip.head(2)\n",
    "df_tip.info()"
   ]
  },
  {
   "cell_type": "markdown",
   "metadata": {},
   "source": [
    "### User Data"
   ]
  },
  {
   "cell_type": "code",
   "execution_count": 12,
   "metadata": {},
   "outputs": [
    {
     "name": "stdout",
     "output_type": "stream",
     "text": [
      "<class 'pandas.core.frame.DataFrame'>\n",
      "RangeIndex: 1518169 entries, 0 to 1518168\n",
      "Data columns (total 22 columns):\n",
      "average_stars         1518169 non-null float64\n",
      "compliment_cool       1518169 non-null int64\n",
      "compliment_cute       1518169 non-null int64\n",
      "compliment_funny      1518169 non-null int64\n",
      "compliment_hot        1518169 non-null int64\n",
      "compliment_list       1518169 non-null int64\n",
      "compliment_more       1518169 non-null int64\n",
      "compliment_note       1518169 non-null int64\n",
      "compliment_photos     1518169 non-null int64\n",
      "compliment_plain      1518169 non-null int64\n",
      "compliment_profile    1518169 non-null int64\n",
      "compliment_writer     1518169 non-null int64\n",
      "cool                  1518169 non-null int64\n",
      "elite                 1518169 non-null object\n",
      "fans                  1518169 non-null int64\n",
      "friends               1518169 non-null object\n",
      "funny                 1518169 non-null int64\n",
      "name                  1518169 non-null object\n",
      "review_count          1518169 non-null int64\n",
      "useful                1518169 non-null int64\n",
      "user_id               1518169 non-null object\n",
      "yelping_since         1518169 non-null object\n",
      "dtypes: float64(1), int64(16), object(5)\n",
      "memory usage: 254.8+ MB\n"
     ]
    }
   ],
   "source": [
    "with open(file_user,encoding=\"utf8\") as f:\n",
    "    df_user = pd.DataFrame(json.loads(line) for line in f)\n",
    "    \n",
    "df_user.head(2)\n",
    "df_user.info()"
   ]
  },
  {
   "cell_type": "markdown",
   "metadata": {},
   "source": [
    "### Review Data"
   ]
  },
  {
   "cell_type": "code",
   "execution_count": 13,
   "metadata": {},
   "outputs": [
    {
     "name": "stdout",
     "output_type": "stream",
     "text": [
      "<class 'pandas.core.frame.DataFrame'>\n",
      "RangeIndex: 5996996 entries, 0 to 5996995\n",
      "Data columns (total 9 columns):\n",
      "business_id    object\n",
      "cool           int64\n",
      "date           object\n",
      "funny          int64\n",
      "review_id      object\n",
      "stars          int64\n",
      "text           object\n",
      "useful         int64\n",
      "user_id        object\n",
      "dtypes: int64(4), object(5)\n",
      "memory usage: 411.8+ MB\n"
     ]
    }
   ],
   "source": [
    "with open(file_review,encoding=\"utf8\") as f:\n",
    "    df_review = pd.DataFrame(json.loads(line) for line in f)\n",
    "    \n",
    "df_review.head(2)\n",
    "df_review.info()"
   ]
  },
  {
   "cell_type": "markdown",
   "metadata": {},
   "source": [
    "## Filter business data by city and category\n",
    "\n",
    "** Create filters/masks **\n",
    "* creat filters that selects business\n",
    "  + that are located in \"Las Vegas\"\n",
    "  + that contains \"Restaurants\" in their category(I may need to filter null categories first)\n",
    " \n",
    "   "
   ]
  },
  {
   "cell_type": "code",
   "execution_count": 14,
   "metadata": {
    "collapsed": true
   },
   "outputs": [],
   "source": [
    "# Create pandas DataFrame filters\n",
    "\n",
    "# city Las Vegas: bool\n",
    "cond_city = df_business['city'] == \"Las Vegas\"\n",
    "\n",
    "# isnull: bool\n",
    "cond_category_not_null = ~df_business['categories'].isnull()\n",
    "\n",
    "#restaurant in categories \n",
    "#first, apply(str) convert categories to strings; then check if it contains Restaurants\n",
    "cond_category_restanrant = df_business['categories'].apply(str).str.contains('Restaurants')"
   ]
  },
  {
   "cell_type": "code",
   "execution_count": 15,
   "metadata": {
    "collapsed": true
   },
   "outputs": [],
   "source": [
    "# Create filtered DataFrame, and name it df_filtered\n",
    "df_filtered = df_business[cond_city&cond_category_not_null&cond_category_restanrant]"
   ]
  },
  {
   "cell_type": "code",
   "execution_count": 16,
   "metadata": {},
   "outputs": [
    {
     "data": {
      "text/html": [
       "<div>\n",
       "<style>\n",
       "    .dataframe thead tr:only-child th {\n",
       "        text-align: right;\n",
       "    }\n",
       "\n",
       "    .dataframe thead th {\n",
       "        text-align: left;\n",
       "    }\n",
       "\n",
       "    .dataframe tbody tr th {\n",
       "        vertical-align: top;\n",
       "    }\n",
       "</style>\n",
       "<table border=\"1\" class=\"dataframe\">\n",
       "  <thead>\n",
       "    <tr style=\"text-align: right;\">\n",
       "      <th></th>\n",
       "      <th>address</th>\n",
       "      <th>attributes</th>\n",
       "      <th>business_id</th>\n",
       "      <th>categories</th>\n",
       "      <th>city</th>\n",
       "      <th>hours</th>\n",
       "      <th>is_open</th>\n",
       "      <th>latitude</th>\n",
       "      <th>longitude</th>\n",
       "      <th>name</th>\n",
       "      <th>neighborhood</th>\n",
       "      <th>postal_code</th>\n",
       "      <th>review_count</th>\n",
       "      <th>stars</th>\n",
       "      <th>state</th>\n",
       "    </tr>\n",
       "  </thead>\n",
       "  <tbody>\n",
       "    <tr>\n",
       "      <th>19</th>\n",
       "      <td>3940 Martin Luther King Blvd, Ste 101</td>\n",
       "      <td>{'BikeParking': 'True', 'BusinessAcceptsCredit...</td>\n",
       "      <td>vJIuDBdu01vCA8y1fwR1OQ</td>\n",
       "      <td>American (Traditional), Food, Bakeries, Restau...</td>\n",
       "      <td>Las Vegas</td>\n",
       "      <td>{'Tuesday': '11:0-18:0', 'Wednesday': '11:0-18...</td>\n",
       "      <td>0</td>\n",
       "      <td>36.192284</td>\n",
       "      <td>-115.159272</td>\n",
       "      <td>CakesbyToi</td>\n",
       "      <td></td>\n",
       "      <td>89106</td>\n",
       "      <td>3</td>\n",
       "      <td>1.5</td>\n",
       "      <td>NV</td>\n",
       "    </tr>\n",
       "    <tr>\n",
       "      <th>32</th>\n",
       "      <td>2255 N Rampart Blvd</td>\n",
       "      <td>{'Alcohol': 'none', 'Ambience': '{'romantic': ...</td>\n",
       "      <td>kgffcoxT6BQp-gJ-UQ7Czw</td>\n",
       "      <td>Fast Food, Restaurants, Sandwiches</td>\n",
       "      <td>Las Vegas</td>\n",
       "      <td>{'Monday': '9:0-21:0', 'Tuesday': '9:0-21:0', ...</td>\n",
       "      <td>1</td>\n",
       "      <td>36.201794</td>\n",
       "      <td>-115.281981</td>\n",
       "      <td>Subway</td>\n",
       "      <td>Summerlin</td>\n",
       "      <td>89128</td>\n",
       "      <td>13</td>\n",
       "      <td>2.5</td>\n",
       "      <td>NV</td>\n",
       "    </tr>\n",
       "    <tr>\n",
       "      <th>33</th>\n",
       "      <td>2227 N Rampart Blvd</td>\n",
       "      <td>{'Alcohol': 'beer_and_wine', 'Ambience': '{'ro...</td>\n",
       "      <td>0jtRI7hVMpQHpUVtUy4ITw</td>\n",
       "      <td>Beer, Wine &amp; Spirits, Italian, Food, American ...</td>\n",
       "      <td>Las Vegas</td>\n",
       "      <td>{'Monday': '7:0-14:30', 'Tuesday': '7:0-19:0',...</td>\n",
       "      <td>1</td>\n",
       "      <td>36.201990</td>\n",
       "      <td>-115.283122</td>\n",
       "      <td>Omelet House Summerlin</td>\n",
       "      <td>Summerlin</td>\n",
       "      <td>89128</td>\n",
       "      <td>242</td>\n",
       "      <td>4.0</td>\n",
       "      <td>NV</td>\n",
       "    </tr>\n",
       "    <tr>\n",
       "      <th>61</th>\n",
       "      <td>7930 W Tropical Pkwy</td>\n",
       "      <td>{'HasTV': 'False', 'RestaurantsReservations': ...</td>\n",
       "      <td>JJEx5wIqs9iGGATOagE8Sg</td>\n",
       "      <td>Mexican, Restaurants</td>\n",
       "      <td>Las Vegas</td>\n",
       "      <td>None</td>\n",
       "      <td>0</td>\n",
       "      <td>36.271169</td>\n",
       "      <td>-115.267759</td>\n",
       "      <td>Baja Fresh Mexican Grill</td>\n",
       "      <td>Centennial</td>\n",
       "      <td>89149</td>\n",
       "      <td>4</td>\n",
       "      <td>2.0</td>\n",
       "      <td>NV</td>\n",
       "    </tr>\n",
       "    <tr>\n",
       "      <th>141</th>\n",
       "      <td>4505 E Bonanza Rd</td>\n",
       "      <td>{'Alcohol': 'none', 'Ambience': '{'romantic': ...</td>\n",
       "      <td>zhxnD7J5_sCrKSw5cwI9dQ</td>\n",
       "      <td>Chicken Wings, Restaurants, Fast Food</td>\n",
       "      <td>Las Vegas</td>\n",
       "      <td>{'Monday': '10:0-23:0', 'Tuesday': '10:0-23:0'...</td>\n",
       "      <td>1</td>\n",
       "      <td>36.173140</td>\n",
       "      <td>-115.077945</td>\n",
       "      <td>Popeyes Louisiana Kitchen</td>\n",
       "      <td>Sunrise</td>\n",
       "      <td>89110</td>\n",
       "      <td>16</td>\n",
       "      <td>1.5</td>\n",
       "      <td>NV</td>\n",
       "    </tr>\n",
       "  </tbody>\n",
       "</table>\n",
       "</div>"
      ],
      "text/plain": [
       "                                   address  \\\n",
       "19   3940 Martin Luther King Blvd, Ste 101   \n",
       "32                     2255 N Rampart Blvd   \n",
       "33                     2227 N Rampart Blvd   \n",
       "61                    7930 W Tropical Pkwy   \n",
       "141                      4505 E Bonanza Rd   \n",
       "\n",
       "                                            attributes  \\\n",
       "19   {'BikeParking': 'True', 'BusinessAcceptsCredit...   \n",
       "32   {'Alcohol': 'none', 'Ambience': '{'romantic': ...   \n",
       "33   {'Alcohol': 'beer_and_wine', 'Ambience': '{'ro...   \n",
       "61   {'HasTV': 'False', 'RestaurantsReservations': ...   \n",
       "141  {'Alcohol': 'none', 'Ambience': '{'romantic': ...   \n",
       "\n",
       "                business_id  \\\n",
       "19   vJIuDBdu01vCA8y1fwR1OQ   \n",
       "32   kgffcoxT6BQp-gJ-UQ7Czw   \n",
       "33   0jtRI7hVMpQHpUVtUy4ITw   \n",
       "61   JJEx5wIqs9iGGATOagE8Sg   \n",
       "141  zhxnD7J5_sCrKSw5cwI9dQ   \n",
       "\n",
       "                                            categories       city  \\\n",
       "19   American (Traditional), Food, Bakeries, Restau...  Las Vegas   \n",
       "32                  Fast Food, Restaurants, Sandwiches  Las Vegas   \n",
       "33   Beer, Wine & Spirits, Italian, Food, American ...  Las Vegas   \n",
       "61                                Mexican, Restaurants  Las Vegas   \n",
       "141              Chicken Wings, Restaurants, Fast Food  Las Vegas   \n",
       "\n",
       "                                                 hours  is_open   latitude  \\\n",
       "19   {'Tuesday': '11:0-18:0', 'Wednesday': '11:0-18...        0  36.192284   \n",
       "32   {'Monday': '9:0-21:0', 'Tuesday': '9:0-21:0', ...        1  36.201794   \n",
       "33   {'Monday': '7:0-14:30', 'Tuesday': '7:0-19:0',...        1  36.201990   \n",
       "61                                                None        0  36.271169   \n",
       "141  {'Monday': '10:0-23:0', 'Tuesday': '10:0-23:0'...        1  36.173140   \n",
       "\n",
       "      longitude                       name neighborhood postal_code  \\\n",
       "19  -115.159272                 CakesbyToi                    89106   \n",
       "32  -115.281981                     Subway    Summerlin       89128   \n",
       "33  -115.283122     Omelet House Summerlin    Summerlin       89128   \n",
       "61  -115.267759   Baja Fresh Mexican Grill   Centennial       89149   \n",
       "141 -115.077945  Popeyes Louisiana Kitchen      Sunrise       89110   \n",
       "\n",
       "     review_count  stars state  \n",
       "19              3    1.5    NV  \n",
       "32             13    2.5    NV  \n",
       "33            242    4.0    NV  \n",
       "61              4    2.0    NV  \n",
       "141            16    1.5    NV  "
      ]
     },
     "execution_count": 16,
     "metadata": {},
     "output_type": "execute_result"
    }
   ],
   "source": [
    "df_filtered.head()"
   ]
  },
  {
   "cell_type": "markdown",
   "metadata": {},
   "source": [
    "**Keep relevant columns**\n",
    "* Only keep some useful columns\n",
    "  * business_id\n",
    "  * name \n",
    "  * categories\n",
    "  * stars"
   ]
  },
  {
   "cell_type": "code",
   "execution_count": 17,
   "metadata": {
    "collapsed": true
   },
   "outputs": [],
   "source": [
    "selected_features= [u'business_id', u'name', u'categories', u'stars']"
   ]
  },
  {
   "cell_type": "code",
   "execution_count": 18,
   "metadata": {},
   "outputs": [
    {
     "data": {
      "text/html": [
       "<div>\n",
       "<style>\n",
       "    .dataframe thead tr:only-child th {\n",
       "        text-align: right;\n",
       "    }\n",
       "\n",
       "    .dataframe thead th {\n",
       "        text-align: left;\n",
       "    }\n",
       "\n",
       "    .dataframe tbody tr th {\n",
       "        vertical-align: top;\n",
       "    }\n",
       "</style>\n",
       "<table border=\"1\" class=\"dataframe\">\n",
       "  <thead>\n",
       "    <tr style=\"text-align: right;\">\n",
       "      <th></th>\n",
       "      <th>business_id</th>\n",
       "      <th>name</th>\n",
       "      <th>categories</th>\n",
       "      <th>stars</th>\n",
       "    </tr>\n",
       "  </thead>\n",
       "  <tbody>\n",
       "    <tr>\n",
       "      <th>19</th>\n",
       "      <td>vJIuDBdu01vCA8y1fwR1OQ</td>\n",
       "      <td>CakesbyToi</td>\n",
       "      <td>American (Traditional), Food, Bakeries, Restau...</td>\n",
       "      <td>1.5</td>\n",
       "    </tr>\n",
       "    <tr>\n",
       "      <th>32</th>\n",
       "      <td>kgffcoxT6BQp-gJ-UQ7Czw</td>\n",
       "      <td>Subway</td>\n",
       "      <td>Fast Food, Restaurants, Sandwiches</td>\n",
       "      <td>2.5</td>\n",
       "    </tr>\n",
       "  </tbody>\n",
       "</table>\n",
       "</div>"
      ],
      "text/plain": [
       "               business_id        name  \\\n",
       "19  vJIuDBdu01vCA8y1fwR1OQ  CakesbyToi   \n",
       "32  kgffcoxT6BQp-gJ-UQ7Czw      Subway   \n",
       "\n",
       "                                           categories  stars  \n",
       "19  American (Traditional), Food, Bakeries, Restau...    1.5  \n",
       "32                 Fast Food, Restaurants, Sandwiches    2.5  "
      ]
     },
     "execution_count": 18,
     "metadata": {},
     "output_type": "execute_result"
    }
   ],
   "source": [
    "# Make a DataFrame that contains only the abovementioned columns, and name it as df_selected_business\n",
    "df_selected_business = df_filtered[selected_features]\n",
    "df_selected_business.head(2)"
   ]
  },
  {
   "cell_type": "code",
   "execution_count": 19,
   "metadata": {},
   "outputs": [
    {
     "name": "stderr",
     "output_type": "stream",
     "text": [
      "C:\\Users\\tinag\\AnacondaProjects\\lib\\site-packages\\pandas\\core\\frame.py:2746: SettingWithCopyWarning: \n",
      "A value is trying to be set on a copy of a slice from a DataFrame\n",
      "\n",
      "See the caveats in the documentation: http://pandas.pydata.org/pandas-docs/stable/indexing.html#indexing-view-versus-copy\n",
      "  **kwargs)\n"
     ]
    },
    {
     "data": {
      "text/html": [
       "<div>\n",
       "<style>\n",
       "    .dataframe thead tr:only-child th {\n",
       "        text-align: right;\n",
       "    }\n",
       "\n",
       "    .dataframe thead th {\n",
       "        text-align: left;\n",
       "    }\n",
       "\n",
       "    .dataframe tbody tr th {\n",
       "        vertical-align: top;\n",
       "    }\n",
       "</style>\n",
       "<table border=\"1\" class=\"dataframe\">\n",
       "  <thead>\n",
       "    <tr style=\"text-align: right;\">\n",
       "      <th></th>\n",
       "      <th>business_id</th>\n",
       "      <th>name</th>\n",
       "      <th>categories</th>\n",
       "      <th>avg_stars</th>\n",
       "    </tr>\n",
       "  </thead>\n",
       "  <tbody>\n",
       "    <tr>\n",
       "      <th>19</th>\n",
       "      <td>vJIuDBdu01vCA8y1fwR1OQ</td>\n",
       "      <td>CakesbyToi</td>\n",
       "      <td>American (Traditional), Food, Bakeries, Restau...</td>\n",
       "      <td>1.5</td>\n",
       "    </tr>\n",
       "    <tr>\n",
       "      <th>32</th>\n",
       "      <td>kgffcoxT6BQp-gJ-UQ7Czw</td>\n",
       "      <td>Subway</td>\n",
       "      <td>Fast Food, Restaurants, Sandwiches</td>\n",
       "      <td>2.5</td>\n",
       "    </tr>\n",
       "    <tr>\n",
       "      <th>33</th>\n",
       "      <td>0jtRI7hVMpQHpUVtUy4ITw</td>\n",
       "      <td>Omelet House Summerlin</td>\n",
       "      <td>Beer, Wine &amp; Spirits, Italian, Food, American ...</td>\n",
       "      <td>4.0</td>\n",
       "    </tr>\n",
       "    <tr>\n",
       "      <th>61</th>\n",
       "      <td>JJEx5wIqs9iGGATOagE8Sg</td>\n",
       "      <td>Baja Fresh Mexican Grill</td>\n",
       "      <td>Mexican, Restaurants</td>\n",
       "      <td>2.0</td>\n",
       "    </tr>\n",
       "    <tr>\n",
       "      <th>141</th>\n",
       "      <td>zhxnD7J5_sCrKSw5cwI9dQ</td>\n",
       "      <td>Popeyes Louisiana Kitchen</td>\n",
       "      <td>Chicken Wings, Restaurants, Fast Food</td>\n",
       "      <td>1.5</td>\n",
       "    </tr>\n",
       "  </tbody>\n",
       "</table>\n",
       "</div>"
      ],
      "text/plain": [
       "                business_id                       name  \\\n",
       "19   vJIuDBdu01vCA8y1fwR1OQ                 CakesbyToi   \n",
       "32   kgffcoxT6BQp-gJ-UQ7Czw                     Subway   \n",
       "33   0jtRI7hVMpQHpUVtUy4ITw     Omelet House Summerlin   \n",
       "61   JJEx5wIqs9iGGATOagE8Sg   Baja Fresh Mexican Grill   \n",
       "141  zhxnD7J5_sCrKSw5cwI9dQ  Popeyes Louisiana Kitchen   \n",
       "\n",
       "                                            categories  avg_stars  \n",
       "19   American (Traditional), Food, Bakeries, Restau...        1.5  \n",
       "32                  Fast Food, Restaurants, Sandwiches        2.5  \n",
       "33   Beer, Wine & Spirits, Italian, Food, American ...        4.0  \n",
       "61                                Mexican, Restaurants        2.0  \n",
       "141              Chicken Wings, Restaurants, Fast Food        1.5  "
      ]
     },
     "execution_count": 19,
     "metadata": {},
     "output_type": "execute_result"
    }
   ],
   "source": [
    "# Rename the column name \"stars\" to \"avg_stars\" to avoid naming conflicts with review dataset\n",
    "df_selected_business.rename(index = str, columns={\"stars\":\"avg_stars\"}, inplace = True)\n",
    "df_selected_business.head()"
   ]
  },
  {
   "cell_type": "code",
   "execution_count": 20,
   "metadata": {},
   "outputs": [
    {
     "name": "stdout",
     "output_type": "stream",
     "text": [
      "<class 'pandas.core.frame.DataFrame'>\n",
      "Index: 6148 entries, 19 to 188567\n",
      "Data columns (total 4 columns):\n",
      "business_id    6148 non-null object\n",
      "name           6148 non-null object\n",
      "categories     6148 non-null object\n",
      "avg_stars      6148 non-null float64\n",
      "dtypes: float64(1), object(3)\n",
      "memory usage: 240.2+ KB\n"
     ]
    }
   ],
   "source": [
    "# Check the infomation\n",
    "\n",
    "df_selected_business.info()"
   ]
  },
  {
   "cell_type": "markdown",
   "metadata": {},
   "source": [
    "### Save the result to csv files"
   ]
  },
  {
   "cell_type": "code",
   "execution_count": 21,
   "metadata": {
    "collapsed": true
   },
   "outputs": [],
   "source": [
    "# Save to /selected_business.csv for the next steps\n",
    "df_selected_business.to_csv(\"select_business.csv\", index = False, encoding = 'utf8')"
   ]
  },
  {
   "cell_type": "code",
   "execution_count": 22,
   "metadata": {},
   "outputs": [
    {
     "data": {
      "text/html": [
       "<div>\n",
       "<style>\n",
       "    .dataframe thead tr:only-child th {\n",
       "        text-align: right;\n",
       "    }\n",
       "\n",
       "    .dataframe thead th {\n",
       "        text-align: left;\n",
       "    }\n",
       "\n",
       "    .dataframe tbody tr th {\n",
       "        vertical-align: top;\n",
       "    }\n",
       "</style>\n",
       "<table border=\"1\" class=\"dataframe\">\n",
       "  <thead>\n",
       "    <tr style=\"text-align: right;\">\n",
       "      <th></th>\n",
       "      <th>business_id</th>\n",
       "      <th>name</th>\n",
       "      <th>categories</th>\n",
       "      <th>avg_stars</th>\n",
       "    </tr>\n",
       "  </thead>\n",
       "  <tbody>\n",
       "    <tr>\n",
       "      <th>0</th>\n",
       "      <td>vJIuDBdu01vCA8y1fwR1OQ</td>\n",
       "      <td>CakesbyToi</td>\n",
       "      <td>American (Traditional), Food, Bakeries, Restau...</td>\n",
       "      <td>1.5</td>\n",
       "    </tr>\n",
       "    <tr>\n",
       "      <th>1</th>\n",
       "      <td>kgffcoxT6BQp-gJ-UQ7Czw</td>\n",
       "      <td>Subway</td>\n",
       "      <td>Fast Food, Restaurants, Sandwiches</td>\n",
       "      <td>2.5</td>\n",
       "    </tr>\n",
       "    <tr>\n",
       "      <th>2</th>\n",
       "      <td>0jtRI7hVMpQHpUVtUy4ITw</td>\n",
       "      <td>Omelet House Summerlin</td>\n",
       "      <td>Beer, Wine &amp; Spirits, Italian, Food, American ...</td>\n",
       "      <td>4.0</td>\n",
       "    </tr>\n",
       "    <tr>\n",
       "      <th>3</th>\n",
       "      <td>JJEx5wIqs9iGGATOagE8Sg</td>\n",
       "      <td>Baja Fresh Mexican Grill</td>\n",
       "      <td>Mexican, Restaurants</td>\n",
       "      <td>2.0</td>\n",
       "    </tr>\n",
       "    <tr>\n",
       "      <th>4</th>\n",
       "      <td>zhxnD7J5_sCrKSw5cwI9dQ</td>\n",
       "      <td>Popeyes Louisiana Kitchen</td>\n",
       "      <td>Chicken Wings, Restaurants, Fast Food</td>\n",
       "      <td>1.5</td>\n",
       "    </tr>\n",
       "  </tbody>\n",
       "</table>\n",
       "</div>"
      ],
      "text/plain": [
       "              business_id                       name  \\\n",
       "0  vJIuDBdu01vCA8y1fwR1OQ                 CakesbyToi   \n",
       "1  kgffcoxT6BQp-gJ-UQ7Czw                     Subway   \n",
       "2  0jtRI7hVMpQHpUVtUy4ITw     Omelet House Summerlin   \n",
       "3  JJEx5wIqs9iGGATOagE8Sg   Baja Fresh Mexican Grill   \n",
       "4  zhxnD7J5_sCrKSw5cwI9dQ  Popeyes Louisiana Kitchen   \n",
       "\n",
       "                                          categories  avg_stars  \n",
       "0  American (Traditional), Food, Bakeries, Restau...        1.5  \n",
       "1                 Fast Food, Restaurants, Sandwiches        2.5  \n",
       "2  Beer, Wine & Spirits, Italian, Food, American ...        4.0  \n",
       "3                               Mexican, Restaurants        2.0  \n",
       "4              Chicken Wings, Restaurants, Fast Food        1.5  "
      ]
     },
     "execution_count": 22,
     "metadata": {},
     "output_type": "execute_result"
    }
   ],
   "source": [
    "# Try to reload the csv file and check if it works\n",
    "pd.read_csv(\"select_business.csv\", encoding = 'utf8').head()"
   ]
  },
  {
   "cell_type": "markdown",
   "metadata": {},
   "source": [
    "## Filter review data by \"business_id\"\n",
    "* We want to make a DataFrame that contain and only contain the reviews about the business entities we just obtained\n",
    "\n",
    "** Load review dataset**\n"
   ]
  },
  {
   "cell_type": "code",
   "execution_count": 27,
   "metadata": {},
   "outputs": [],
   "source": [
    "df_left = df_selected_business.set_index('business_id')\n",
    "\n",
    "df_right  = df_review.set_index('business_id')\n",
    "    \n",
    "#use inner join to join df_left and df_right\n",
    "df_joined = df_left.join(df_right, how = 'inner')\n",
    "df_joined.reset_index(inplace = True)\n",
    "    \n",
    "\n",
    "del df_review\n",
    "del df_right"
   ]
  },
  {
   "cell_type": "markdown",
   "metadata": {},
   "source": [
    "My computer moving so slow, I will filter data by date, keep comments from last 2 years\n",
    "* otherwise my laptop may crush on memory when running machine learning algorithm\n",
    "* purposefully ignoring the reviews made too long time ago"
   ]
  },
  {
   "cell_type": "code",
   "execution_count": 30,
   "metadata": {},
   "outputs": [],
   "source": [
    "# Make a filter that selects date after 2016-09-01\n",
    "cond_last_2years = df_joined['date']> u'2016-09-01'"
   ]
  },
  {
   "cell_type": "code",
   "execution_count": 32,
   "metadata": {},
   "outputs": [],
   "source": [
    "# Filter df_final\n",
    "df_final = df_joined[cond_last_2years]"
   ]
  },
  {
   "cell_type": "code",
   "execution_count": 33,
   "metadata": {},
   "outputs": [
    {
     "data": {
      "text/html": [
       "<div>\n",
       "<style>\n",
       "    .dataframe thead tr:only-child th {\n",
       "        text-align: right;\n",
       "    }\n",
       "\n",
       "    .dataframe thead th {\n",
       "        text-align: left;\n",
       "    }\n",
       "\n",
       "    .dataframe tbody tr th {\n",
       "        vertical-align: top;\n",
       "    }\n",
       "</style>\n",
       "<table border=\"1\" class=\"dataframe\">\n",
       "  <thead>\n",
       "    <tr style=\"text-align: right;\">\n",
       "      <th></th>\n",
       "      <th>business_id</th>\n",
       "      <th>name</th>\n",
       "      <th>categories</th>\n",
       "      <th>avg_stars</th>\n",
       "      <th>cool</th>\n",
       "      <th>date</th>\n",
       "      <th>funny</th>\n",
       "      <th>review_id</th>\n",
       "      <th>stars</th>\n",
       "      <th>text</th>\n",
       "      <th>useful</th>\n",
       "      <th>user_id</th>\n",
       "    </tr>\n",
       "  </thead>\n",
       "  <tbody>\n",
       "    <tr>\n",
       "      <th>1</th>\n",
       "      <td>--9e1ONYQuAa-CB_Rrw7Tw</td>\n",
       "      <td>Delmonico Steakhouse</td>\n",
       "      <td>Steakhouses, Restaurants, Cajun/Creole</td>\n",
       "      <td>4.0</td>\n",
       "      <td>0</td>\n",
       "      <td>2017-02-14</td>\n",
       "      <td>0</td>\n",
       "      <td>VETXTwMw6qxzOVDlXfe6Tg</td>\n",
       "      <td>5</td>\n",
       "      <td>went for dinner tonight. Amazing my husband ha...</td>\n",
       "      <td>0</td>\n",
       "      <td>ymlnR8UeFvB4FZL56tCZsA</td>\n",
       "    </tr>\n",
       "    <tr>\n",
       "      <th>6</th>\n",
       "      <td>--9e1ONYQuAa-CB_Rrw7Tw</td>\n",
       "      <td>Delmonico Steakhouse</td>\n",
       "      <td>Steakhouses, Restaurants, Cajun/Creole</td>\n",
       "      <td>4.0</td>\n",
       "      <td>0</td>\n",
       "      <td>2017-12-04</td>\n",
       "      <td>0</td>\n",
       "      <td>S8-8uZ7fa5YbjnEtaW15ng</td>\n",
       "      <td>5</td>\n",
       "      <td>This was an amazing dinning experience! ORDER ...</td>\n",
       "      <td>0</td>\n",
       "      <td>9pSSL6X6lFpY3FCRLEH3og</td>\n",
       "    </tr>\n",
       "    <tr>\n",
       "      <th>15</th>\n",
       "      <td>--9e1ONYQuAa-CB_Rrw7Tw</td>\n",
       "      <td>Delmonico Steakhouse</td>\n",
       "      <td>Steakhouses, Restaurants, Cajun/Creole</td>\n",
       "      <td>4.0</td>\n",
       "      <td>0</td>\n",
       "      <td>2016-09-13</td>\n",
       "      <td>0</td>\n",
       "      <td>N1Z93BthdJ7FT2p5S22jIA</td>\n",
       "      <td>3</td>\n",
       "      <td>Went for a nice anniversary dinner. Researched...</td>\n",
       "      <td>0</td>\n",
       "      <td>CEtidlXNyQzgJSdF1ubPFw</td>\n",
       "    </tr>\n",
       "    <tr>\n",
       "      <th>31</th>\n",
       "      <td>--9e1ONYQuAa-CB_Rrw7Tw</td>\n",
       "      <td>Delmonico Steakhouse</td>\n",
       "      <td>Steakhouses, Restaurants, Cajun/Creole</td>\n",
       "      <td>4.0</td>\n",
       "      <td>0</td>\n",
       "      <td>2017-05-20</td>\n",
       "      <td>0</td>\n",
       "      <td>Pnkrj90xfykhHyo4BSFRsw</td>\n",
       "      <td>5</td>\n",
       "      <td>ABSOLUTE MUST IN VEGAS! Loved everything my bo...</td>\n",
       "      <td>0</td>\n",
       "      <td>cZVQGCZ_fHtTdfiyGVJPdg</td>\n",
       "    </tr>\n",
       "    <tr>\n",
       "      <th>45</th>\n",
       "      <td>--9e1ONYQuAa-CB_Rrw7Tw</td>\n",
       "      <td>Delmonico Steakhouse</td>\n",
       "      <td>Steakhouses, Restaurants, Cajun/Creole</td>\n",
       "      <td>4.0</td>\n",
       "      <td>0</td>\n",
       "      <td>2017-12-30</td>\n",
       "      <td>0</td>\n",
       "      <td>Oeh7e6U2xaDQI9L9i4x_Gw</td>\n",
       "      <td>2</td>\n",
       "      <td>I had high hopes for Delmonico's Steakhouse in...</td>\n",
       "      <td>0</td>\n",
       "      <td>li2cBZl60vgqihDJJG7jeA</td>\n",
       "    </tr>\n",
       "  </tbody>\n",
       "</table>\n",
       "</div>"
      ],
      "text/plain": [
       "               business_id                  name  \\\n",
       "1   --9e1ONYQuAa-CB_Rrw7Tw  Delmonico Steakhouse   \n",
       "6   --9e1ONYQuAa-CB_Rrw7Tw  Delmonico Steakhouse   \n",
       "15  --9e1ONYQuAa-CB_Rrw7Tw  Delmonico Steakhouse   \n",
       "31  --9e1ONYQuAa-CB_Rrw7Tw  Delmonico Steakhouse   \n",
       "45  --9e1ONYQuAa-CB_Rrw7Tw  Delmonico Steakhouse   \n",
       "\n",
       "                                categories  avg_stars  cool        date  \\\n",
       "1   Steakhouses, Restaurants, Cajun/Creole        4.0     0  2017-02-14   \n",
       "6   Steakhouses, Restaurants, Cajun/Creole        4.0     0  2017-12-04   \n",
       "15  Steakhouses, Restaurants, Cajun/Creole        4.0     0  2016-09-13   \n",
       "31  Steakhouses, Restaurants, Cajun/Creole        4.0     0  2017-05-20   \n",
       "45  Steakhouses, Restaurants, Cajun/Creole        4.0     0  2017-12-30   \n",
       "\n",
       "    funny               review_id  stars  \\\n",
       "1       0  VETXTwMw6qxzOVDlXfe6Tg      5   \n",
       "6       0  S8-8uZ7fa5YbjnEtaW15ng      5   \n",
       "15      0  N1Z93BthdJ7FT2p5S22jIA      3   \n",
       "31      0  Pnkrj90xfykhHyo4BSFRsw      5   \n",
       "45      0  Oeh7e6U2xaDQI9L9i4x_Gw      2   \n",
       "\n",
       "                                                 text  useful  \\\n",
       "1   went for dinner tonight. Amazing my husband ha...       0   \n",
       "6   This was an amazing dinning experience! ORDER ...       0   \n",
       "15  Went for a nice anniversary dinner. Researched...       0   \n",
       "31  ABSOLUTE MUST IN VEGAS! Loved everything my bo...       0   \n",
       "45  I had high hopes for Delmonico's Steakhouse in...       0   \n",
       "\n",
       "                   user_id  \n",
       "1   ymlnR8UeFvB4FZL56tCZsA  \n",
       "6   9pSSL6X6lFpY3FCRLEH3og  \n",
       "15  CEtidlXNyQzgJSdF1ubPFw  \n",
       "31  cZVQGCZ_fHtTdfiyGVJPdg  \n",
       "45  li2cBZl60vgqihDJJG7jeA  "
      ]
     },
     "execution_count": 33,
     "metadata": {},
     "output_type": "execute_result"
    }
   ],
   "source": [
    "df_final.head()"
   ]
  },
  {
   "cell_type": "markdown",
   "metadata": {},
   "source": [
    "## Save the preprocessed dataset to csv file\n",
    "\n",
    "I don't want to run everything again"
   ]
  },
  {
   "cell_type": "code",
   "execution_count": 34,
   "metadata": {
    "collapsed": true
   },
   "outputs": [],
   "source": [
    "df_final.to_csv('last_2_years_restaurant_reviews.csv', index= False, encoding='utf8')"
   ]
  },
  {
   "cell_type": "code",
   "execution_count": 36,
   "metadata": {},
   "outputs": [
    {
     "data": {
      "text/html": [
       "<div>\n",
       "<style>\n",
       "    .dataframe thead tr:only-child th {\n",
       "        text-align: right;\n",
       "    }\n",
       "\n",
       "    .dataframe thead th {\n",
       "        text-align: left;\n",
       "    }\n",
       "\n",
       "    .dataframe tbody tr th {\n",
       "        vertical-align: top;\n",
       "    }\n",
       "</style>\n",
       "<table border=\"1\" class=\"dataframe\">\n",
       "  <thead>\n",
       "    <tr style=\"text-align: right;\">\n",
       "      <th></th>\n",
       "      <th>business_id</th>\n",
       "      <th>name</th>\n",
       "      <th>categories</th>\n",
       "      <th>avg_stars</th>\n",
       "      <th>cool</th>\n",
       "      <th>date</th>\n",
       "      <th>funny</th>\n",
       "      <th>review_id</th>\n",
       "      <th>stars</th>\n",
       "      <th>text</th>\n",
       "      <th>useful</th>\n",
       "      <th>user_id</th>\n",
       "    </tr>\n",
       "  </thead>\n",
       "  <tbody>\n",
       "    <tr>\n",
       "      <th>0</th>\n",
       "      <td>--9e1ONYQuAa-CB_Rrw7Tw</td>\n",
       "      <td>Delmonico Steakhouse</td>\n",
       "      <td>Steakhouses, Restaurants, Cajun/Creole</td>\n",
       "      <td>4.0</td>\n",
       "      <td>0</td>\n",
       "      <td>2017-02-14</td>\n",
       "      <td>0</td>\n",
       "      <td>VETXTwMw6qxzOVDlXfe6Tg</td>\n",
       "      <td>5</td>\n",
       "      <td>went for dinner tonight. Amazing my husband ha...</td>\n",
       "      <td>0</td>\n",
       "      <td>ymlnR8UeFvB4FZL56tCZsA</td>\n",
       "    </tr>\n",
       "    <tr>\n",
       "      <th>1</th>\n",
       "      <td>--9e1ONYQuAa-CB_Rrw7Tw</td>\n",
       "      <td>Delmonico Steakhouse</td>\n",
       "      <td>Steakhouses, Restaurants, Cajun/Creole</td>\n",
       "      <td>4.0</td>\n",
       "      <td>0</td>\n",
       "      <td>2017-12-04</td>\n",
       "      <td>0</td>\n",
       "      <td>S8-8uZ7fa5YbjnEtaW15ng</td>\n",
       "      <td>5</td>\n",
       "      <td>This was an amazing dinning experience! ORDER ...</td>\n",
       "      <td>0</td>\n",
       "      <td>9pSSL6X6lFpY3FCRLEH3og</td>\n",
       "    </tr>\n",
       "    <tr>\n",
       "      <th>2</th>\n",
       "      <td>--9e1ONYQuAa-CB_Rrw7Tw</td>\n",
       "      <td>Delmonico Steakhouse</td>\n",
       "      <td>Steakhouses, Restaurants, Cajun/Creole</td>\n",
       "      <td>4.0</td>\n",
       "      <td>0</td>\n",
       "      <td>2016-09-13</td>\n",
       "      <td>0</td>\n",
       "      <td>N1Z93BthdJ7FT2p5S22jIA</td>\n",
       "      <td>3</td>\n",
       "      <td>Went for a nice anniversary dinner. Researched...</td>\n",
       "      <td>0</td>\n",
       "      <td>CEtidlXNyQzgJSdF1ubPFw</td>\n",
       "    </tr>\n",
       "    <tr>\n",
       "      <th>3</th>\n",
       "      <td>--9e1ONYQuAa-CB_Rrw7Tw</td>\n",
       "      <td>Delmonico Steakhouse</td>\n",
       "      <td>Steakhouses, Restaurants, Cajun/Creole</td>\n",
       "      <td>4.0</td>\n",
       "      <td>0</td>\n",
       "      <td>2017-05-20</td>\n",
       "      <td>0</td>\n",
       "      <td>Pnkrj90xfykhHyo4BSFRsw</td>\n",
       "      <td>5</td>\n",
       "      <td>ABSOLUTE MUST IN VEGAS! Loved everything my bo...</td>\n",
       "      <td>0</td>\n",
       "      <td>cZVQGCZ_fHtTdfiyGVJPdg</td>\n",
       "    </tr>\n",
       "    <tr>\n",
       "      <th>4</th>\n",
       "      <td>--9e1ONYQuAa-CB_Rrw7Tw</td>\n",
       "      <td>Delmonico Steakhouse</td>\n",
       "      <td>Steakhouses, Restaurants, Cajun/Creole</td>\n",
       "      <td>4.0</td>\n",
       "      <td>0</td>\n",
       "      <td>2017-12-30</td>\n",
       "      <td>0</td>\n",
       "      <td>Oeh7e6U2xaDQI9L9i4x_Gw</td>\n",
       "      <td>2</td>\n",
       "      <td>I had high hopes for Delmonico's Steakhouse in...</td>\n",
       "      <td>0</td>\n",
       "      <td>li2cBZl60vgqihDJJG7jeA</td>\n",
       "    </tr>\n",
       "  </tbody>\n",
       "</table>\n",
       "</div>"
      ],
      "text/plain": [
       "              business_id                  name  \\\n",
       "0  --9e1ONYQuAa-CB_Rrw7Tw  Delmonico Steakhouse   \n",
       "1  --9e1ONYQuAa-CB_Rrw7Tw  Delmonico Steakhouse   \n",
       "2  --9e1ONYQuAa-CB_Rrw7Tw  Delmonico Steakhouse   \n",
       "3  --9e1ONYQuAa-CB_Rrw7Tw  Delmonico Steakhouse   \n",
       "4  --9e1ONYQuAa-CB_Rrw7Tw  Delmonico Steakhouse   \n",
       "\n",
       "                               categories  avg_stars  cool        date  funny  \\\n",
       "0  Steakhouses, Restaurants, Cajun/Creole        4.0     0  2017-02-14      0   \n",
       "1  Steakhouses, Restaurants, Cajun/Creole        4.0     0  2017-12-04      0   \n",
       "2  Steakhouses, Restaurants, Cajun/Creole        4.0     0  2016-09-13      0   \n",
       "3  Steakhouses, Restaurants, Cajun/Creole        4.0     0  2017-05-20      0   \n",
       "4  Steakhouses, Restaurants, Cajun/Creole        4.0     0  2017-12-30      0   \n",
       "\n",
       "                review_id  stars  \\\n",
       "0  VETXTwMw6qxzOVDlXfe6Tg      5   \n",
       "1  S8-8uZ7fa5YbjnEtaW15ng      5   \n",
       "2  N1Z93BthdJ7FT2p5S22jIA      3   \n",
       "3  Pnkrj90xfykhHyo4BSFRsw      5   \n",
       "4  Oeh7e6U2xaDQI9L9i4x_Gw      2   \n",
       "\n",
       "                                                text  useful  \\\n",
       "0  went for dinner tonight. Amazing my husband ha...       0   \n",
       "1  This was an amazing dinning experience! ORDER ...       0   \n",
       "2  Went for a nice anniversary dinner. Researched...       0   \n",
       "3  ABSOLUTE MUST IN VEGAS! Loved everything my bo...       0   \n",
       "4  I had high hopes for Delmonico's Steakhouse in...       0   \n",
       "\n",
       "                  user_id  \n",
       "0  ymlnR8UeFvB4FZL56tCZsA  \n",
       "1  9pSSL6X6lFpY3FCRLEH3og  \n",
       "2  CEtidlXNyQzgJSdF1ubPFw  \n",
       "3  cZVQGCZ_fHtTdfiyGVJPdg  \n",
       "4  li2cBZl60vgqihDJJG7jeA  "
      ]
     },
     "execution_count": 36,
     "metadata": {},
     "output_type": "execute_result"
    }
   ],
   "source": [
    "# test if it works\n",
    "pd.read_csv('last_2_years_restaurant_reviews.csv', encoding = 'utf8').head()"
   ]
  }
 ],
 "metadata": {
  "kernelspec": {
   "display_name": "Python 3",
   "language": "python",
   "name": "python3"
  },
  "language_info": {
   "codemirror_mode": {
    "name": "ipython",
    "version": 3
   },
   "file_extension": ".py",
   "mimetype": "text/x-python",
   "name": "python",
   "nbconvert_exporter": "python",
   "pygments_lexer": "ipython3",
   "version": "3.6.3"
  }
 },
 "nbformat": 4,
 "nbformat_minor": 2
}
