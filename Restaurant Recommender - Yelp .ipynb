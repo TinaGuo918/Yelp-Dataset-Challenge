{
 "cells": [
  {
   "cell_type": "code",
   "execution_count": 1,
   "metadata": {},
   "outputs": [
    {
     "name": "stderr",
     "output_type": "stream",
     "text": [
      "/Users/tina/anaconda3/envs/gl-env/lib/python2.7/site-packages/matplotlib/font_manager.py:273: UserWarning: Matplotlib is building the font cache using fc-list. This may take a moment.\n",
      "  warnings.warn('Matplotlib is building the font cache using fc-list. This may take a moment.')\n"
     ]
    }
   ],
   "source": [
    "# Load library\n",
    "import pandas as pd\n",
    "import numpy as np\n",
    "import matplotlib.pyplot as plt\n",
    "% matplotlib inline\n",
    "plt.style.use('ggplot')\n",
    "import warnings\n",
    "warnings.filterwarnings(\"ignore\")"
   ]
  },
  {
   "cell_type": "code",
   "execution_count": 2,
   "metadata": {},
   "outputs": [
    {
     "data": {
      "text/html": [
       "<div>\n",
       "<table border=\"1\" class=\"dataframe\">\n",
       "  <thead>\n",
       "    <tr style=\"text-align: right;\">\n",
       "      <th></th>\n",
       "      <th>business_id</th>\n",
       "      <th>name</th>\n",
       "      <th>categories</th>\n",
       "      <th>avg_stars</th>\n",
       "      <th>cool</th>\n",
       "      <th>date</th>\n",
       "      <th>funny</th>\n",
       "      <th>review_id</th>\n",
       "      <th>stars</th>\n",
       "      <th>text</th>\n",
       "      <th>useful</th>\n",
       "      <th>user_id</th>\n",
       "    </tr>\n",
       "  </thead>\n",
       "  <tbody>\n",
       "    <tr>\n",
       "      <th>0</th>\n",
       "      <td>--9e1ONYQuAa-CB_Rrw7Tw</td>\n",
       "      <td>Delmonico Steakhouse</td>\n",
       "      <td>Steakhouses, Restaurants, Cajun/Creole</td>\n",
       "      <td>4.0</td>\n",
       "      <td>0</td>\n",
       "      <td>2017-02-14</td>\n",
       "      <td>0</td>\n",
       "      <td>VETXTwMw6qxzOVDlXfe6Tg</td>\n",
       "      <td>5</td>\n",
       "      <td>went for dinner tonight. Amazing my husband ha...</td>\n",
       "      <td>0</td>\n",
       "      <td>ymlnR8UeFvB4FZL56tCZsA</td>\n",
       "    </tr>\n",
       "    <tr>\n",
       "      <th>1</th>\n",
       "      <td>--9e1ONYQuAa-CB_Rrw7Tw</td>\n",
       "      <td>Delmonico Steakhouse</td>\n",
       "      <td>Steakhouses, Restaurants, Cajun/Creole</td>\n",
       "      <td>4.0</td>\n",
       "      <td>0</td>\n",
       "      <td>2017-12-04</td>\n",
       "      <td>0</td>\n",
       "      <td>S8-8uZ7fa5YbjnEtaW15ng</td>\n",
       "      <td>5</td>\n",
       "      <td>This was an amazing dinning experience! ORDER ...</td>\n",
       "      <td>0</td>\n",
       "      <td>9pSSL6X6lFpY3FCRLEH3og</td>\n",
       "    </tr>\n",
       "    <tr>\n",
       "      <th>2</th>\n",
       "      <td>--9e1ONYQuAa-CB_Rrw7Tw</td>\n",
       "      <td>Delmonico Steakhouse</td>\n",
       "      <td>Steakhouses, Restaurants, Cajun/Creole</td>\n",
       "      <td>4.0</td>\n",
       "      <td>0</td>\n",
       "      <td>2016-09-13</td>\n",
       "      <td>0</td>\n",
       "      <td>N1Z93BthdJ7FT2p5S22jIA</td>\n",
       "      <td>3</td>\n",
       "      <td>Went for a nice anniversary dinner. Researched...</td>\n",
       "      <td>0</td>\n",
       "      <td>CEtidlXNyQzgJSdF1ubPFw</td>\n",
       "    </tr>\n",
       "    <tr>\n",
       "      <th>3</th>\n",
       "      <td>--9e1ONYQuAa-CB_Rrw7Tw</td>\n",
       "      <td>Delmonico Steakhouse</td>\n",
       "      <td>Steakhouses, Restaurants, Cajun/Creole</td>\n",
       "      <td>4.0</td>\n",
       "      <td>0</td>\n",
       "      <td>2017-05-20</td>\n",
       "      <td>0</td>\n",
       "      <td>Pnkrj90xfykhHyo4BSFRsw</td>\n",
       "      <td>5</td>\n",
       "      <td>ABSOLUTE MUST IN VEGAS! Loved everything my bo...</td>\n",
       "      <td>0</td>\n",
       "      <td>cZVQGCZ_fHtTdfiyGVJPdg</td>\n",
       "    </tr>\n",
       "    <tr>\n",
       "      <th>4</th>\n",
       "      <td>--9e1ONYQuAa-CB_Rrw7Tw</td>\n",
       "      <td>Delmonico Steakhouse</td>\n",
       "      <td>Steakhouses, Restaurants, Cajun/Creole</td>\n",
       "      <td>4.0</td>\n",
       "      <td>0</td>\n",
       "      <td>2017-12-30</td>\n",
       "      <td>0</td>\n",
       "      <td>Oeh7e6U2xaDQI9L9i4x_Gw</td>\n",
       "      <td>2</td>\n",
       "      <td>I had high hopes for Delmonico's Steakhouse in...</td>\n",
       "      <td>0</td>\n",
       "      <td>li2cBZl60vgqihDJJG7jeA</td>\n",
       "    </tr>\n",
       "  </tbody>\n",
       "</table>\n",
       "</div>"
      ],
      "text/plain": [
       "              business_id                  name  \\\n",
       "0  --9e1ONYQuAa-CB_Rrw7Tw  Delmonico Steakhouse   \n",
       "1  --9e1ONYQuAa-CB_Rrw7Tw  Delmonico Steakhouse   \n",
       "2  --9e1ONYQuAa-CB_Rrw7Tw  Delmonico Steakhouse   \n",
       "3  --9e1ONYQuAa-CB_Rrw7Tw  Delmonico Steakhouse   \n",
       "4  --9e1ONYQuAa-CB_Rrw7Tw  Delmonico Steakhouse   \n",
       "\n",
       "                               categories  avg_stars  cool        date  funny  \\\n",
       "0  Steakhouses, Restaurants, Cajun/Creole        4.0     0  2017-02-14      0   \n",
       "1  Steakhouses, Restaurants, Cajun/Creole        4.0     0  2017-12-04      0   \n",
       "2  Steakhouses, Restaurants, Cajun/Creole        4.0     0  2016-09-13      0   \n",
       "3  Steakhouses, Restaurants, Cajun/Creole        4.0     0  2017-05-20      0   \n",
       "4  Steakhouses, Restaurants, Cajun/Creole        4.0     0  2017-12-30      0   \n",
       "\n",
       "                review_id  stars  \\\n",
       "0  VETXTwMw6qxzOVDlXfe6Tg      5   \n",
       "1  S8-8uZ7fa5YbjnEtaW15ng      5   \n",
       "2  N1Z93BthdJ7FT2p5S22jIA      3   \n",
       "3  Pnkrj90xfykhHyo4BSFRsw      5   \n",
       "4  Oeh7e6U2xaDQI9L9i4x_Gw      2   \n",
       "\n",
       "                                                text  useful  \\\n",
       "0  went for dinner tonight. Amazing my husband ha...       0   \n",
       "1  This was an amazing dinning experience! ORDER ...       0   \n",
       "2  Went for a nice anniversary dinner. Researched...       0   \n",
       "3  ABSOLUTE MUST IN VEGAS! Loved everything my bo...       0   \n",
       "4  I had high hopes for Delmonico's Steakhouse in...       0   \n",
       "\n",
       "                  user_id  \n",
       "0  ymlnR8UeFvB4FZL56tCZsA  \n",
       "1  9pSSL6X6lFpY3FCRLEH3og  \n",
       "2  CEtidlXNyQzgJSdF1ubPFw  \n",
       "3  cZVQGCZ_fHtTdfiyGVJPdg  \n",
       "4  li2cBZl60vgqihDJJG7jeA  "
      ]
     },
     "execution_count": 2,
     "metadata": {},
     "output_type": "execute_result"
    }
   ],
   "source": [
    "# Load data\n",
    "df = pd.read_csv(\"last_2_years_restaurant_reviews.csv\")\n",
    "df.head()"
   ]
  },
  {
   "cell_type": "markdown",
   "metadata": {},
   "source": [
    "## Clean data and get rating data"
   ]
  },
  {
   "cell_type": "markdown",
   "metadata": {},
   "source": [
    "### Select relevant columns in the original dataframe"
   ]
  },
  {
   "cell_type": "code",
   "execution_count": 3,
   "metadata": {
    "collapsed": true
   },
   "outputs": [],
   "source": [
    "# Get business_id, user_id, stars for recommender\n",
    "df_stars = df[['business_id', 'user_id', 'stars']]"
   ]
  },
  {
   "cell_type": "code",
   "execution_count": 4,
   "metadata": {},
   "outputs": [
    {
     "data": {
      "text/plain": [
       "5    180828\n",
       "4     71621\n",
       "1     47653\n",
       "3     37344\n",
       "2     28104\n",
       "Name: stars, dtype: int64"
      ]
     },
     "execution_count": 4,
     "metadata": {},
     "output_type": "execute_result"
    }
   ],
   "source": [
    "# Stars distribution\n",
    "df_stars['stars'].value_counts()"
   ]
  },
  {
   "cell_type": "code",
   "execution_count": 5,
   "metadata": {},
   "outputs": [
    {
     "data": {
      "text/plain": [
       "4550"
      ]
     },
     "execution_count": 5,
     "metadata": {},
     "output_type": "execute_result"
    }
   ],
   "source": [
    "# The number of unique business_id\n",
    "df_stars['business_id'].nunique() # the number of unique elements"
   ]
  },
  {
   "cell_type": "code",
   "execution_count": 6,
   "metadata": {},
   "outputs": [
    {
     "data": {
      "text/plain": [
       "176960"
      ]
     },
     "execution_count": 6,
     "metadata": {},
     "output_type": "execute_result"
    }
   ],
   "source": [
    "# The number of unique user_id\n",
    "df_stars['user_id'].nunique()"
   ]
  },
  {
   "cell_type": "code",
   "execution_count": 7,
   "metadata": {},
   "outputs": [
    {
     "data": {
      "text/plain": [
       "bLbSNkLggFnqwNNzzq-Ijw    333\n",
       "JaqcCU3nxReTW2cBLHounA    213\n",
       "YE54kKTuqJJPNYWIKIpOEQ    185\n",
       "I-4KVZ9lqHhk8469X9FvhA    176\n",
       "U4INQZOPSUaj8hMjLlZ3KA    148\n",
       "Name: user_id, dtype: int64"
      ]
     },
     "execution_count": 7,
     "metadata": {},
     "output_type": "execute_result"
    }
   ],
   "source": [
    "# User comments counts\n",
    "df_user_counts = df_stars['user_id'].value_counts()\n",
    "df_user_counts.head()"
   ]
  },
  {
   "cell_type": "code",
   "execution_count": 8,
   "metadata": {},
   "outputs": [
    {
     "data": {
      "image/png": "[encoded data removed]",
      "text/plain": [
       "<matplotlib.figure.Figure at 0x104385390>"
      ]
     },
     "metadata": {},
     "output_type": "display_data"
    }
   ],
   "source": [
    "# display log histogram\n",
    "# df_user_counts.hist()\n",
    "df_user_counts.apply(np.log).hist(color='green', label= 'Users count of reveiws')\n",
    "plt.show()"
   ]
  },
  {
   "cell_type": "markdown",
   "metadata": {},
   "source": [
    "#### There are many users that haven't given many reviews, exclude these users from the item -item similarity recommender."
   ]
  },
  {
   "cell_type": "code",
   "execution_count": 9,
   "metadata": {},
   "outputs": [
    {
     "data": {
      "text/plain": [
       "117664"
      ]
     },
     "execution_count": 9,
     "metadata": {},
     "output_type": "execute_result"
    }
   ],
   "source": [
    "# How many users only comments once\n",
    "df_user_counts[df_user_counts == 1].sum()"
   ]
  },
  {
   "cell_type": "code",
   "execution_count": 10,
   "metadata": {
    "collapsed": true
   },
   "outputs": [],
   "source": [
    "# How many users comment over 5 times\n",
    "df_users = df_user_counts[df_user_counts > 5]"
   ]
  },
  {
   "cell_type": "code",
   "execution_count": 11,
   "metadata": {},
   "outputs": [
    {
     "data": {
      "text/plain": [
       "9396"
      ]
     },
     "execution_count": 11,
     "metadata": {},
     "output_type": "execute_result"
    }
   ],
   "source": [
    "# Count users comment over 5 times as active user\n",
    "df_users.count()"
   ]
  },
  {
   "cell_type": "code",
   "execution_count": 12,
   "metadata": {},
   "outputs": [
    {
     "data": {
      "text/plain": [
       "113051"
      ]
     },
     "execution_count": 12,
     "metadata": {},
     "output_type": "execute_result"
    }
   ],
   "source": [
    "# Sum of all comments\n",
    "df_users.sum()"
   ]
  },
  {
   "cell_type": "code",
   "execution_count": 13,
   "metadata": {},
   "outputs": [
    {
     "data": {
      "text/plain": [
       "Index([u'bLbSNkLggFnqwNNzzq-Ijw', u'JaqcCU3nxReTW2cBLHounA',\n",
       "       u'YE54kKTuqJJPNYWIKIpOEQ', u'I-4KVZ9lqHhk8469X9FvhA',\n",
       "       u'U4INQZOPSUaj8hMjLlZ3KA', u'keBv05MsMFBd0Hu98vXThQ',\n",
       "       u'OXSJCjKtvZPf-YPDCXcWZg', u'lQBZo8_mm80dbwI5bo5c_w',\n",
       "       u'PKEzKWv_FktMm2mGPjwd0Q', u'JQIZhoQB-Tg9hdBEj90m4g',\n",
       "       ...\n",
       "       u'cKTwpQOnnu2KjfINPRhRTw', u'1jMUzrfaN1Bajf7m-gXbUg',\n",
       "       u'fr1XVKLZB0JbkijfzxMoXg', u'HMrdhoMQoAkh_5rrmFvSfw',\n",
       "       u'2dLz_y1_rUHj9O3_lJfT9w', u'sWpQ5sNssxFdWIU9iuwUCw',\n",
       "       u'UiDCy0-fdHG6IwHg9mn8Dw', u'67HwuY1mtttvvnqn9tHU0Q',\n",
       "       u'1Rc0tO2rDkKVuI93piE_1A', u'7PHHxsjyk7I7oM6ENxwZZQ'],\n",
       "      dtype='object', length=9396)"
      ]
     },
     "execution_count": 13,
     "metadata": {},
     "output_type": "execute_result"
    }
   ],
   "source": [
    "# Display active user id\n",
    "df_users.index"
   ]
  },
  {
   "cell_type": "code",
   "execution_count": 14,
   "metadata": {},
   "outputs": [
    {
     "data": {
      "text/html": [
       "<div>\n",
       "<table border=\"1\" class=\"dataframe\">\n",
       "  <thead>\n",
       "    <tr style=\"text-align: right;\">\n",
       "      <th></th>\n",
       "      <th>business_id</th>\n",
       "      <th>user_id</th>\n",
       "      <th>stars</th>\n",
       "    </tr>\n",
       "  </thead>\n",
       "  <tbody>\n",
       "    <tr>\n",
       "      <th>0</th>\n",
       "      <td>--9e1ONYQuAa-CB_Rrw7Tw</td>\n",
       "      <td>ymlnR8UeFvB4FZL56tCZsA</td>\n",
       "      <td>5</td>\n",
       "    </tr>\n",
       "    <tr>\n",
       "      <th>1</th>\n",
       "      <td>--9e1ONYQuAa-CB_Rrw7Tw</td>\n",
       "      <td>9pSSL6X6lFpY3FCRLEH3og</td>\n",
       "      <td>5</td>\n",
       "    </tr>\n",
       "    <tr>\n",
       "      <th>2</th>\n",
       "      <td>--9e1ONYQuAa-CB_Rrw7Tw</td>\n",
       "      <td>CEtidlXNyQzgJSdF1ubPFw</td>\n",
       "      <td>3</td>\n",
       "    </tr>\n",
       "    <tr>\n",
       "      <th>3</th>\n",
       "      <td>--9e1ONYQuAa-CB_Rrw7Tw</td>\n",
       "      <td>cZVQGCZ_fHtTdfiyGVJPdg</td>\n",
       "      <td>5</td>\n",
       "    </tr>\n",
       "    <tr>\n",
       "      <th>4</th>\n",
       "      <td>--9e1ONYQuAa-CB_Rrw7Tw</td>\n",
       "      <td>li2cBZl60vgqihDJJG7jeA</td>\n",
       "      <td>2</td>\n",
       "    </tr>\n",
       "  </tbody>\n",
       "</table>\n",
       "</div>"
      ],
      "text/plain": [
       "              business_id                 user_id  stars\n",
       "0  --9e1ONYQuAa-CB_Rrw7Tw  ymlnR8UeFvB4FZL56tCZsA      5\n",
       "1  --9e1ONYQuAa-CB_Rrw7Tw  9pSSL6X6lFpY3FCRLEH3og      5\n",
       "2  --9e1ONYQuAa-CB_Rrw7Tw  CEtidlXNyQzgJSdF1ubPFw      3\n",
       "3  --9e1ONYQuAa-CB_Rrw7Tw  cZVQGCZ_fHtTdfiyGVJPdg      5\n",
       "4  --9e1ONYQuAa-CB_Rrw7Tw  li2cBZl60vgqihDJJG7jeA      2"
      ]
     },
     "execution_count": 14,
     "metadata": {},
     "output_type": "execute_result"
    }
   ],
   "source": [
    "df_stars.head()"
   ]
  },
  {
   "cell_type": "code",
   "execution_count": 15,
   "metadata": {},
   "outputs": [
    {
     "data": {
      "text/html": [
       "<div>\n",
       "<table border=\"1\" class=\"dataframe\">\n",
       "  <thead>\n",
       "    <tr style=\"text-align: right;\">\n",
       "      <th></th>\n",
       "      <th>business_id</th>\n",
       "      <th>stars</th>\n",
       "    </tr>\n",
       "    <tr>\n",
       "      <th>user_id</th>\n",
       "      <th></th>\n",
       "      <th></th>\n",
       "    </tr>\n",
       "  </thead>\n",
       "  <tbody>\n",
       "    <tr>\n",
       "      <th>ymlnR8UeFvB4FZL56tCZsA</th>\n",
       "      <td>--9e1ONYQuAa-CB_Rrw7Tw</td>\n",
       "      <td>5</td>\n",
       "    </tr>\n",
       "    <tr>\n",
       "      <th>9pSSL6X6lFpY3FCRLEH3og</th>\n",
       "      <td>--9e1ONYQuAa-CB_Rrw7Tw</td>\n",
       "      <td>5</td>\n",
       "    </tr>\n",
       "    <tr>\n",
       "      <th>CEtidlXNyQzgJSdF1ubPFw</th>\n",
       "      <td>--9e1ONYQuAa-CB_Rrw7Tw</td>\n",
       "      <td>3</td>\n",
       "    </tr>\n",
       "    <tr>\n",
       "      <th>cZVQGCZ_fHtTdfiyGVJPdg</th>\n",
       "      <td>--9e1ONYQuAa-CB_Rrw7Tw</td>\n",
       "      <td>5</td>\n",
       "    </tr>\n",
       "    <tr>\n",
       "      <th>li2cBZl60vgqihDJJG7jeA</th>\n",
       "      <td>--9e1ONYQuAa-CB_Rrw7Tw</td>\n",
       "      <td>2</td>\n",
       "    </tr>\n",
       "  </tbody>\n",
       "</table>\n",
       "</div>"
      ],
      "text/plain": [
       "                                   business_id  stars\n",
       "user_id                                              \n",
       "ymlnR8UeFvB4FZL56tCZsA  --9e1ONYQuAa-CB_Rrw7Tw      5\n",
       "9pSSL6X6lFpY3FCRLEH3og  --9e1ONYQuAa-CB_Rrw7Tw      5\n",
       "CEtidlXNyQzgJSdF1ubPFw  --9e1ONYQuAa-CB_Rrw7Tw      3\n",
       "cZVQGCZ_fHtTdfiyGVJPdg  --9e1ONYQuAa-CB_Rrw7Tw      5\n",
       "li2cBZl60vgqihDJJG7jeA  --9e1ONYQuAa-CB_Rrw7Tw      2"
      ]
     },
     "execution_count": 15,
     "metadata": {},
     "output_type": "execute_result"
    }
   ],
   "source": [
    "df_stars.set_index('user_id').head()"
   ]
  },
  {
   "cell_type": "code",
   "execution_count": 16,
   "metadata": {},
   "outputs": [
    {
     "data": {
      "text/html": [
       "<div>\n",
       "<table border=\"1\" class=\"dataframe\">\n",
       "  <thead>\n",
       "    <tr style=\"text-align: right;\">\n",
       "      <th></th>\n",
       "      <th>business_id</th>\n",
       "      <th>stars</th>\n",
       "    </tr>\n",
       "    <tr>\n",
       "      <th>user_id</th>\n",
       "      <th></th>\n",
       "      <th></th>\n",
       "    </tr>\n",
       "  </thead>\n",
       "  <tbody>\n",
       "    <tr>\n",
       "      <th>bLbSNkLggFnqwNNzzq-Ijw</th>\n",
       "      <td>-CQokjildrY7UZezXCdEBw</td>\n",
       "      <td>5</td>\n",
       "    </tr>\n",
       "    <tr>\n",
       "      <th>bLbSNkLggFnqwNNzzq-Ijw</th>\n",
       "      <td>-WLrZPzjKfrftLWaCi1QZQ</td>\n",
       "      <td>3</td>\n",
       "    </tr>\n",
       "    <tr>\n",
       "      <th>bLbSNkLggFnqwNNzzq-Ijw</th>\n",
       "      <td>-a43zqioXNOjx_QejRS9FA</td>\n",
       "      <td>4</td>\n",
       "    </tr>\n",
       "    <tr>\n",
       "      <th>bLbSNkLggFnqwNNzzq-Ijw</th>\n",
       "      <td>-pG5srxtnRkd1bdIYn78xA</td>\n",
       "      <td>4</td>\n",
       "    </tr>\n",
       "    <tr>\n",
       "      <th>bLbSNkLggFnqwNNzzq-Ijw</th>\n",
       "      <td>-qYuPncpK8elgD-6Qx3v7A</td>\n",
       "      <td>3</td>\n",
       "    </tr>\n",
       "  </tbody>\n",
       "</table>\n",
       "</div>"
      ],
      "text/plain": [
       "                                   business_id  stars\n",
       "user_id                                              \n",
       "bLbSNkLggFnqwNNzzq-Ijw  -CQokjildrY7UZezXCdEBw      5\n",
       "bLbSNkLggFnqwNNzzq-Ijw  -WLrZPzjKfrftLWaCi1QZQ      3\n",
       "bLbSNkLggFnqwNNzzq-Ijw  -a43zqioXNOjx_QejRS9FA      4\n",
       "bLbSNkLggFnqwNNzzq-Ijw  -pG5srxtnRkd1bdIYn78xA      4\n",
       "bLbSNkLggFnqwNNzzq-Ijw  -qYuPncpK8elgD-6Qx3v7A      3"
      ]
     },
     "execution_count": 16,
     "metadata": {},
     "output_type": "execute_result"
    }
   ],
   "source": [
    "df_stars.set_index('user_id').ix[df_users.index].head() # sorting with users"
   ]
  },
  {
   "cell_type": "code",
   "execution_count": 17,
   "metadata": {},
   "outputs": [
    {
     "data": {
      "text/html": [
       "<div>\n",
       "<table border=\"1\" class=\"dataframe\">\n",
       "  <thead>\n",
       "    <tr style=\"text-align: right;\">\n",
       "      <th></th>\n",
       "      <th>user_id</th>\n",
       "      <th>business_id</th>\n",
       "      <th>stars</th>\n",
       "    </tr>\n",
       "  </thead>\n",
       "  <tbody>\n",
       "    <tr>\n",
       "      <th>0</th>\n",
       "      <td>bLbSNkLggFnqwNNzzq-Ijw</td>\n",
       "      <td>-CQokjildrY7UZezXCdEBw</td>\n",
       "      <td>5</td>\n",
       "    </tr>\n",
       "    <tr>\n",
       "      <th>1</th>\n",
       "      <td>bLbSNkLggFnqwNNzzq-Ijw</td>\n",
       "      <td>-WLrZPzjKfrftLWaCi1QZQ</td>\n",
       "      <td>3</td>\n",
       "    </tr>\n",
       "    <tr>\n",
       "      <th>2</th>\n",
       "      <td>bLbSNkLggFnqwNNzzq-Ijw</td>\n",
       "      <td>-a43zqioXNOjx_QejRS9FA</td>\n",
       "      <td>4</td>\n",
       "    </tr>\n",
       "    <tr>\n",
       "      <th>3</th>\n",
       "      <td>bLbSNkLggFnqwNNzzq-Ijw</td>\n",
       "      <td>-pG5srxtnRkd1bdIYn78xA</td>\n",
       "      <td>4</td>\n",
       "    </tr>\n",
       "    <tr>\n",
       "      <th>4</th>\n",
       "      <td>bLbSNkLggFnqwNNzzq-Ijw</td>\n",
       "      <td>-qYuPncpK8elgD-6Qx3v7A</td>\n",
       "      <td>3</td>\n",
       "    </tr>\n",
       "  </tbody>\n",
       "</table>\n",
       "</div>"
      ],
      "text/plain": [
       "                  user_id             business_id  stars\n",
       "0  bLbSNkLggFnqwNNzzq-Ijw  -CQokjildrY7UZezXCdEBw      5\n",
       "1  bLbSNkLggFnqwNNzzq-Ijw  -WLrZPzjKfrftLWaCi1QZQ      3\n",
       "2  bLbSNkLggFnqwNNzzq-Ijw  -a43zqioXNOjx_QejRS9FA      4\n",
       "3  bLbSNkLggFnqwNNzzq-Ijw  -pG5srxtnRkd1bdIYn78xA      4\n",
       "4  bLbSNkLggFnqwNNzzq-Ijw  -qYuPncpK8elgD-6Qx3v7A      3"
      ]
     },
     "execution_count": 17,
     "metadata": {},
     "output_type": "execute_result"
    }
   ],
   "source": [
    "# Reorder dataframe\n",
    "df_stars_cleaned = df_stars.set_index('user_id').ix[df_users.index].reset_index()\n",
    "df_stars_cleaned.head()"
   ]
  },
  {
   "cell_type": "markdown",
   "metadata": {},
   "source": [
    "## Create utility matrix from records"
   ]
  },
  {
   "cell_type": "code",
   "execution_count": 18,
   "metadata": {
    "collapsed": true
   },
   "outputs": [],
   "source": [
    "# convert to document, word like matrix\n",
    "df_utility = pd.pivot_table(data = df_stars_cleaned,\n",
    "                           values = 'stars',#fill with stars\n",
    "                           index = 'user_id',#rows\n",
    "                           columns = 'business_id',#columns\n",
    "                           fill_value = 0)#fill missings"
   ]
  },
  {
   "cell_type": "code",
   "execution_count": 19,
   "metadata": {},
   "outputs": [
    {
     "data": {
      "text/html": [
       "<div>\n",
       "<table border=\"1\" class=\"dataframe\">\n",
       "  <thead>\n",
       "    <tr style=\"text-align: right;\">\n",
       "      <th>business_id</th>\n",
       "      <th>--9e1ONYQuAa-CB_Rrw7Tw</th>\n",
       "      <th>-1m9o3vGRA8IBPNvNqKLmA</th>\n",
       "      <th>-3zffZUHoY8bQjGfPSoBKQ</th>\n",
       "      <th>-8R_-EkGpUhBk55K9Dd4mg</th>\n",
       "      <th>-9YyInW1wapzdNZrhQJ9dg</th>\n",
       "      <th>-AD5PiuJHgdUcAK-Vxao2A</th>\n",
       "      <th>-ADtl9bLp8wNqYX1k3KuxA</th>\n",
       "      <th>-Bf8BQ3yMk8U2f45r2DRKw</th>\n",
       "      <th>-BmqghX1sv7sgsxOIS2yAg</th>\n",
       "      <th>-Bv-HHUs8aHzDrdWcZHn8w</th>\n",
       "      <th>...</th>\n",
       "      <th>zmltWmTpoBt5sCU-5Kzj-Q</th>\n",
       "      <th>znWHLW1pt19HzW1VY6KfCA</th>\n",
       "      <th>zp-K5s3pGTWuuaVBWo6WZA</th>\n",
       "      <th>zpoZ6WyQUYff18-z4ZU1mA</th>\n",
       "      <th>zr42_UsWfaIF-rcp37OpwA</th>\n",
       "      <th>zsQk990PubOHjr1YcLkQFw</th>\n",
       "      <th>zttcrQP4MxNS5X5itzStXg</th>\n",
       "      <th>zuwba6QEBIDZT0tJZmNhdQ</th>\n",
       "      <th>zwNC-Ow4eIMan2__bS9-rg</th>\n",
       "      <th>zx_j6OuuHHa2afVoAZuLpA</th>\n",
       "    </tr>\n",
       "    <tr>\n",
       "      <th>user_id</th>\n",
       "      <th></th>\n",
       "      <th></th>\n",
       "      <th></th>\n",
       "      <th></th>\n",
       "      <th></th>\n",
       "      <th></th>\n",
       "      <th></th>\n",
       "      <th></th>\n",
       "      <th></th>\n",
       "      <th></th>\n",
       "      <th></th>\n",
       "      <th></th>\n",
       "      <th></th>\n",
       "      <th></th>\n",
       "      <th></th>\n",
       "      <th></th>\n",
       "      <th></th>\n",
       "      <th></th>\n",
       "      <th></th>\n",
       "      <th></th>\n",
       "      <th></th>\n",
       "    </tr>\n",
       "  </thead>\n",
       "  <tbody>\n",
       "    <tr>\n",
       "      <th>--ZNfWKj1VyVElRx6-g1fg</th>\n",
       "      <td>0</td>\n",
       "      <td>0</td>\n",
       "      <td>0</td>\n",
       "      <td>0</td>\n",
       "      <td>0</td>\n",
       "      <td>0</td>\n",
       "      <td>0</td>\n",
       "      <td>0</td>\n",
       "      <td>0</td>\n",
       "      <td>0</td>\n",
       "      <td>...</td>\n",
       "      <td>0</td>\n",
       "      <td>0</td>\n",
       "      <td>0</td>\n",
       "      <td>0</td>\n",
       "      <td>0</td>\n",
       "      <td>3</td>\n",
       "      <td>0</td>\n",
       "      <td>0</td>\n",
       "      <td>0</td>\n",
       "      <td>0</td>\n",
       "    </tr>\n",
       "    <tr>\n",
       "      <th>-0Hf2jiBo7hJdxYW0Y6PKQ</th>\n",
       "      <td>0</td>\n",
       "      <td>0</td>\n",
       "      <td>0</td>\n",
       "      <td>0</td>\n",
       "      <td>0</td>\n",
       "      <td>0</td>\n",
       "      <td>0</td>\n",
       "      <td>0</td>\n",
       "      <td>0</td>\n",
       "      <td>0</td>\n",
       "      <td>...</td>\n",
       "      <td>0</td>\n",
       "      <td>0</td>\n",
       "      <td>0</td>\n",
       "      <td>0</td>\n",
       "      <td>0</td>\n",
       "      <td>0</td>\n",
       "      <td>0</td>\n",
       "      <td>0</td>\n",
       "      <td>0</td>\n",
       "      <td>0</td>\n",
       "    </tr>\n",
       "    <tr>\n",
       "      <th>-0OyT3le0GqdyvRLLfB7MQ</th>\n",
       "      <td>0</td>\n",
       "      <td>0</td>\n",
       "      <td>0</td>\n",
       "      <td>0</td>\n",
       "      <td>0</td>\n",
       "      <td>0</td>\n",
       "      <td>0</td>\n",
       "      <td>0</td>\n",
       "      <td>0</td>\n",
       "      <td>0</td>\n",
       "      <td>...</td>\n",
       "      <td>0</td>\n",
       "      <td>0</td>\n",
       "      <td>0</td>\n",
       "      <td>0</td>\n",
       "      <td>0</td>\n",
       "      <td>0</td>\n",
       "      <td>0</td>\n",
       "      <td>0</td>\n",
       "      <td>0</td>\n",
       "      <td>0</td>\n",
       "    </tr>\n",
       "    <tr>\n",
       "      <th>-16aKjco1c0RJ7c4U-q_Kw</th>\n",
       "      <td>0</td>\n",
       "      <td>0</td>\n",
       "      <td>0</td>\n",
       "      <td>0</td>\n",
       "      <td>0</td>\n",
       "      <td>0</td>\n",
       "      <td>0</td>\n",
       "      <td>0</td>\n",
       "      <td>0</td>\n",
       "      <td>0</td>\n",
       "      <td>...</td>\n",
       "      <td>0</td>\n",
       "      <td>0</td>\n",
       "      <td>0</td>\n",
       "      <td>0</td>\n",
       "      <td>0</td>\n",
       "      <td>0</td>\n",
       "      <td>0</td>\n",
       "      <td>0</td>\n",
       "      <td>0</td>\n",
       "      <td>0</td>\n",
       "    </tr>\n",
       "    <tr>\n",
       "      <th>-2gOxVWcnBr5DclrrsWXCA</th>\n",
       "      <td>0</td>\n",
       "      <td>0</td>\n",
       "      <td>0</td>\n",
       "      <td>0</td>\n",
       "      <td>0</td>\n",
       "      <td>0</td>\n",
       "      <td>0</td>\n",
       "      <td>0</td>\n",
       "      <td>0</td>\n",
       "      <td>0</td>\n",
       "      <td>...</td>\n",
       "      <td>0</td>\n",
       "      <td>0</td>\n",
       "      <td>0</td>\n",
       "      <td>0</td>\n",
       "      <td>0</td>\n",
       "      <td>0</td>\n",
       "      <td>0</td>\n",
       "      <td>0</td>\n",
       "      <td>0</td>\n",
       "      <td>0</td>\n",
       "    </tr>\n",
       "  </tbody>\n",
       "</table>\n",
       "<p>5 rows × 4194 columns</p>\n",
       "</div>"
      ],
      "text/plain": [
       "business_id             --9e1ONYQuAa-CB_Rrw7Tw  -1m9o3vGRA8IBPNvNqKLmA  \\\n",
       "user_id                                                                  \n",
       "--ZNfWKj1VyVElRx6-g1fg                       0                       0   \n",
       "-0Hf2jiBo7hJdxYW0Y6PKQ                       0                       0   \n",
       "-0OyT3le0GqdyvRLLfB7MQ                       0                       0   \n",
       "-16aKjco1c0RJ7c4U-q_Kw                       0                       0   \n",
       "-2gOxVWcnBr5DclrrsWXCA                       0                       0   \n",
       "\n",
       "business_id             -3zffZUHoY8bQjGfPSoBKQ  -8R_-EkGpUhBk55K9Dd4mg  \\\n",
       "user_id                                                                  \n",
       "--ZNfWKj1VyVElRx6-g1fg                       0                       0   \n",
       "-0Hf2jiBo7hJdxYW0Y6PKQ                       0                       0   \n",
       "-0OyT3le0GqdyvRLLfB7MQ                       0                       0   \n",
       "-16aKjco1c0RJ7c4U-q_Kw                       0                       0   \n",
       "-2gOxVWcnBr5DclrrsWXCA                       0                       0   \n",
       "\n",
       "business_id             -9YyInW1wapzdNZrhQJ9dg  -AD5PiuJHgdUcAK-Vxao2A  \\\n",
       "user_id                                                                  \n",
       "--ZNfWKj1VyVElRx6-g1fg                       0                       0   \n",
       "-0Hf2jiBo7hJdxYW0Y6PKQ                       0                       0   \n",
       "-0OyT3le0GqdyvRLLfB7MQ                       0                       0   \n",
       "-16aKjco1c0RJ7c4U-q_Kw                       0                       0   \n",
       "-2gOxVWcnBr5DclrrsWXCA                       0                       0   \n",
       "\n",
       "business_id             -ADtl9bLp8wNqYX1k3KuxA  -Bf8BQ3yMk8U2f45r2DRKw  \\\n",
       "user_id                                                                  \n",
       "--ZNfWKj1VyVElRx6-g1fg                       0                       0   \n",
       "-0Hf2jiBo7hJdxYW0Y6PKQ                       0                       0   \n",
       "-0OyT3le0GqdyvRLLfB7MQ                       0                       0   \n",
       "-16aKjco1c0RJ7c4U-q_Kw                       0                       0   \n",
       "-2gOxVWcnBr5DclrrsWXCA                       0                       0   \n",
       "\n",
       "business_id             -BmqghX1sv7sgsxOIS2yAg  -Bv-HHUs8aHzDrdWcZHn8w  \\\n",
       "user_id                                                                  \n",
       "--ZNfWKj1VyVElRx6-g1fg                       0                       0   \n",
       "-0Hf2jiBo7hJdxYW0Y6PKQ                       0                       0   \n",
       "-0OyT3le0GqdyvRLLfB7MQ                       0                       0   \n",
       "-16aKjco1c0RJ7c4U-q_Kw                       0                       0   \n",
       "-2gOxVWcnBr5DclrrsWXCA                       0                       0   \n",
       "\n",
       "business_id                      ...            zmltWmTpoBt5sCU-5Kzj-Q  \\\n",
       "user_id                          ...                                     \n",
       "--ZNfWKj1VyVElRx6-g1fg           ...                                 0   \n",
       "-0Hf2jiBo7hJdxYW0Y6PKQ           ...                                 0   \n",
       "-0OyT3le0GqdyvRLLfB7MQ           ...                                 0   \n",
       "-16aKjco1c0RJ7c4U-q_Kw           ...                                 0   \n",
       "-2gOxVWcnBr5DclrrsWXCA           ...                                 0   \n",
       "\n",
       "business_id             znWHLW1pt19HzW1VY6KfCA  zp-K5s3pGTWuuaVBWo6WZA  \\\n",
       "user_id                                                                  \n",
       "--ZNfWKj1VyVElRx6-g1fg                       0                       0   \n",
       "-0Hf2jiBo7hJdxYW0Y6PKQ                       0                       0   \n",
       "-0OyT3le0GqdyvRLLfB7MQ                       0                       0   \n",
       "-16aKjco1c0RJ7c4U-q_Kw                       0                       0   \n",
       "-2gOxVWcnBr5DclrrsWXCA                       0                       0   \n",
       "\n",
       "business_id             zpoZ6WyQUYff18-z4ZU1mA  zr42_UsWfaIF-rcp37OpwA  \\\n",
       "user_id                                                                  \n",
       "--ZNfWKj1VyVElRx6-g1fg                       0                       0   \n",
       "-0Hf2jiBo7hJdxYW0Y6PKQ                       0                       0   \n",
       "-0OyT3le0GqdyvRLLfB7MQ                       0                       0   \n",
       "-16aKjco1c0RJ7c4U-q_Kw                       0                       0   \n",
       "-2gOxVWcnBr5DclrrsWXCA                       0                       0   \n",
       "\n",
       "business_id             zsQk990PubOHjr1YcLkQFw  zttcrQP4MxNS5X5itzStXg  \\\n",
       "user_id                                                                  \n",
       "--ZNfWKj1VyVElRx6-g1fg                       3                       0   \n",
       "-0Hf2jiBo7hJdxYW0Y6PKQ                       0                       0   \n",
       "-0OyT3le0GqdyvRLLfB7MQ                       0                       0   \n",
       "-16aKjco1c0RJ7c4U-q_Kw                       0                       0   \n",
       "-2gOxVWcnBr5DclrrsWXCA                       0                       0   \n",
       "\n",
       "business_id             zuwba6QEBIDZT0tJZmNhdQ  zwNC-Ow4eIMan2__bS9-rg  \\\n",
       "user_id                                                                  \n",
       "--ZNfWKj1VyVElRx6-g1fg                       0                       0   \n",
       "-0Hf2jiBo7hJdxYW0Y6PKQ                       0                       0   \n",
       "-0OyT3le0GqdyvRLLfB7MQ                       0                       0   \n",
       "-16aKjco1c0RJ7c4U-q_Kw                       0                       0   \n",
       "-2gOxVWcnBr5DclrrsWXCA                       0                       0   \n",
       "\n",
       "business_id             zx_j6OuuHHa2afVoAZuLpA  \n",
       "user_id                                         \n",
       "--ZNfWKj1VyVElRx6-g1fg                       0  \n",
       "-0Hf2jiBo7hJdxYW0Y6PKQ                       0  \n",
       "-0OyT3le0GqdyvRLLfB7MQ                       0  \n",
       "-16aKjco1c0RJ7c4U-q_Kw                       0  \n",
       "-2gOxVWcnBr5DclrrsWXCA                       0  \n",
       "\n",
       "[5 rows x 4194 columns]"
      ]
     },
     "execution_count": 19,
     "metadata": {},
     "output_type": "execute_result"
    }
   ],
   "source": [
    "df_utility.head()"
   ]
  },
  {
   "cell_type": "code",
   "execution_count": 20,
   "metadata": {},
   "outputs": [
    {
     "data": {
      "text/plain": [
       "(9396,)"
      ]
     },
     "execution_count": 20,
     "metadata": {},
     "output_type": "execute_result"
    }
   ],
   "source": [
    "# Get the list of user id by checking out the index of the utility matrix\n",
    "user_id_list = df_utility.index\n",
    "user_id_list.shape"
   ]
  },
  {
   "cell_type": "markdown",
   "metadata": {},
   "source": [
    "## Recommendation System with Graphlab"
   ]
  },
  {
   "cell_type": "code",
   "execution_count": 21,
   "metadata": {},
   "outputs": [],
   "source": [
    "import graphlab"
   ]
  },
  {
   "cell_type": "markdown",
   "metadata": {},
   "source": [
    "### Item -Item similarity recommender"
   ]
  },
  {
   "cell_type": "code",
   "execution_count": 22,
   "metadata": {},
   "outputs": [
    {
     "name": "stdout",
     "output_type": "stream",
     "text": [
      "This non-commercial license of GraphLab Create for academic use is assigned to sguo1@alliant.edu and will expire on October 19, 2019.\n"
     ]
    },
    {
     "name": "stderr",
     "output_type": "stream",
     "text": [
      "[INFO] graphlab.cython.cy_server: GraphLab Create v2.1 started. Logging: /tmp/graphlab_server_1539981224.log\n"
     ]
    },
    {
     "data": {
      "text/html": [
       "<div style=\"max-height:1000px;max-width:1500px;overflow:auto;\"><table frame=\"box\" rules=\"cols\">\n",
       "    <tr>\n",
       "        <th style=\"padding-left: 1em; padding-right: 1em; text-align: center\">business_id</th>\n",
       "        <th style=\"padding-left: 1em; padding-right: 1em; text-align: center\">user_id</th>\n",
       "        <th style=\"padding-left: 1em; padding-right: 1em; text-align: center\">stars</th>\n",
       "    </tr>\n",
       "    <tr>\n",
       "        <td style=\"padding-left: 1em; padding-right: 1em; text-align: center; vertical-align: top\">--9e1ONYQuAa-CB_Rrw7Tw</td>\n",
       "        <td style=\"padding-left: 1em; padding-right: 1em; text-align: center; vertical-align: top\">ymlnR8UeFvB4FZL56tCZsA</td>\n",
       "        <td style=\"padding-left: 1em; padding-right: 1em; text-align: center; vertical-align: top\">5</td>\n",
       "    </tr>\n",
       "    <tr>\n",
       "        <td style=\"padding-left: 1em; padding-right: 1em; text-align: center; vertical-align: top\">--9e1ONYQuAa-CB_Rrw7Tw</td>\n",
       "        <td style=\"padding-left: 1em; padding-right: 1em; text-align: center; vertical-align: top\">9pSSL6X6lFpY3FCRLEH3og</td>\n",
       "        <td style=\"padding-left: 1em; padding-right: 1em; text-align: center; vertical-align: top\">5</td>\n",
       "    </tr>\n",
       "    <tr>\n",
       "        <td style=\"padding-left: 1em; padding-right: 1em; text-align: center; vertical-align: top\">--9e1ONYQuAa-CB_Rrw7Tw</td>\n",
       "        <td style=\"padding-left: 1em; padding-right: 1em; text-align: center; vertical-align: top\">CEtidlXNyQzgJSdF1ubPFw</td>\n",
       "        <td style=\"padding-left: 1em; padding-right: 1em; text-align: center; vertical-align: top\">3</td>\n",
       "    </tr>\n",
       "    <tr>\n",
       "        <td style=\"padding-left: 1em; padding-right: 1em; text-align: center; vertical-align: top\">--9e1ONYQuAa-CB_Rrw7Tw</td>\n",
       "        <td style=\"padding-left: 1em; padding-right: 1em; text-align: center; vertical-align: top\">cZVQGCZ_fHtTdfiyGVJPdg</td>\n",
       "        <td style=\"padding-left: 1em; padding-right: 1em; text-align: center; vertical-align: top\">5</td>\n",
       "    </tr>\n",
       "    <tr>\n",
       "        <td style=\"padding-left: 1em; padding-right: 1em; text-align: center; vertical-align: top\">--9e1ONYQuAa-CB_Rrw7Tw</td>\n",
       "        <td style=\"padding-left: 1em; padding-right: 1em; text-align: center; vertical-align: top\">li2cBZl60vgqihDJJG7jeA</td>\n",
       "        <td style=\"padding-left: 1em; padding-right: 1em; text-align: center; vertical-align: top\">2</td>\n",
       "    </tr>\n",
       "    <tr>\n",
       "        <td style=\"padding-left: 1em; padding-right: 1em; text-align: center; vertical-align: top\">--9e1ONYQuAa-CB_Rrw7Tw</td>\n",
       "        <td style=\"padding-left: 1em; padding-right: 1em; text-align: center; vertical-align: top\">zGipc5uOJrejX6KkUsSNpA</td>\n",
       "        <td style=\"padding-left: 1em; padding-right: 1em; text-align: center; vertical-align: top\">4</td>\n",
       "    </tr>\n",
       "    <tr>\n",
       "        <td style=\"padding-left: 1em; padding-right: 1em; text-align: center; vertical-align: top\">--9e1ONYQuAa-CB_Rrw7Tw</td>\n",
       "        <td style=\"padding-left: 1em; padding-right: 1em; text-align: center; vertical-align: top\">Lgmfl_A0cy72dwZfbuh9Tg</td>\n",
       "        <td style=\"padding-left: 1em; padding-right: 1em; text-align: center; vertical-align: top\">4</td>\n",
       "    </tr>\n",
       "    <tr>\n",
       "        <td style=\"padding-left: 1em; padding-right: 1em; text-align: center; vertical-align: top\">--9e1ONYQuAa-CB_Rrw7Tw</td>\n",
       "        <td style=\"padding-left: 1em; padding-right: 1em; text-align: center; vertical-align: top\">nGw_csaHeNdtb3IpSmtuGA</td>\n",
       "        <td style=\"padding-left: 1em; padding-right: 1em; text-align: center; vertical-align: top\">2</td>\n",
       "    </tr>\n",
       "    <tr>\n",
       "        <td style=\"padding-left: 1em; padding-right: 1em; text-align: center; vertical-align: top\">--9e1ONYQuAa-CB_Rrw7Tw</td>\n",
       "        <td style=\"padding-left: 1em; padding-right: 1em; text-align: center; vertical-align: top\">KC8H7qTZVPIEnanw9fG43g</td>\n",
       "        <td style=\"padding-left: 1em; padding-right: 1em; text-align: center; vertical-align: top\">5</td>\n",
       "    </tr>\n",
       "    <tr>\n",
       "        <td style=\"padding-left: 1em; padding-right: 1em; text-align: center; vertical-align: top\">--9e1ONYQuAa-CB_Rrw7Tw</td>\n",
       "        <td style=\"padding-left: 1em; padding-right: 1em; text-align: center; vertical-align: top\">P1O81PTvXaR9kYKaP3_qwg</td>\n",
       "        <td style=\"padding-left: 1em; padding-right: 1em; text-align: center; vertical-align: top\">5</td>\n",
       "    </tr>\n",
       "</table>\n",
       "[365550 rows x 3 columns]<br/>Note: Only the head of the SFrame is printed.<br/>You can use print_rows(num_rows=m, num_columns=n) to print more rows and columns.\n",
       "</div>"
      ],
      "text/plain": [
       "Columns:\n",
       "\tbusiness_id\tstr\n",
       "\tuser_id\tstr\n",
       "\tstars\tint\n",
       "\n",
       "Rows: 365550\n",
       "\n",
       "Data:\n",
       "+------------------------+------------------------+-------+\n",
       "|      business_id       |        user_id         | stars |\n",
       "+------------------------+------------------------+-------+\n",
       "| --9e1ONYQuAa-CB_Rrw7Tw | ymlnR8UeFvB4FZL56tCZsA |   5   |\n",
       "| --9e1ONYQuAa-CB_Rrw7Tw | 9pSSL6X6lFpY3FCRLEH3og |   5   |\n",
       "| --9e1ONYQuAa-CB_Rrw7Tw | CEtidlXNyQzgJSdF1ubPFw |   3   |\n",
       "| --9e1ONYQuAa-CB_Rrw7Tw | cZVQGCZ_fHtTdfiyGVJPdg |   5   |\n",
       "| --9e1ONYQuAa-CB_Rrw7Tw | li2cBZl60vgqihDJJG7jeA |   2   |\n",
       "| --9e1ONYQuAa-CB_Rrw7Tw | zGipc5uOJrejX6KkUsSNpA |   4   |\n",
       "| --9e1ONYQuAa-CB_Rrw7Tw | Lgmfl_A0cy72dwZfbuh9Tg |   4   |\n",
       "| --9e1ONYQuAa-CB_Rrw7Tw | nGw_csaHeNdtb3IpSmtuGA |   2   |\n",
       "| --9e1ONYQuAa-CB_Rrw7Tw | KC8H7qTZVPIEnanw9fG43g |   5   |\n",
       "| --9e1ONYQuAa-CB_Rrw7Tw | P1O81PTvXaR9kYKaP3_qwg |   5   |\n",
       "+------------------------+------------------------+-------+\n",
       "[365550 rows x 3 columns]\n",
       "Note: Only the head of the SFrame is printed.\n",
       "You can use print_rows(num_rows=m, num_columns=n) to print more rows and columns."
      ]
     },
     "execution_count": 22,
     "metadata": {},
     "output_type": "execute_result"
    }
   ],
   "source": [
    "sf_stars = graphlab.SFrame(df_stars)\n",
    "sf_stars"
   ]
  },
  {
   "cell_type": "code",
   "execution_count": 24,
   "metadata": {},
   "outputs": [
    {
     "data": {
      "text/html": [
       "<pre>Recsys training: model = item_similarity</pre>"
      ],
      "text/plain": [
       "Recsys training: model = item_similarity"
      ]
     },
     "metadata": {},
     "output_type": "display_data"
    },
    {
     "data": {
      "text/html": [
       "<pre>Preparing data set.</pre>"
      ],
      "text/plain": [
       "Preparing data set."
      ]
     },
     "metadata": {},
     "output_type": "display_data"
    },
    {
     "data": {
      "text/html": [
       "<pre>    Data has 365550 observations with 176960 users and 4550 items.</pre>"
      ],
      "text/plain": [
       "    Data has 365550 observations with 176960 users and 4550 items."
      ]
     },
     "metadata": {},
     "output_type": "display_data"
    },
    {
     "data": {
      "text/html": [
       "<pre>    Data prepared in: 0.464461s</pre>"
      ],
      "text/plain": [
       "    Data prepared in: 0.464461s"
      ]
     },
     "metadata": {},
     "output_type": "display_data"
    },
    {
     "data": {
      "text/html": [
       "<pre>Training model from provided data.</pre>"
      ],
      "text/plain": [
       "Training model from provided data."
      ]
     },
     "metadata": {},
     "output_type": "display_data"
    },
    {
     "data": {
      "text/html": [
       "<pre>Gathering per-item and per-user statistics.</pre>"
      ],
      "text/plain": [
       "Gathering per-item and per-user statistics."
      ]
     },
     "metadata": {},
     "output_type": "display_data"
    },
    {
     "data": {
      "text/html": [
       "<pre>+--------------------------------+------------+</pre>"
      ],
      "text/plain": [
       "+--------------------------------+------------+"
      ]
     },
     "metadata": {},
     "output_type": "display_data"
    },
    {
     "data": {
      "text/html": [
       "<pre>| Elapsed Time (Item Statistics) | % Complete |</pre>"
      ],
      "text/plain": [
       "| Elapsed Time (Item Statistics) | % Complete |"
      ]
     },
     "metadata": {},
     "output_type": "display_data"
    },
    {
     "data": {
      "text/html": [
       "<pre>+--------------------------------+------------+</pre>"
      ],
      "text/plain": [
       "+--------------------------------+------------+"
      ]
     },
     "metadata": {},
     "output_type": "display_data"
    },
    {
     "data": {
      "text/html": [
       "<pre>| 5.55ms                         | 5.5        |</pre>"
      ],
      "text/plain": [
       "| 5.55ms                         | 5.5        |"
      ]
     },
     "metadata": {},
     "output_type": "display_data"
    },
    {
     "data": {
      "text/html": [
       "<pre>| 41.991ms                       | 100        |</pre>"
      ],
      "text/plain": [
       "| 41.991ms                       | 100        |"
      ]
     },
     "metadata": {},
     "output_type": "display_data"
    },
    {
     "data": {
      "text/html": [
       "<pre>+--------------------------------+------------+</pre>"
      ],
      "text/plain": [
       "+--------------------------------+------------+"
      ]
     },
     "metadata": {},
     "output_type": "display_data"
    },
    {
     "data": {
      "text/html": [
       "<pre>Setting up lookup tables.</pre>"
      ],
      "text/plain": [
       "Setting up lookup tables."
      ]
     },
     "metadata": {},
     "output_type": "display_data"
    },
    {
     "data": {
      "text/html": [
       "<pre>Processing data in one pass using dense lookup tables.</pre>"
      ],
      "text/plain": [
       "Processing data in one pass using dense lookup tables."
      ]
     },
     "metadata": {},
     "output_type": "display_data"
    },
    {
     "data": {
      "text/html": [
       "<pre>+-------------------------------------+------------------+-----------------+</pre>"
      ],
      "text/plain": [
       "+-------------------------------------+------------------+-----------------+"
      ]
     },
     "metadata": {},
     "output_type": "display_data"
    },
    {
     "data": {
      "text/html": [
       "<pre>| Elapsed Time (Constructing Lookups) | Total % Complete | Items Processed |</pre>"
      ],
      "text/plain": [
       "| Elapsed Time (Constructing Lookups) | Total % Complete | Items Processed |"
      ]
     },
     "metadata": {},
     "output_type": "display_data"
    },
    {
     "data": {
      "text/html": [
       "<pre>+-------------------------------------+------------------+-----------------+</pre>"
      ],
      "text/plain": [
       "+-------------------------------------+------------------+-----------------+"
      ]
     },
     "metadata": {},
     "output_type": "display_data"
    },
    {
     "data": {
      "text/html": [
       "<pre>| 156.614ms                           | 0                | 0               |</pre>"
      ],
      "text/plain": [
       "| 156.614ms                           | 0                | 0               |"
      ]
     },
     "metadata": {},
     "output_type": "display_data"
    },
    {
     "data": {
      "text/html": [
       "<pre>| 370.695ms                           | 100              | 4550            |</pre>"
      ],
      "text/plain": [
       "| 370.695ms                           | 100              | 4550            |"
      ]
     },
     "metadata": {},
     "output_type": "display_data"
    },
    {
     "data": {
      "text/html": [
       "<pre>+-------------------------------------+------------------+-----------------+</pre>"
      ],
      "text/plain": [
       "+-------------------------------------+------------------+-----------------+"
      ]
     },
     "metadata": {},
     "output_type": "display_data"
    },
    {
     "data": {
      "text/html": [
       "<pre>Finalizing lookup tables.</pre>"
      ],
      "text/plain": [
       "Finalizing lookup tables."
      ]
     },
     "metadata": {},
     "output_type": "display_data"
    },
    {
     "data": {
      "text/html": [
       "<pre>Generating candidate set for working with new users.</pre>"
      ],
      "text/plain": [
       "Generating candidate set for working with new users."
      ]
     },
     "metadata": {},
     "output_type": "display_data"
    },
    {
     "data": {
      "text/html": [
       "<pre>Finished training in 1.41609s</pre>"
      ],
      "text/plain": [
       "Finished training in 1.41609s"
      ]
     },
     "metadata": {},
     "output_type": "display_data"
    }
   ],
   "source": [
    "# item-item recommender\n",
    "item_item_rec = graphlab.recommender.item_similarity_recommender.create(sf_stars,\n",
    "                                                                       user_id='user_id',\n",
    "                                                                       item_id='business_id',\n",
    "                                                                       target='stars')"
   ]
  },
  {
   "cell_type": "code",
   "execution_count": 26,
   "metadata": {},
   "outputs": [
    {
     "data": {
      "text/html": [
       "<div style=\"max-height:1000px;max-width:1500px;overflow:auto;\"><table frame=\"box\" rules=\"cols\">\n",
       "    <tr>\n",
       "        <th style=\"padding-left: 1em; padding-right: 1em; text-align: center\">user_id</th>\n",
       "        <th style=\"padding-left: 1em; padding-right: 1em; text-align: center\">business_id</th>\n",
       "        <th style=\"padding-left: 1em; padding-right: 1em; text-align: center\">score</th>\n",
       "        <th style=\"padding-left: 1em; padding-right: 1em; text-align: center\">rank</th>\n",
       "    </tr>\n",
       "    <tr>\n",
       "        <td style=\"padding-left: 1em; padding-right: 1em; text-align: center; vertical-align: top\">ymlnR8UeFvB4FZL56tCZsA</td>\n",
       "        <td style=\"padding-left: 1em; padding-right: 1em; text-align: center; vertical-align: top\">J4CATH00YZrq8Bne2S4_cw</td>\n",
       "        <td style=\"padding-left: 1em; padding-right: 1em; text-align: center; vertical-align: top\">0.0204778313637</td>\n",
       "        <td style=\"padding-left: 1em; padding-right: 1em; text-align: center; vertical-align: top\">1</td>\n",
       "    </tr>\n",
       "    <tr>\n",
       "        <td style=\"padding-left: 1em; padding-right: 1em; text-align: center; vertical-align: top\">ymlnR8UeFvB4FZL56tCZsA</td>\n",
       "        <td style=\"padding-left: 1em; padding-right: 1em; text-align: center; vertical-align: top\">rcaPajgKOJC2vo_l3xa42A</td>\n",
       "        <td style=\"padding-left: 1em; padding-right: 1em; text-align: center; vertical-align: top\">0.0176795721054</td>\n",
       "        <td style=\"padding-left: 1em; padding-right: 1em; text-align: center; vertical-align: top\">2</td>\n",
       "    </tr>\n",
       "    <tr>\n",
       "        <td style=\"padding-left: 1em; padding-right: 1em; text-align: center; vertical-align: top\">ymlnR8UeFvB4FZL56tCZsA</td>\n",
       "        <td style=\"padding-left: 1em; padding-right: 1em; text-align: center; vertical-align: top\">qFAw6wHMMcr4ctF-ZdGhEA</td>\n",
       "        <td style=\"padding-left: 1em; padding-right: 1em; text-align: center; vertical-align: top\">0.0146138072014</td>\n",
       "        <td style=\"padding-left: 1em; padding-right: 1em; text-align: center; vertical-align: top\">3</td>\n",
       "    </tr>\n",
       "    <tr>\n",
       "        <td style=\"padding-left: 1em; padding-right: 1em; text-align: center; vertical-align: top\">9pSSL6X6lFpY3FCRLEH3og</td>\n",
       "        <td style=\"padding-left: 1em; padding-right: 1em; text-align: center; vertical-align: top\">dubu2kN3Y9EB4uYGFWa0MQ</td>\n",
       "        <td style=\"padding-left: 1em; padding-right: 1em; text-align: center; vertical-align: top\">0.0155709385872</td>\n",
       "        <td style=\"padding-left: 1em; padding-right: 1em; text-align: center; vertical-align: top\">1</td>\n",
       "    </tr>\n",
       "    <tr>\n",
       "        <td style=\"padding-left: 1em; padding-right: 1em; text-align: center; vertical-align: top\">9pSSL6X6lFpY3FCRLEH3og</td>\n",
       "        <td style=\"padding-left: 1em; padding-right: 1em; text-align: center; vertical-align: top\">J4CATH00YZrq8Bne2S4_cw</td>\n",
       "        <td style=\"padding-left: 1em; padding-right: 1em; text-align: center; vertical-align: top\">0.0102389156818</td>\n",
       "        <td style=\"padding-left: 1em; padding-right: 1em; text-align: center; vertical-align: top\">2</td>\n",
       "    </tr>\n",
       "    <tr>\n",
       "        <td style=\"padding-left: 1em; padding-right: 1em; text-align: center; vertical-align: top\">9pSSL6X6lFpY3FCRLEH3og</td>\n",
       "        <td style=\"padding-left: 1em; padding-right: 1em; text-align: center; vertical-align: top\">SeNOJ2zYHziptxLuiRINLg</td>\n",
       "        <td style=\"padding-left: 1em; padding-right: 1em; text-align: center; vertical-align: top\">0.0100431740284</td>\n",
       "        <td style=\"padding-left: 1em; padding-right: 1em; text-align: center; vertical-align: top\">3</td>\n",
       "    </tr>\n",
       "    <tr>\n",
       "        <td style=\"padding-left: 1em; padding-right: 1em; text-align: center; vertical-align: top\">CEtidlXNyQzgJSdF1ubPFw</td>\n",
       "        <td style=\"padding-left: 1em; padding-right: 1em; text-align: center; vertical-align: top\">QJatAcxYgK1Zp9BRZMAx7g</td>\n",
       "        <td style=\"padding-left: 1em; padding-right: 1em; text-align: center; vertical-align: top\">0.00976059834162</td>\n",
       "        <td style=\"padding-left: 1em; padding-right: 1em; text-align: center; vertical-align: top\">1</td>\n",
       "    </tr>\n",
       "    <tr>\n",
       "        <td style=\"padding-left: 1em; padding-right: 1em; text-align: center; vertical-align: top\">CEtidlXNyQzgJSdF1ubPFw</td>\n",
       "        <td style=\"padding-left: 1em; padding-right: 1em; text-align: center; vertical-align: top\">77h11eWv6HKJAgojLx8G4w</td>\n",
       "        <td style=\"padding-left: 1em; padding-right: 1em; text-align: center; vertical-align: top\">0.00916230678558</td>\n",
       "        <td style=\"padding-left: 1em; padding-right: 1em; text-align: center; vertical-align: top\">2</td>\n",
       "    </tr>\n",
       "    <tr>\n",
       "        <td style=\"padding-left: 1em; padding-right: 1em; text-align: center; vertical-align: top\">CEtidlXNyQzgJSdF1ubPFw</td>\n",
       "        <td style=\"padding-left: 1em; padding-right: 1em; text-align: center; vertical-align: top\">uuGL8diLlHfeUeFuod3F-w</td>\n",
       "        <td style=\"padding-left: 1em; padding-right: 1em; text-align: center; vertical-align: top\">0.00723868608475</td>\n",
       "        <td style=\"padding-left: 1em; padding-right: 1em; text-align: center; vertical-align: top\">3</td>\n",
       "    </tr>\n",
       "    <tr>\n",
       "        <td style=\"padding-left: 1em; padding-right: 1em; text-align: center; vertical-align: top\">cZVQGCZ_fHtTdfiyGVJPdg</td>\n",
       "        <td style=\"padding-left: 1em; padding-right: 1em; text-align: center; vertical-align: top\">J4CATH00YZrq8Bne2S4_cw</td>\n",
       "        <td style=\"padding-left: 1em; padding-right: 1em; text-align: center; vertical-align: top\">0.0204778313637</td>\n",
       "        <td style=\"padding-left: 1em; padding-right: 1em; text-align: center; vertical-align: top\">1</td>\n",
       "    </tr>\n",
       "</table>\n",
       "[530880 rows x 4 columns]<br/>Note: Only the head of the SFrame is printed.<br/>You can use print_rows(num_rows=m, num_columns=n) to print more rows and columns.\n",
       "</div>"
      ],
      "text/plain": [
       "Columns:\n",
       "\tuser_id\tstr\n",
       "\tbusiness_id\tstr\n",
       "\tscore\tfloat\n",
       "\trank\tint\n",
       "\n",
       "Rows: 530880\n",
       "\n",
       "Data:\n",
       "+------------------------+------------------------+------------------+------+\n",
       "|        user_id         |      business_id       |      score       | rank |\n",
       "+------------------------+------------------------+------------------+------+\n",
       "| ymlnR8UeFvB4FZL56tCZsA | J4CATH00YZrq8Bne2S4_cw | 0.0204778313637  |  1   |\n",
       "| ymlnR8UeFvB4FZL56tCZsA | rcaPajgKOJC2vo_l3xa42A | 0.0176795721054  |  2   |\n",
       "| ymlnR8UeFvB4FZL56tCZsA | qFAw6wHMMcr4ctF-ZdGhEA | 0.0146138072014  |  3   |\n",
       "| 9pSSL6X6lFpY3FCRLEH3og | dubu2kN3Y9EB4uYGFWa0MQ | 0.0155709385872  |  1   |\n",
       "| 9pSSL6X6lFpY3FCRLEH3og | J4CATH00YZrq8Bne2S4_cw | 0.0102389156818  |  2   |\n",
       "| 9pSSL6X6lFpY3FCRLEH3og | SeNOJ2zYHziptxLuiRINLg | 0.0100431740284  |  3   |\n",
       "| CEtidlXNyQzgJSdF1ubPFw | QJatAcxYgK1Zp9BRZMAx7g | 0.00976059834162 |  1   |\n",
       "| CEtidlXNyQzgJSdF1ubPFw | 77h11eWv6HKJAgojLx8G4w | 0.00916230678558 |  2   |\n",
       "| CEtidlXNyQzgJSdF1ubPFw | uuGL8diLlHfeUeFuod3F-w | 0.00723868608475 |  3   |\n",
       "| cZVQGCZ_fHtTdfiyGVJPdg | J4CATH00YZrq8Bne2S4_cw | 0.0204778313637  |  1   |\n",
       "+------------------------+------------------------+------------------+------+\n",
       "[530880 rows x 4 columns]\n",
       "Note: Only the head of the SFrame is printed.\n",
       "You can use print_rows(num_rows=m, num_columns=n) to print more rows and columns."
      ]
     },
     "execution_count": 26,
     "metadata": {},
     "output_type": "execute_result"
    }
   ],
   "source": [
    "item_item_rec_result = item_item_rec.recommend(k=3, verbose=False)\n",
    "item_item_rec_result"
   ]
  },
  {
   "cell_type": "markdown",
   "metadata": {},
   "source": [
    "### Content-based recommender"
   ]
  },
  {
   "cell_type": "markdown",
   "metadata": {},
   "source": [
    "#### Extract some feature for recommender"
   ]
  },
  {
   "cell_type": "code",
   "execution_count": 27,
   "metadata": {},
   "outputs": [
    {
     "data": {
      "text/html": [
       "<div>\n",
       "<table border=\"1\" class=\"dataframe\">\n",
       "  <thead>\n",
       "    <tr style=\"text-align: right;\">\n",
       "      <th></th>\n",
       "      <th>avg_stars</th>\n",
       "      <th>cool</th>\n",
       "      <th>funny</th>\n",
       "      <th>stars</th>\n",
       "      <th>useful</th>\n",
       "    </tr>\n",
       "    <tr>\n",
       "      <th>business_id</th>\n",
       "      <th></th>\n",
       "      <th></th>\n",
       "      <th></th>\n",
       "      <th></th>\n",
       "      <th></th>\n",
       "    </tr>\n",
       "  </thead>\n",
       "  <tbody>\n",
       "    <tr>\n",
       "      <th>--9e1ONYQuAa-CB_Rrw7Tw</th>\n",
       "      <td>4.0</td>\n",
       "      <td>0.942761</td>\n",
       "      <td>0.572391</td>\n",
       "      <td>4.148148</td>\n",
       "      <td>1.195286</td>\n",
       "    </tr>\n",
       "    <tr>\n",
       "      <th>-1m9o3vGRA8IBPNvNqKLmA</th>\n",
       "      <td>4.5</td>\n",
       "      <td>0.580838</td>\n",
       "      <td>0.299401</td>\n",
       "      <td>4.592814</td>\n",
       "      <td>1.017964</td>\n",
       "    </tr>\n",
       "    <tr>\n",
       "      <th>-3zffZUHoY8bQjGfPSoBKQ</th>\n",
       "      <td>4.0</td>\n",
       "      <td>1.313131</td>\n",
       "      <td>1.080808</td>\n",
       "      <td>3.898990</td>\n",
       "      <td>1.868687</td>\n",
       "    </tr>\n",
       "    <tr>\n",
       "      <th>-8R_-EkGpUhBk55K9Dd4mg</th>\n",
       "      <td>3.5</td>\n",
       "      <td>0.725000</td>\n",
       "      <td>0.600000</td>\n",
       "      <td>4.200000</td>\n",
       "      <td>0.875000</td>\n",
       "    </tr>\n",
       "    <tr>\n",
       "      <th>-9YyInW1wapzdNZrhQJ9dg</th>\n",
       "      <td>2.5</td>\n",
       "      <td>0.203390</td>\n",
       "      <td>0.169492</td>\n",
       "      <td>2.779661</td>\n",
       "      <td>1.067797</td>\n",
       "    </tr>\n",
       "  </tbody>\n",
       "</table>\n",
       "</div>"
      ],
      "text/plain": [
       "                        avg_stars      cool     funny     stars    useful\n",
       "business_id                                                              \n",
       "--9e1ONYQuAa-CB_Rrw7Tw        4.0  0.942761  0.572391  4.148148  1.195286\n",
       "-1m9o3vGRA8IBPNvNqKLmA        4.5  0.580838  0.299401  4.592814  1.017964\n",
       "-3zffZUHoY8bQjGfPSoBKQ        4.0  1.313131  1.080808  3.898990  1.868687\n",
       "-8R_-EkGpUhBk55K9Dd4mg        3.5  0.725000  0.600000  4.200000  0.875000\n",
       "-9YyInW1wapzdNZrhQJ9dg        2.5  0.203390  0.169492  2.779661  1.067797"
      ]
     },
     "execution_count": 27,
     "metadata": {},
     "output_type": "execute_result"
    }
   ],
   "source": [
    "# Group by business_id, then average numerical features\n",
    "df_average = df.groupby(['business_id']).mean()\n",
    "df_average.head()"
   ]
  },
  {
   "cell_type": "code",
   "execution_count": 28,
   "metadata": {},
   "outputs": [
    {
     "data": {
      "text/plain": [
       "business_id\n",
       "--9e1ONYQuAa-CB_Rrw7Tw             [Steakhouses, Restaurants, Cajun/Creole]\n",
       "-1m9o3vGRA8IBPNvNqKLmA    [African, Restaurants, Bars, American (New), C...\n",
       "-3zffZUHoY8bQjGfPSoBKQ    [Nightlife, American (New), Bars, Seafood, Res...\n",
       "-8R_-EkGpUhBk55K9Dd4mg                                  [Restaurants, Thai]\n",
       "-9YyInW1wapzdNZrhQJ9dg                               [Restaurants, Buffets]\n",
       "Name: categories, dtype: object"
      ]
     },
     "execution_count": 28,
     "metadata": {},
     "output_type": "execute_result"
    }
   ],
   "source": [
    "# Group by business_id, extract categories data\n",
    "categories_series = df.groupby('business_id').categories.apply(np.unique)\n",
    "categories_series.head()"
   ]
  },
  {
   "cell_type": "code",
   "execution_count": 29,
   "metadata": {
    "collapsed": true
   },
   "outputs": [],
   "source": [
    "# Convert categories data to string remove'[]'\n",
    "categories_series = categories_series.str.join('').apply(lambda x: x[1:-1])"
   ]
  },
  {
   "cell_type": "code",
   "execution_count": 32,
   "metadata": {},
   "outputs": [
    {
     "data": {
      "text/html": [
       "<div>\n",
       "<table border=\"1\" class=\"dataframe\">\n",
       "  <thead>\n",
       "    <tr style=\"text-align: right;\">\n",
       "      <th></th>\n",
       "      <th>acai</th>\n",
       "      <th>acarons</th>\n",
       "      <th>acos</th>\n",
       "      <th>active</th>\n",
       "      <th>activities</th>\n",
       "      <th>acupuncture</th>\n",
       "      <th>adoption</th>\n",
       "      <th>adult</th>\n",
       "      <th>afes</th>\n",
       "      <th>afeteria</th>\n",
       "      <th>...</th>\n",
       "      <th>women</th>\n",
       "      <th>wrap</th>\n",
       "      <th>wraps</th>\n",
       "      <th>yelash</th>\n",
       "      <th>yms</th>\n",
       "      <th>yogur</th>\n",
       "      <th>yogurt</th>\n",
       "      <th>yourself</th>\n",
       "      <th>zakaya</th>\n",
       "      <th>zechuan</th>\n",
       "    </tr>\n",
       "    <tr>\n",
       "      <th>business_id</th>\n",
       "      <th></th>\n",
       "      <th></th>\n",
       "      <th></th>\n",
       "      <th></th>\n",
       "      <th></th>\n",
       "      <th></th>\n",
       "      <th></th>\n",
       "      <th></th>\n",
       "      <th></th>\n",
       "      <th></th>\n",
       "      <th></th>\n",
       "      <th></th>\n",
       "      <th></th>\n",
       "      <th></th>\n",
       "      <th></th>\n",
       "      <th></th>\n",
       "      <th></th>\n",
       "      <th></th>\n",
       "      <th></th>\n",
       "      <th></th>\n",
       "      <th></th>\n",
       "    </tr>\n",
       "  </thead>\n",
       "  <tbody>\n",
       "    <tr>\n",
       "      <th>--9e1ONYQuAa-CB_Rrw7Tw</th>\n",
       "      <td>0</td>\n",
       "      <td>0</td>\n",
       "      <td>0</td>\n",
       "      <td>0</td>\n",
       "      <td>0</td>\n",
       "      <td>0</td>\n",
       "      <td>0</td>\n",
       "      <td>0</td>\n",
       "      <td>0</td>\n",
       "      <td>0</td>\n",
       "      <td>...</td>\n",
       "      <td>0</td>\n",
       "      <td>0</td>\n",
       "      <td>0</td>\n",
       "      <td>0</td>\n",
       "      <td>0</td>\n",
       "      <td>0</td>\n",
       "      <td>0</td>\n",
       "      <td>0</td>\n",
       "      <td>0</td>\n",
       "      <td>0</td>\n",
       "    </tr>\n",
       "    <tr>\n",
       "      <th>-1m9o3vGRA8IBPNvNqKLmA</th>\n",
       "      <td>0</td>\n",
       "      <td>0</td>\n",
       "      <td>0</td>\n",
       "      <td>0</td>\n",
       "      <td>0</td>\n",
       "      <td>0</td>\n",
       "      <td>0</td>\n",
       "      <td>0</td>\n",
       "      <td>0</td>\n",
       "      <td>0</td>\n",
       "      <td>...</td>\n",
       "      <td>0</td>\n",
       "      <td>0</td>\n",
       "      <td>0</td>\n",
       "      <td>0</td>\n",
       "      <td>0</td>\n",
       "      <td>0</td>\n",
       "      <td>0</td>\n",
       "      <td>0</td>\n",
       "      <td>0</td>\n",
       "      <td>0</td>\n",
       "    </tr>\n",
       "    <tr>\n",
       "      <th>-3zffZUHoY8bQjGfPSoBKQ</th>\n",
       "      <td>0</td>\n",
       "      <td>0</td>\n",
       "      <td>0</td>\n",
       "      <td>0</td>\n",
       "      <td>0</td>\n",
       "      <td>0</td>\n",
       "      <td>0</td>\n",
       "      <td>0</td>\n",
       "      <td>0</td>\n",
       "      <td>0</td>\n",
       "      <td>...</td>\n",
       "      <td>0</td>\n",
       "      <td>0</td>\n",
       "      <td>0</td>\n",
       "      <td>0</td>\n",
       "      <td>0</td>\n",
       "      <td>0</td>\n",
       "      <td>0</td>\n",
       "      <td>0</td>\n",
       "      <td>0</td>\n",
       "      <td>0</td>\n",
       "    </tr>\n",
       "    <tr>\n",
       "      <th>-8R_-EkGpUhBk55K9Dd4mg</th>\n",
       "      <td>0</td>\n",
       "      <td>0</td>\n",
       "      <td>0</td>\n",
       "      <td>0</td>\n",
       "      <td>0</td>\n",
       "      <td>0</td>\n",
       "      <td>0</td>\n",
       "      <td>0</td>\n",
       "      <td>0</td>\n",
       "      <td>0</td>\n",
       "      <td>...</td>\n",
       "      <td>0</td>\n",
       "      <td>0</td>\n",
       "      <td>0</td>\n",
       "      <td>0</td>\n",
       "      <td>0</td>\n",
       "      <td>0</td>\n",
       "      <td>0</td>\n",
       "      <td>0</td>\n",
       "      <td>0</td>\n",
       "      <td>0</td>\n",
       "    </tr>\n",
       "    <tr>\n",
       "      <th>-9YyInW1wapzdNZrhQJ9dg</th>\n",
       "      <td>0</td>\n",
       "      <td>0</td>\n",
       "      <td>0</td>\n",
       "      <td>0</td>\n",
       "      <td>0</td>\n",
       "      <td>0</td>\n",
       "      <td>0</td>\n",
       "      <td>0</td>\n",
       "      <td>0</td>\n",
       "      <td>0</td>\n",
       "      <td>...</td>\n",
       "      <td>0</td>\n",
       "      <td>0</td>\n",
       "      <td>0</td>\n",
       "      <td>0</td>\n",
       "      <td>0</td>\n",
       "      <td>0</td>\n",
       "      <td>0</td>\n",
       "      <td>0</td>\n",
       "      <td>0</td>\n",
       "      <td>0</td>\n",
       "    </tr>\n",
       "  </tbody>\n",
       "</table>\n",
       "<p>5 rows × 802 columns</p>\n",
       "</div>"
      ],
      "text/plain": [
       "                        acai  acarons  acos  active  activities  acupuncture  \\\n",
       "business_id                                                                    \n",
       "--9e1ONYQuAa-CB_Rrw7Tw     0        0     0       0           0            0   \n",
       "-1m9o3vGRA8IBPNvNqKLmA     0        0     0       0           0            0   \n",
       "-3zffZUHoY8bQjGfPSoBKQ     0        0     0       0           0            0   \n",
       "-8R_-EkGpUhBk55K9Dd4mg     0        0     0       0           0            0   \n",
       "-9YyInW1wapzdNZrhQJ9dg     0        0     0       0           0            0   \n",
       "\n",
       "                        adoption  adult  afes  afeteria   ...     women  wrap  \\\n",
       "business_id                                               ...                   \n",
       "--9e1ONYQuAa-CB_Rrw7Tw         0      0     0         0   ...         0     0   \n",
       "-1m9o3vGRA8IBPNvNqKLmA         0      0     0         0   ...         0     0   \n",
       "-3zffZUHoY8bQjGfPSoBKQ         0      0     0         0   ...         0     0   \n",
       "-8R_-EkGpUhBk55K9Dd4mg         0      0     0         0   ...         0     0   \n",
       "-9YyInW1wapzdNZrhQJ9dg         0      0     0         0   ...         0     0   \n",
       "\n",
       "                        wraps  yelash  yms  yogur  yogurt  yourself  zakaya  \\\n",
       "business_id                                                                   \n",
       "--9e1ONYQuAa-CB_Rrw7Tw      0       0    0      0       0         0       0   \n",
       "-1m9o3vGRA8IBPNvNqKLmA      0       0    0      0       0         0       0   \n",
       "-3zffZUHoY8bQjGfPSoBKQ      0       0    0      0       0         0       0   \n",
       "-8R_-EkGpUhBk55K9Dd4mg      0       0    0      0       0         0       0   \n",
       "-9YyInW1wapzdNZrhQJ9dg      0       0    0      0       0         0       0   \n",
       "\n",
       "                        zechuan  \n",
       "business_id                      \n",
       "--9e1ONYQuAa-CB_Rrw7Tw        0  \n",
       "-1m9o3vGRA8IBPNvNqKLmA        0  \n",
       "-3zffZUHoY8bQjGfPSoBKQ        0  \n",
       "-8R_-EkGpUhBk55K9Dd4mg        0  \n",
       "-9YyInW1wapzdNZrhQJ9dg        0  \n",
       "\n",
       "[5 rows x 802 columns]"
      ]
     },
     "execution_count": 32,
     "metadata": {},
     "output_type": "execute_result"
    }
   ],
   "source": [
    "# Business_id, categories table\n",
    "\n",
    "from sklearn.feature_extraction.text import CountVectorizer\n",
    "\n",
    "vectorizer = CountVectorizer()\n",
    "categories_mat = vectorizer.fit_transform(categories_series).toarray()\n",
    "categories = vectorizer.get_feature_names()\n",
    "df_categories = pd.DataFrame(categories_mat,\n",
    "                            columns = categories,\n",
    "                            index = categories_series.index)\n",
    "df_categories.head()"
   ]
  },
  {
   "cell_type": "code",
   "execution_count": 36,
   "metadata": {},
   "outputs": [
    {
     "name": "stdout",
     "output_type": "stream",
     "text": [
      "0.906048244716\n"
     ]
    },
    {
     "data": {
      "text/html": [
       "<div>\n",
       "<table border=\"1\" class=\"dataframe\">\n",
       "  <thead>\n",
       "    <tr style=\"text-align: right;\">\n",
       "      <th></th>\n",
       "      <th>0</th>\n",
       "      <th>1</th>\n",
       "      <th>2</th>\n",
       "      <th>3</th>\n",
       "      <th>4</th>\n",
       "      <th>5</th>\n",
       "      <th>6</th>\n",
       "      <th>7</th>\n",
       "      <th>8</th>\n",
       "      <th>9</th>\n",
       "      <th>...</th>\n",
       "      <th>140</th>\n",
       "      <th>141</th>\n",
       "      <th>142</th>\n",
       "      <th>143</th>\n",
       "      <th>144</th>\n",
       "      <th>145</th>\n",
       "      <th>146</th>\n",
       "      <th>147</th>\n",
       "      <th>148</th>\n",
       "      <th>149</th>\n",
       "    </tr>\n",
       "    <tr>\n",
       "      <th>business_id</th>\n",
       "      <th></th>\n",
       "      <th></th>\n",
       "      <th></th>\n",
       "      <th></th>\n",
       "      <th></th>\n",
       "      <th></th>\n",
       "      <th></th>\n",
       "      <th></th>\n",
       "      <th></th>\n",
       "      <th></th>\n",
       "      <th></th>\n",
       "      <th></th>\n",
       "      <th></th>\n",
       "      <th></th>\n",
       "      <th></th>\n",
       "      <th></th>\n",
       "      <th></th>\n",
       "      <th></th>\n",
       "      <th></th>\n",
       "      <th></th>\n",
       "      <th></th>\n",
       "    </tr>\n",
       "  </thead>\n",
       "  <tbody>\n",
       "    <tr>\n",
       "      <th>--9e1ONYQuAa-CB_Rrw7Tw</th>\n",
       "      <td>0.512939</td>\n",
       "      <td>0.077172</td>\n",
       "      <td>-0.627304</td>\n",
       "      <td>-0.008562</td>\n",
       "      <td>-0.080300</td>\n",
       "      <td>-0.400902</td>\n",
       "      <td>0.035088</td>\n",
       "      <td>0.111701</td>\n",
       "      <td>-0.279039</td>\n",
       "      <td>-0.014139</td>\n",
       "      <td>...</td>\n",
       "      <td>0.124465</td>\n",
       "      <td>-0.081427</td>\n",
       "      <td>-0.036375</td>\n",
       "      <td>0.011302</td>\n",
       "      <td>-0.033737</td>\n",
       "      <td>0.016370</td>\n",
       "      <td>-0.017786</td>\n",
       "      <td>0.030622</td>\n",
       "      <td>-0.058617</td>\n",
       "      <td>0.003819</td>\n",
       "    </tr>\n",
       "    <tr>\n",
       "      <th>-1m9o3vGRA8IBPNvNqKLmA</th>\n",
       "      <td>1.869801</td>\n",
       "      <td>1.766107</td>\n",
       "      <td>-0.046958</td>\n",
       "      <td>0.256093</td>\n",
       "      <td>0.702386</td>\n",
       "      <td>0.239744</td>\n",
       "      <td>-0.147573</td>\n",
       "      <td>-0.287430</td>\n",
       "      <td>-0.152062</td>\n",
       "      <td>-0.575805</td>\n",
       "      <td>...</td>\n",
       "      <td>-0.015253</td>\n",
       "      <td>0.000789</td>\n",
       "      <td>-0.021166</td>\n",
       "      <td>0.001060</td>\n",
       "      <td>0.016171</td>\n",
       "      <td>0.026428</td>\n",
       "      <td>-0.056866</td>\n",
       "      <td>-0.028400</td>\n",
       "      <td>0.032341</td>\n",
       "      <td>0.032067</td>\n",
       "    </tr>\n",
       "    <tr>\n",
       "      <th>-3zffZUHoY8bQjGfPSoBKQ</th>\n",
       "      <td>1.010217</td>\n",
       "      <td>0.905094</td>\n",
       "      <td>0.929597</td>\n",
       "      <td>0.624379</td>\n",
       "      <td>-0.218638</td>\n",
       "      <td>0.024202</td>\n",
       "      <td>0.005475</td>\n",
       "      <td>-0.229199</td>\n",
       "      <td>-0.116770</td>\n",
       "      <td>-0.921204</td>\n",
       "      <td>...</td>\n",
       "      <td>0.001244</td>\n",
       "      <td>0.050103</td>\n",
       "      <td>0.030503</td>\n",
       "      <td>0.002676</td>\n",
       "      <td>-0.011805</td>\n",
       "      <td>0.021594</td>\n",
       "      <td>0.022220</td>\n",
       "      <td>-0.014641</td>\n",
       "      <td>-0.013664</td>\n",
       "      <td>0.009695</td>\n",
       "    </tr>\n",
       "    <tr>\n",
       "      <th>-8R_-EkGpUhBk55K9Dd4mg</th>\n",
       "      <td>0.141581</td>\n",
       "      <td>-0.040164</td>\n",
       "      <td>0.464721</td>\n",
       "      <td>-0.715113</td>\n",
       "      <td>0.203997</td>\n",
       "      <td>-0.200633</td>\n",
       "      <td>0.123290</td>\n",
       "      <td>0.228312</td>\n",
       "      <td>-0.213223</td>\n",
       "      <td>-0.006168</td>\n",
       "      <td>...</td>\n",
       "      <td>0.048699</td>\n",
       "      <td>0.032499</td>\n",
       "      <td>-0.011501</td>\n",
       "      <td>0.011288</td>\n",
       "      <td>-0.038182</td>\n",
       "      <td>-0.009681</td>\n",
       "      <td>-0.002972</td>\n",
       "      <td>0.005850</td>\n",
       "      <td>-0.000244</td>\n",
       "      <td>-0.043431</td>\n",
       "    </tr>\n",
       "    <tr>\n",
       "      <th>-9YyInW1wapzdNZrhQJ9dg</th>\n",
       "      <td>0.142200</td>\n",
       "      <td>-0.035728</td>\n",
       "      <td>0.462518</td>\n",
       "      <td>-0.712868</td>\n",
       "      <td>0.202336</td>\n",
       "      <td>-0.203241</td>\n",
       "      <td>0.121576</td>\n",
       "      <td>0.231939</td>\n",
       "      <td>-0.209111</td>\n",
       "      <td>-0.002392</td>\n",
       "      <td>...</td>\n",
       "      <td>-0.006417</td>\n",
       "      <td>0.037609</td>\n",
       "      <td>-0.043397</td>\n",
       "      <td>0.010293</td>\n",
       "      <td>-0.006377</td>\n",
       "      <td>0.040957</td>\n",
       "      <td>-0.007976</td>\n",
       "      <td>-0.000393</td>\n",
       "      <td>0.013848</td>\n",
       "      <td>-0.017477</td>\n",
       "    </tr>\n",
       "  </tbody>\n",
       "</table>\n",
       "<p>5 rows × 150 columns</p>\n",
       "</div>"
      ],
      "text/plain": [
       "                             0         1         2         3         4    \\\n",
       "business_id                                                                \n",
       "--9e1ONYQuAa-CB_Rrw7Tw  0.512939  0.077172 -0.627304 -0.008562 -0.080300   \n",
       "-1m9o3vGRA8IBPNvNqKLmA  1.869801  1.766107 -0.046958  0.256093  0.702386   \n",
       "-3zffZUHoY8bQjGfPSoBKQ  1.010217  0.905094  0.929597  0.624379 -0.218638   \n",
       "-8R_-EkGpUhBk55K9Dd4mg  0.141581 -0.040164  0.464721 -0.715113  0.203997   \n",
       "-9YyInW1wapzdNZrhQJ9dg  0.142200 -0.035728  0.462518 -0.712868  0.202336   \n",
       "\n",
       "                             5         6         7         8         9    \\\n",
       "business_id                                                                \n",
       "--9e1ONYQuAa-CB_Rrw7Tw -0.400902  0.035088  0.111701 -0.279039 -0.014139   \n",
       "-1m9o3vGRA8IBPNvNqKLmA  0.239744 -0.147573 -0.287430 -0.152062 -0.575805   \n",
       "-3zffZUHoY8bQjGfPSoBKQ  0.024202  0.005475 -0.229199 -0.116770 -0.921204   \n",
       "-8R_-EkGpUhBk55K9Dd4mg -0.200633  0.123290  0.228312 -0.213223 -0.006168   \n",
       "-9YyInW1wapzdNZrhQJ9dg -0.203241  0.121576  0.231939 -0.209111 -0.002392   \n",
       "\n",
       "                          ...          140       141       142       143  \\\n",
       "business_id               ...                                              \n",
       "--9e1ONYQuAa-CB_Rrw7Tw    ...     0.124465 -0.081427 -0.036375  0.011302   \n",
       "-1m9o3vGRA8IBPNvNqKLmA    ...    -0.015253  0.000789 -0.021166  0.001060   \n",
       "-3zffZUHoY8bQjGfPSoBKQ    ...     0.001244  0.050103  0.030503  0.002676   \n",
       "-8R_-EkGpUhBk55K9Dd4mg    ...     0.048699  0.032499 -0.011501  0.011288   \n",
       "-9YyInW1wapzdNZrhQJ9dg    ...    -0.006417  0.037609 -0.043397  0.010293   \n",
       "\n",
       "                             144       145       146       147       148  \\\n",
       "business_id                                                                \n",
       "--9e1ONYQuAa-CB_Rrw7Tw -0.033737  0.016370 -0.017786  0.030622 -0.058617   \n",
       "-1m9o3vGRA8IBPNvNqKLmA  0.016171  0.026428 -0.056866 -0.028400  0.032341   \n",
       "-3zffZUHoY8bQjGfPSoBKQ -0.011805  0.021594  0.022220 -0.014641 -0.013664   \n",
       "-8R_-EkGpUhBk55K9Dd4mg -0.038182 -0.009681 -0.002972  0.005850 -0.000244   \n",
       "-9YyInW1wapzdNZrhQJ9dg -0.006377  0.040957 -0.007976 -0.000393  0.013848   \n",
       "\n",
       "                             149  \n",
       "business_id                       \n",
       "--9e1ONYQuAa-CB_Rrw7Tw  0.003819  \n",
       "-1m9o3vGRA8IBPNvNqKLmA  0.032067  \n",
       "-3zffZUHoY8bQjGfPSoBKQ  0.009695  \n",
       "-8R_-EkGpUhBk55K9Dd4mg -0.043431  \n",
       "-9YyInW1wapzdNZrhQJ9dg -0.017477  \n",
       "\n",
       "[5 rows x 150 columns]"
      ]
     },
     "execution_count": 36,
     "metadata": {},
     "output_type": "execute_result"
    }
   ],
   "source": [
    "# Use svd to reduce dimension\n",
    "from sklearn.decomposition import TruncatedSVD\n",
    "svd = TruncatedSVD(n_components = 150,\n",
    "                  random_state = 42)\n",
    "svd.fit(categories_mat)\n",
    "categories_svd = svd.transform(categories_mat)\n",
    "df_categories_svd = pd.DataFrame(categories_svd,\n",
    "                                index = categories_series.index)\n",
    "print(svd.explained_variance_ratio_.sum()) #total variance explained\n",
    "df_categories_svd.head()"
   ]
  },
  {
   "cell_type": "code",
   "execution_count": 37,
   "metadata": {},
   "outputs": [
    {
     "name": "stdout",
     "output_type": "stream",
     "text": [
      "df_average: (4550, 5)\n",
      "df_categories: (4550, 802)\n",
      "df_categories_svd: (4550, 150)\n"
     ]
    }
   ],
   "source": [
    "# Display feature matrix dimension\n",
    "print'df_average:', df_average.shape\n",
    "print'df_categories:', df_categories.shape\n",
    "print'df_categories_svd:', df_categories_svd.shape"
   ]
  },
  {
   "cell_type": "code",
   "execution_count": 38,
   "metadata": {},
   "outputs": [
    {
     "data": {
      "text/html": [
       "<div>\n",
       "<table border=\"1\" class=\"dataframe\">\n",
       "  <thead>\n",
       "    <tr style=\"text-align: right;\">\n",
       "      <th></th>\n",
       "      <th>avg_stars</th>\n",
       "      <th>cool</th>\n",
       "      <th>funny</th>\n",
       "      <th>stars</th>\n",
       "      <th>useful</th>\n",
       "      <th>0</th>\n",
       "      <th>1</th>\n",
       "      <th>2</th>\n",
       "      <th>3</th>\n",
       "      <th>4</th>\n",
       "      <th>...</th>\n",
       "      <th>140</th>\n",
       "      <th>141</th>\n",
       "      <th>142</th>\n",
       "      <th>143</th>\n",
       "      <th>144</th>\n",
       "      <th>145</th>\n",
       "      <th>146</th>\n",
       "      <th>147</th>\n",
       "      <th>148</th>\n",
       "      <th>149</th>\n",
       "    </tr>\n",
       "    <tr>\n",
       "      <th>business_id</th>\n",
       "      <th></th>\n",
       "      <th></th>\n",
       "      <th></th>\n",
       "      <th></th>\n",
       "      <th></th>\n",
       "      <th></th>\n",
       "      <th></th>\n",
       "      <th></th>\n",
       "      <th></th>\n",
       "      <th></th>\n",
       "      <th></th>\n",
       "      <th></th>\n",
       "      <th></th>\n",
       "      <th></th>\n",
       "      <th></th>\n",
       "      <th></th>\n",
       "      <th></th>\n",
       "      <th></th>\n",
       "      <th></th>\n",
       "      <th></th>\n",
       "      <th></th>\n",
       "    </tr>\n",
       "  </thead>\n",
       "  <tbody>\n",
       "    <tr>\n",
       "      <th>--9e1ONYQuAa-CB_Rrw7Tw</th>\n",
       "      <td>4.0</td>\n",
       "      <td>0.942761</td>\n",
       "      <td>0.572391</td>\n",
       "      <td>4.148148</td>\n",
       "      <td>1.195286</td>\n",
       "      <td>0.512939</td>\n",
       "      <td>0.077172</td>\n",
       "      <td>-0.627304</td>\n",
       "      <td>-0.008562</td>\n",
       "      <td>-0.080300</td>\n",
       "      <td>...</td>\n",
       "      <td>0.124465</td>\n",
       "      <td>-0.081427</td>\n",
       "      <td>-0.036375</td>\n",
       "      <td>0.011302</td>\n",
       "      <td>-0.033737</td>\n",
       "      <td>0.016370</td>\n",
       "      <td>-0.017786</td>\n",
       "      <td>0.030622</td>\n",
       "      <td>-0.058617</td>\n",
       "      <td>0.003819</td>\n",
       "    </tr>\n",
       "    <tr>\n",
       "      <th>-1m9o3vGRA8IBPNvNqKLmA</th>\n",
       "      <td>4.5</td>\n",
       "      <td>0.580838</td>\n",
       "      <td>0.299401</td>\n",
       "      <td>4.592814</td>\n",
       "      <td>1.017964</td>\n",
       "      <td>1.869801</td>\n",
       "      <td>1.766107</td>\n",
       "      <td>-0.046958</td>\n",
       "      <td>0.256093</td>\n",
       "      <td>0.702386</td>\n",
       "      <td>...</td>\n",
       "      <td>-0.015253</td>\n",
       "      <td>0.000789</td>\n",
       "      <td>-0.021166</td>\n",
       "      <td>0.001060</td>\n",
       "      <td>0.016171</td>\n",
       "      <td>0.026428</td>\n",
       "      <td>-0.056866</td>\n",
       "      <td>-0.028400</td>\n",
       "      <td>0.032341</td>\n",
       "      <td>0.032067</td>\n",
       "    </tr>\n",
       "    <tr>\n",
       "      <th>-3zffZUHoY8bQjGfPSoBKQ</th>\n",
       "      <td>4.0</td>\n",
       "      <td>1.313131</td>\n",
       "      <td>1.080808</td>\n",
       "      <td>3.898990</td>\n",
       "      <td>1.868687</td>\n",
       "      <td>1.010217</td>\n",
       "      <td>0.905094</td>\n",
       "      <td>0.929597</td>\n",
       "      <td>0.624379</td>\n",
       "      <td>-0.218638</td>\n",
       "      <td>...</td>\n",
       "      <td>0.001244</td>\n",
       "      <td>0.050103</td>\n",
       "      <td>0.030503</td>\n",
       "      <td>0.002676</td>\n",
       "      <td>-0.011805</td>\n",
       "      <td>0.021594</td>\n",
       "      <td>0.022220</td>\n",
       "      <td>-0.014641</td>\n",
       "      <td>-0.013664</td>\n",
       "      <td>0.009695</td>\n",
       "    </tr>\n",
       "    <tr>\n",
       "      <th>-8R_-EkGpUhBk55K9Dd4mg</th>\n",
       "      <td>3.5</td>\n",
       "      <td>0.725000</td>\n",
       "      <td>0.600000</td>\n",
       "      <td>4.200000</td>\n",
       "      <td>0.875000</td>\n",
       "      <td>0.141581</td>\n",
       "      <td>-0.040164</td>\n",
       "      <td>0.464721</td>\n",
       "      <td>-0.715113</td>\n",
       "      <td>0.203997</td>\n",
       "      <td>...</td>\n",
       "      <td>0.048699</td>\n",
       "      <td>0.032499</td>\n",
       "      <td>-0.011501</td>\n",
       "      <td>0.011288</td>\n",
       "      <td>-0.038182</td>\n",
       "      <td>-0.009681</td>\n",
       "      <td>-0.002972</td>\n",
       "      <td>0.005850</td>\n",
       "      <td>-0.000244</td>\n",
       "      <td>-0.043431</td>\n",
       "    </tr>\n",
       "    <tr>\n",
       "      <th>-9YyInW1wapzdNZrhQJ9dg</th>\n",
       "      <td>2.5</td>\n",
       "      <td>0.203390</td>\n",
       "      <td>0.169492</td>\n",
       "      <td>2.779661</td>\n",
       "      <td>1.067797</td>\n",
       "      <td>0.142200</td>\n",
       "      <td>-0.035728</td>\n",
       "      <td>0.462518</td>\n",
       "      <td>-0.712868</td>\n",
       "      <td>0.202336</td>\n",
       "      <td>...</td>\n",
       "      <td>-0.006417</td>\n",
       "      <td>0.037609</td>\n",
       "      <td>-0.043397</td>\n",
       "      <td>0.010293</td>\n",
       "      <td>-0.006377</td>\n",
       "      <td>0.040957</td>\n",
       "      <td>-0.007976</td>\n",
       "      <td>-0.000393</td>\n",
       "      <td>0.013848</td>\n",
       "      <td>-0.017477</td>\n",
       "    </tr>\n",
       "  </tbody>\n",
       "</table>\n",
       "<p>5 rows × 155 columns</p>\n",
       "</div>"
      ],
      "text/plain": [
       "                        avg_stars      cool     funny     stars    useful  \\\n",
       "business_id                                                                 \n",
       "--9e1ONYQuAa-CB_Rrw7Tw        4.0  0.942761  0.572391  4.148148  1.195286   \n",
       "-1m9o3vGRA8IBPNvNqKLmA        4.5  0.580838  0.299401  4.592814  1.017964   \n",
       "-3zffZUHoY8bQjGfPSoBKQ        4.0  1.313131  1.080808  3.898990  1.868687   \n",
       "-8R_-EkGpUhBk55K9Dd4mg        3.5  0.725000  0.600000  4.200000  0.875000   \n",
       "-9YyInW1wapzdNZrhQJ9dg        2.5  0.203390  0.169492  2.779661  1.067797   \n",
       "\n",
       "                               0         1         2         3         4  \\\n",
       "business_id                                                                \n",
       "--9e1ONYQuAa-CB_Rrw7Tw  0.512939  0.077172 -0.627304 -0.008562 -0.080300   \n",
       "-1m9o3vGRA8IBPNvNqKLmA  1.869801  1.766107 -0.046958  0.256093  0.702386   \n",
       "-3zffZUHoY8bQjGfPSoBKQ  1.010217  0.905094  0.929597  0.624379 -0.218638   \n",
       "-8R_-EkGpUhBk55K9Dd4mg  0.141581 -0.040164  0.464721 -0.715113  0.203997   \n",
       "-9YyInW1wapzdNZrhQJ9dg  0.142200 -0.035728  0.462518 -0.712868  0.202336   \n",
       "\n",
       "                          ...          140       141       142       143  \\\n",
       "business_id               ...                                              \n",
       "--9e1ONYQuAa-CB_Rrw7Tw    ...     0.124465 -0.081427 -0.036375  0.011302   \n",
       "-1m9o3vGRA8IBPNvNqKLmA    ...    -0.015253  0.000789 -0.021166  0.001060   \n",
       "-3zffZUHoY8bQjGfPSoBKQ    ...     0.001244  0.050103  0.030503  0.002676   \n",
       "-8R_-EkGpUhBk55K9Dd4mg    ...     0.048699  0.032499 -0.011501  0.011288   \n",
       "-9YyInW1wapzdNZrhQJ9dg    ...    -0.006417  0.037609 -0.043397  0.010293   \n",
       "\n",
       "                             144       145       146       147       148  \\\n",
       "business_id                                                                \n",
       "--9e1ONYQuAa-CB_Rrw7Tw -0.033737  0.016370 -0.017786  0.030622 -0.058617   \n",
       "-1m9o3vGRA8IBPNvNqKLmA  0.016171  0.026428 -0.056866 -0.028400  0.032341   \n",
       "-3zffZUHoY8bQjGfPSoBKQ -0.011805  0.021594  0.022220 -0.014641 -0.013664   \n",
       "-8R_-EkGpUhBk55K9Dd4mg -0.038182 -0.009681 -0.002972  0.005850 -0.000244   \n",
       "-9YyInW1wapzdNZrhQJ9dg -0.006377  0.040957 -0.007976 -0.000393  0.013848   \n",
       "\n",
       "                             149  \n",
       "business_id                       \n",
       "--9e1ONYQuAa-CB_Rrw7Tw  0.003819  \n",
       "-1m9o3vGRA8IBPNvNqKLmA  0.032067  \n",
       "-3zffZUHoY8bQjGfPSoBKQ  0.009695  \n",
       "-8R_-EkGpUhBk55K9Dd4mg -0.043431  \n",
       "-9YyInW1wapzdNZrhQJ9dg -0.017477  \n",
       "\n",
       "[5 rows x 155 columns]"
      ]
     },
     "execution_count": 38,
     "metadata": {},
     "output_type": "execute_result"
    }
   ],
   "source": [
    "# Join two to generate feature data for each business_id\n",
    "df_business = df_average.join(df_categories_svd)\n",
    "df_business.head()"
   ]
  },
  {
   "cell_type": "code",
   "execution_count": 39,
   "metadata": {},
   "outputs": [
    {
     "data": {
      "text/plain": [
       "(4550, 155)"
      ]
     },
     "execution_count": 39,
     "metadata": {},
     "output_type": "execute_result"
    }
   ],
   "source": [
    "df_business.shape"
   ]
  },
  {
   "cell_type": "code",
   "execution_count": 40,
   "metadata": {
    "collapsed": true
   },
   "outputs": [],
   "source": [
    "# Prepare data\n",
    "item_data = graphlab.SFrame(df_business.reset_index())"
   ]
  },
  {
   "cell_type": "code",
   "execution_count": 41,
   "metadata": {},
   "outputs": [
    {
     "name": "stdout",
     "output_type": "stream",
     "text": [
      "WARNING: The ItemContentRecommender model is still in beta.\n",
      "WARNING: This feature transformer is still in beta, and some interpretation rules may change in the future.\n",
      "('Applying transform:\\n', Class             : AutoVectorizer\n",
      "\n",
      "Model Fields\n",
      "------------\n",
      "Features          : ['avg_stars', 'cool', 'funny', 'stars', 'useful', '0', '1', '2', '3', '4', '5', '6', '7', '8', '9', '10', '11', '12', '13', '14', '15', '16', '17', '18', '19', '20', '21', '22', '23', '24', '25', '26', '27', '28', '29', '30', '31', '32', '33', '34', '35', '36', '37', '38', '39', '40', '41', '42', '43', '44', '45', '46', '47', '48', '49', '50', '51', '52', '53', '54', '55', '56', '57', '58', '59', '60', '61', '62', '63', '64', '65', '66', '67', '68', '69', '70', '71', '72', '73', '74', '75', '76', '77', '78', '79', '80', '81', '82', '83', '84', '85', '86', '87', '88', '89', '90', '91', '92', '93', '94', '95', '96', '97', '98', '99', '100', '101', '102', '103', '104', '105', '106', '107', '108', '109', '110', '111', '112', '113', '114', '115', '116', '117', '118', '119', '120', '121', '122', '123', '124', '125', '126', '127', '128', '129', '130', '131', '132', '133', '134', '135', '136', '137', '138', '139', '140', '141', '142', '143', '144', '145', '146', '147', '148', '149']\n",
      "Excluded Features : ['business_id']\n",
      "\n",
      "Column     Type   Interpretation  Transforms  Output Type\n",
      "---------  -----  --------------  ----------  -----------\n",
      "avg_stars  float  numerical       None        float      \n",
      "cool       float  numerical       None        float      \n",
      "funny      float  numerical       None        float      \n",
      "stars      float  numerical       None        float      \n",
      "useful     float  numerical       None        float      \n",
      "0          float  numerical       None        float      \n",
      "1          float  numerical       None        float      \n",
      "2          float  numerical       None        float      \n",
      "3          float  numerical       None        float      \n",
      "4          float  numerical       None        float      \n",
      "5          float  numerical       None        float      \n",
      "6          float  numerical       None        float      \n",
      "7          float  numerical       None        float      \n",
      "8          float  numerical       None        float      \n",
      "9          float  numerical       None        float      \n",
      "10         float  numerical       None        float      \n",
      "11         float  numerical       None        float      \n",
      "12         float  numerical       None        float      \n",
      "13         float  numerical       None        float      \n",
      "14         float  numerical       None        float      \n",
      "15         float  numerical       None        float      \n",
      "16         float  numerical       None        float      \n",
      "17         float  numerical       None        float      \n",
      "18         float  numerical       None        float      \n",
      "19         float  numerical       None        float      \n",
      "20         float  numerical       None        float      \n",
      "21         float  numerical       None        float      \n",
      "22         float  numerical       None        float      \n",
      "23         float  numerical       None        float      \n",
      "24         float  numerical       None        float      \n",
      "25         float  numerical       None        float      \n",
      "26         float  numerical       None        float      \n",
      "27         float  numerical       None        float      \n",
      "28         float  numerical       None        float      \n",
      "29         float  numerical       None        float      \n",
      "30         float  numerical       None        float      \n",
      "31         float  numerical       None        float      \n",
      "32         float  numerical       None        float      \n",
      "33         float  numerical       None        float      \n",
      "34         float  numerical       None        float      \n",
      "35         float  numerical       None        float      \n",
      "36         float  numerical       None        float      \n",
      "37         float  numerical       None        float      \n",
      "38         float  numerical       None        float      \n",
      "39         float  numerical       None        float      \n",
      "40         float  numerical       None        float      \n",
      "41         float  numerical       None        float      \n",
      "42         float  numerical       None        float      \n",
      "43         float  numerical       None        float      \n",
      "44         float  numerical       None        float      \n",
      "45         float  numerical       None        float      \n",
      "46         float  numerical       None        float      \n",
      "47         float  numerical       None        float      \n",
      "48         float  numerical       None        float      \n",
      "49         float  numerical       None        float      \n",
      "50         float  numerical       None        float      \n",
      "51         float  numerical       None        float      \n",
      "52         float  numerical       None        float      \n",
      "53         float  numerical       None        float      \n",
      "54         float  numerical       None        float      \n",
      "55         float  numerical       None        float      \n",
      "56         float  numerical       None        float      \n",
      "57         float  numerical       None        float      \n",
      "58         float  numerical       None        float      \n",
      "59         float  numerical       None        float      \n",
      "60         float  numerical       None        float      \n",
      "61         float  numerical       None        float      \n",
      "62         float  numerical       None        float      \n",
      "63         float  numerical       None        float      \n",
      "64         float  numerical       None        float      \n",
      "65         float  numerical       None        float      \n",
      "66         float  numerical       None        float      \n",
      "67         float  numerical       None        float      \n",
      "68         float  numerical       None        float      \n",
      "69         float  numerical       None        float      \n",
      "70         float  numerical       None        float      \n",
      "71         float  numerical       None        float      \n",
      "72         float  numerical       None        float      \n",
      "73         float  numerical       None        float      \n",
      "74         float  numerical       None        float      \n",
      "75         float  numerical       None        float      \n",
      "76         float  numerical       None        float      \n",
      "77         float  numerical       None        float      \n",
      "78         float  numerical       None        float      \n",
      "79         float  numerical       None        float      \n",
      "80         float  numerical       None        float      \n",
      "81         float  numerical       None        float      \n",
      "82         float  numerical       None        float      \n",
      "83         float  numerical       None        float      \n",
      "84         float  numerical       None        float      \n",
      "85         float  numerical       None        float      \n",
      "86         float  numerical       None        float      \n",
      "87         float  numerical       None        float      \n",
      "88         float  numerical       None        float      \n",
      "89         float  numerical       None        float      \n",
      "90         float  numerical       None        float      \n",
      "91         float  numerical       None        float      \n",
      "92         float  numerical       None        float      \n",
      "93         float  numerical       None        float      \n",
      "94         float  numerical       None        float      \n",
      "95         float  numerical       None        float      \n",
      "96         float  numerical       None        float      \n",
      "97         float  numerical       None        float      \n",
      "98         float  numerical       None        float      \n",
      "99         float  numerical       None        float      \n",
      "100        float  numerical       None        float      \n",
      "101        float  numerical       None        float      \n",
      "102        float  numerical       None        float      \n",
      "103        float  numerical       None        float      \n",
      "104        float  numerical       None        float      \n",
      "105        float  numerical       None        float      \n",
      "106        float  numerical       None        float      \n",
      "107        float  numerical       None        float      \n",
      "108        float  numerical       None        float      \n",
      "109        float  numerical       None        float      \n",
      "110        float  numerical       None        float      \n",
      "111        float  numerical       None        float      \n",
      "112        float  numerical       None        float      \n",
      "113        float  numerical       None        float      \n",
      "114        float  numerical       None        float      \n",
      "115        float  numerical       None        float      \n",
      "116        float  numerical       None        float      \n",
      "117        float  numerical       None        float      \n",
      "118        float  numerical       None        float      \n",
      "119        float  numerical       None        float      \n",
      "120        float  numerical       None        float      \n",
      "121        float  numerical       None        float      \n",
      "122        float  numerical       None        float      \n",
      "123        float  numerical       None        float      \n",
      "124        float  numerical       None        float      \n",
      "125        float  numerical       None        float      \n",
      "126        float  numerical       None        float      \n",
      "127        float  numerical       None        float      \n",
      "128        float  numerical       None        float      \n",
      "129        float  numerical       None        float      \n",
      "130        float  numerical       None        float      \n",
      "131        float  numerical       None        float      \n",
      "132        float  numerical       None        float      \n",
      "133        float  numerical       None        float      \n",
      "134        float  numerical       None        float      \n",
      "135        float  numerical       None        float      \n",
      "136        float  numerical       None        float      \n",
      "137        float  numerical       None        float      \n",
      "138        float  numerical       None        float      \n",
      "139        float  numerical       None        float      \n",
      "140        float  numerical       None        float      \n",
      "141        float  numerical       None        float      \n",
      "142        float  numerical       None        float      \n",
      "143        float  numerical       None        float      \n",
      "144        float  numerical       None        float      \n",
      "145        float  numerical       None        float      \n",
      "146        float  numerical       None        float      \n",
      "147        float  numerical       None        float      \n",
      "148        float  numerical       None        float      \n",
      "149        float  numerical       None        float      \n",
      "\n",
      ")\n"
     ]
    },
    {
     "data": {
      "text/html": [
       "<pre>Recsys training: model = item_content_recommender</pre>"
      ],
      "text/plain": [
       "Recsys training: model = item_content_recommender"
      ]
     },
     "metadata": {},
     "output_type": "display_data"
    },
    {
     "name": "stdout",
     "output_type": "stream",
     "text": [
      "Defaulting to brute force instead of ball tree because there are multiple distance components.\n"
     ]
    },
    {
     "data": {
      "text/html": [
       "<pre>Starting brute force nearest neighbors model training.</pre>"
      ],
      "text/plain": [
       "Starting brute force nearest neighbors model training."
      ]
     },
     "metadata": {},
     "output_type": "display_data"
    },
    {
     "data": {
      "text/html": [
       "<pre>Starting pairwise querying.</pre>"
      ],
      "text/plain": [
       "Starting pairwise querying."
      ]
     },
     "metadata": {},
     "output_type": "display_data"
    },
    {
     "data": {
      "text/html": [
       "<pre>+--------------+---------+-------------+--------------+</pre>"
      ],
      "text/plain": [
       "+--------------+---------+-------------+--------------+"
      ]
     },
     "metadata": {},
     "output_type": "display_data"
    },
    {
     "data": {
      "text/html": [
       "<pre>| Query points | # Pairs | % Complete. | Elapsed Time |</pre>"
      ],
      "text/plain": [
       "| Query points | # Pairs | % Complete. | Elapsed Time |"
      ]
     },
     "metadata": {},
     "output_type": "display_data"
    },
    {
     "data": {
      "text/html": [
       "<pre>+--------------+---------+-------------+--------------+</pre>"
      ],
      "text/plain": [
       "+--------------+---------+-------------+--------------+"
      ]
     },
     "metadata": {},
     "output_type": "display_data"
    },
    {
     "data": {
      "text/html": [
       "<pre>| 1            | 4550    | 0.021978    | 150.12ms     |</pre>"
      ],
      "text/plain": [
       "| 1            | 4550    | 0.021978    | 150.12ms     |"
      ]
     },
     "metadata": {},
     "output_type": "display_data"
    },
    {
     "data": {
      "text/html": [
       "<pre>| 91           | 414050  | 2           | 1.15s        |</pre>"
      ],
      "text/plain": [
       "| 91           | 414050  | 2           | 1.15s        |"
      ]
     },
     "metadata": {},
     "output_type": "display_data"
    },
    {
     "data": {
      "text/html": [
       "<pre>| 199          | 905450  | 4.37363     | 2.16s        |</pre>"
      ],
      "text/plain": [
       "| 199          | 905450  | 4.37363     | 2.16s        |"
      ]
     },
     "metadata": {},
     "output_type": "display_data"
    },
    {
     "data": {
      "text/html": [
       "<pre>| 316          | 1437800 | 6.94505     | 3.17s        |</pre>"
      ],
      "text/plain": [
       "| 316          | 1437800 | 6.94505     | 3.17s        |"
      ]
     },
     "metadata": {},
     "output_type": "display_data"
    },
    {
     "data": {
      "text/html": [
       "<pre>| 432          | 1965600 | 9.49451     | 4.17s        |</pre>"
      ],
      "text/plain": [
       "| 432          | 1965600 | 9.49451     | 4.17s        |"
      ]
     },
     "metadata": {},
     "output_type": "display_data"
    },
    {
     "data": {
      "text/html": [
       "<pre>| 539          | 2452450 | 11.8462     | 5.17s        |</pre>"
      ],
      "text/plain": [
       "| 539          | 2452450 | 11.8462     | 5.17s        |"
      ]
     },
     "metadata": {},
     "output_type": "display_data"
    },
    {
     "data": {
      "text/html": [
       "<pre>| 645          | 2934750 | 14.1758     | 6.17s        |</pre>"
      ],
      "text/plain": [
       "| 645          | 2934750 | 14.1758     | 6.17s        |"
      ]
     },
     "metadata": {},
     "output_type": "display_data"
    },
    {
     "data": {
      "text/html": [
       "<pre>| 725          | 3298750 | 15.9341     | 7.17s        |</pre>"
      ],
      "text/plain": [
       "| 725          | 3298750 | 15.9341     | 7.17s        |"
      ]
     },
     "metadata": {},
     "output_type": "display_data"
    },
    {
     "data": {
      "text/html": [
       "<pre>| 811          | 3690050 | 17.8242     | 8.17s        |</pre>"
      ],
      "text/plain": [
       "| 811          | 3690050 | 17.8242     | 8.17s        |"
      ]
     },
     "metadata": {},
     "output_type": "display_data"
    },
    {
     "data": {
      "text/html": [
       "<pre>| 913          | 4154150 | 20.0659     | 9.20s        |</pre>"
      ],
      "text/plain": [
       "| 913          | 4154150 | 20.0659     | 9.20s        |"
      ]
     },
     "metadata": {},
     "output_type": "display_data"
    },
    {
     "data": {
      "text/html": [
       "<pre>| 1027         | 4672850 | 22.5714     | 10.19s       |</pre>"
      ],
      "text/plain": [
       "| 1027         | 4672850 | 22.5714     | 10.19s       |"
      ]
     },
     "metadata": {},
     "output_type": "display_data"
    },
    {
     "data": {
      "text/html": [
       "<pre>| 1138         | 5177900 | 25.011      | 11.18s       |</pre>"
      ],
      "text/plain": [
       "| 1138         | 5177900 | 25.011      | 11.18s       |"
      ]
     },
     "metadata": {},
     "output_type": "display_data"
    },
    {
     "data": {
      "text/html": [
       "<pre>| 1246         | 5669300 | 27.3846     | 12.18s       |</pre>"
      ],
      "text/plain": [
       "| 1246         | 5669300 | 27.3846     | 12.18s       |"
      ]
     },
     "metadata": {},
     "output_type": "display_data"
    },
    {
     "data": {
      "text/html": [
       "<pre>| 1347         | 6128850 | 29.6044     | 13.20s       |</pre>"
      ],
      "text/plain": [
       "| 1347         | 6128850 | 29.6044     | 13.20s       |"
      ]
     },
     "metadata": {},
     "output_type": "display_data"
    },
    {
     "data": {
      "text/html": [
       "<pre>| 1454         | 6615700 | 31.956      | 14.19s       |</pre>"
      ],
      "text/plain": [
       "| 1454         | 6615700 | 31.956      | 14.19s       |"
      ]
     },
     "metadata": {},
     "output_type": "display_data"
    },
    {
     "data": {
      "text/html": [
       "<pre>| 1535         | 6984250 | 33.7363     | 15.19s       |</pre>"
      ],
      "text/plain": [
       "| 1535         | 6984250 | 33.7363     | 15.19s       |"
      ]
     },
     "metadata": {},
     "output_type": "display_data"
    },
    {
     "data": {
      "text/html": [
       "<pre>| 1651         | 7512050 | 36.2857     | 16.22s       |</pre>"
      ],
      "text/plain": [
       "| 1651         | 7512050 | 36.2857     | 16.22s       |"
      ]
     },
     "metadata": {},
     "output_type": "display_data"
    },
    {
     "data": {
      "text/html": [
       "<pre>| 1750         | 7962500 | 38.4615     | 17.21s       |</pre>"
      ],
      "text/plain": [
       "| 1750         | 7962500 | 38.4615     | 17.21s       |"
      ]
     },
     "metadata": {},
     "output_type": "display_data"
    },
    {
     "data": {
      "text/html": [
       "<pre>| 1856         | 8444800 | 40.7912     | 18.21s       |</pre>"
      ],
      "text/plain": [
       "| 1856         | 8444800 | 40.7912     | 18.21s       |"
      ]
     },
     "metadata": {},
     "output_type": "display_data"
    },
    {
     "data": {
      "text/html": [
       "<pre>| 1970         | 8963500 | 43.2967     | 19.22s       |</pre>"
      ],
      "text/plain": [
       "| 1970         | 8963500 | 43.2967     | 19.22s       |"
      ]
     },
     "metadata": {},
     "output_type": "display_data"
    },
    {
     "data": {
      "text/html": [
       "<pre>| 2078         | 9454900 | 45.6703     | 20.21s       |</pre>"
      ],
      "text/plain": [
       "| 2078         | 9454900 | 45.6703     | 20.21s       |"
      ]
     },
     "metadata": {},
     "output_type": "display_data"
    },
    {
     "data": {
      "text/html": [
       "<pre>| 2163         | 9841650 | 47.5385     | 21.21s       |</pre>"
      ],
      "text/plain": [
       "| 2163         | 9841650 | 47.5385     | 21.21s       |"
      ]
     },
     "metadata": {},
     "output_type": "display_data"
    },
    {
     "data": {
      "text/html": [
       "<pre>| 2224         | 1e+07   | 48.8791     | 22.22s       |</pre>"
      ],
      "text/plain": [
       "| 2224         | 1e+07   | 48.8791     | 22.22s       |"
      ]
     },
     "metadata": {},
     "output_type": "display_data"
    },
    {
     "data": {
      "text/html": [
       "<pre>| 2289         | 1e+07   | 50.3077     | 23.26s       |</pre>"
      ],
      "text/plain": [
       "| 2289         | 1e+07   | 50.3077     | 23.26s       |"
      ]
     },
     "metadata": {},
     "output_type": "display_data"
    },
    {
     "data": {
      "text/html": [
       "<pre>| 2370         | 1.1e+07 | 52.0879     | 24.22s       |</pre>"
      ],
      "text/plain": [
       "| 2370         | 1.1e+07 | 52.0879     | 24.22s       |"
      ]
     },
     "metadata": {},
     "output_type": "display_data"
    },
    {
     "data": {
      "text/html": [
       "<pre>| 2455         | 1.1e+07 | 53.956      | 25.23s       |</pre>"
      ],
      "text/plain": [
       "| 2455         | 1.1e+07 | 53.956      | 25.23s       |"
      ]
     },
     "metadata": {},
     "output_type": "display_data"
    },
    {
     "data": {
      "text/html": [
       "<pre>| 2569         | 1.2e+07 | 56.4615     | 26.24s       |</pre>"
      ],
      "text/plain": [
       "| 2569         | 1.2e+07 | 56.4615     | 26.24s       |"
      ]
     },
     "metadata": {},
     "output_type": "display_data"
    },
    {
     "data": {
      "text/html": [
       "<pre>| 2682         | 1.2e+07 | 58.9451     | 27.23s       |</pre>"
      ],
      "text/plain": [
       "| 2682         | 1.2e+07 | 58.9451     | 27.23s       |"
      ]
     },
     "metadata": {},
     "output_type": "display_data"
    },
    {
     "data": {
      "text/html": [
       "<pre>| 2795         | 1.3e+07 | 61.4286     | 28.23s       |</pre>"
      ],
      "text/plain": [
       "| 2795         | 1.3e+07 | 61.4286     | 28.23s       |"
      ]
     },
     "metadata": {},
     "output_type": "display_data"
    },
    {
     "data": {
      "text/html": [
       "<pre>| 2917         | 1.3e+07 | 64.1099     | 29.24s       |</pre>"
      ],
      "text/plain": [
       "| 2917         | 1.3e+07 | 64.1099     | 29.24s       |"
      ]
     },
     "metadata": {},
     "output_type": "display_data"
    },
    {
     "data": {
      "text/html": [
       "<pre>| 3029         | 1.4e+07 | 66.5714     | 30.24s       |</pre>"
      ],
      "text/plain": [
       "| 3029         | 1.4e+07 | 66.5714     | 30.24s       |"
      ]
     },
     "metadata": {},
     "output_type": "display_data"
    },
    {
     "data": {
      "text/html": [
       "<pre>| 3150         | 1.4e+07 | 69.2308     | 31.25s       |</pre>"
      ],
      "text/plain": [
       "| 3150         | 1.4e+07 | 69.2308     | 31.25s       |"
      ]
     },
     "metadata": {},
     "output_type": "display_data"
    },
    {
     "data": {
      "text/html": [
       "<pre>| 3262         | 1.5e+07 | 71.6923     | 32.25s       |</pre>"
      ],
      "text/plain": [
       "| 3262         | 1.5e+07 | 71.6923     | 32.25s       |"
      ]
     },
     "metadata": {},
     "output_type": "display_data"
    },
    {
     "data": {
      "text/html": [
       "<pre>| 3384         | 1.5e+07 | 74.3736     | 33.24s       |</pre>"
      ],
      "text/plain": [
       "| 3384         | 1.5e+07 | 74.3736     | 33.24s       |"
      ]
     },
     "metadata": {},
     "output_type": "display_data"
    },
    {
     "data": {
      "text/html": [
       "<pre>| 3498         | 1.6e+07 | 76.8791     | 34.26s       |</pre>"
      ],
      "text/plain": [
       "| 3498         | 1.6e+07 | 76.8791     | 34.26s       |"
      ]
     },
     "metadata": {},
     "output_type": "display_data"
    },
    {
     "data": {
      "text/html": [
       "<pre>| 3603         | 1.6e+07 | 79.1868     | 35.25s       |</pre>"
      ],
      "text/plain": [
       "| 3603         | 1.6e+07 | 79.1868     | 35.25s       |"
      ]
     },
     "metadata": {},
     "output_type": "display_data"
    },
    {
     "data": {
      "text/html": [
       "<pre>| 3704         | 1.7e+07 | 81.4066     | 36.26s       |</pre>"
      ],
      "text/plain": [
       "| 3704         | 1.7e+07 | 81.4066     | 36.26s       |"
      ]
     },
     "metadata": {},
     "output_type": "display_data"
    },
    {
     "data": {
      "text/html": [
       "<pre>| 3806         | 1.7e+07 | 83.6484     | 37.25s       |</pre>"
      ],
      "text/plain": [
       "| 3806         | 1.7e+07 | 83.6484     | 37.25s       |"
      ]
     },
     "metadata": {},
     "output_type": "display_data"
    },
    {
     "data": {
      "text/html": [
       "<pre>| 3909         | 1.8e+07 | 85.9121     | 38.25s       |</pre>"
      ],
      "text/plain": [
       "| 3909         | 1.8e+07 | 85.9121     | 38.25s       |"
      ]
     },
     "metadata": {},
     "output_type": "display_data"
    },
    {
     "data": {
      "text/html": [
       "<pre>| 4017         | 1.8e+07 | 88.2857     | 39.26s       |</pre>"
      ],
      "text/plain": [
       "| 4017         | 1.8e+07 | 88.2857     | 39.26s       |"
      ]
     },
     "metadata": {},
     "output_type": "display_data"
    },
    {
     "data": {
      "text/html": [
       "<pre>| 4128         | 1.9e+07 | 90.7253     | 40.26s       |</pre>"
      ],
      "text/plain": [
       "| 4128         | 1.9e+07 | 90.7253     | 40.26s       |"
      ]
     },
     "metadata": {},
     "output_type": "display_data"
    },
    {
     "data": {
      "text/html": [
       "<pre>| 4241         | 1.9e+07 | 93.2088     | 41.26s       |</pre>"
      ],
      "text/plain": [
       "| 4241         | 1.9e+07 | 93.2088     | 41.26s       |"
      ]
     },
     "metadata": {},
     "output_type": "display_data"
    },
    {
     "data": {
      "text/html": [
       "<pre>| 4349         | 2e+07   | 95.5824     | 42.27s       |</pre>"
      ],
      "text/plain": [
       "| 4349         | 2e+07   | 95.5824     | 42.27s       |"
      ]
     },
     "metadata": {},
     "output_type": "display_data"
    },
    {
     "data": {
      "text/html": [
       "<pre>| 4456         | 2e+07   | 97.9341     | 43.27s       |</pre>"
      ],
      "text/plain": [
       "| 4456         | 2e+07   | 97.9341     | 43.27s       |"
      ]
     },
     "metadata": {},
     "output_type": "display_data"
    },
    {
     "data": {
      "text/html": [
       "<pre>| 4545         | 2.1e+07 | 99.8901     | 44.29s       |</pre>"
      ],
      "text/plain": [
       "| 4545         | 2.1e+07 | 99.8901     | 44.29s       |"
      ]
     },
     "metadata": {},
     "output_type": "display_data"
    },
    {
     "data": {
      "text/html": [
       "<pre>| Done         |         | 100         | 44.44s       |</pre>"
      ],
      "text/plain": [
       "| Done         |         | 100         | 44.44s       |"
      ]
     },
     "metadata": {},
     "output_type": "display_data"
    },
    {
     "data": {
      "text/html": [
       "<pre>+--------------+---------+-------------+--------------+</pre>"
      ],
      "text/plain": [
       "+--------------+---------+-------------+--------------+"
      ]
     },
     "metadata": {},
     "output_type": "display_data"
    },
    {
     "data": {
      "text/html": [
       "<pre>Preparing data set.</pre>"
      ],
      "text/plain": [
       "Preparing data set."
      ]
     },
     "metadata": {},
     "output_type": "display_data"
    },
    {
     "data": {
      "text/html": [
       "<pre>    Data has 0 observations with 0 users and 4550 items.</pre>"
      ],
      "text/plain": [
       "    Data has 0 observations with 0 users and 4550 items."
      ]
     },
     "metadata": {},
     "output_type": "display_data"
    },
    {
     "data": {
      "text/html": [
       "<pre>    Data prepared in: 0.448793s</pre>"
      ],
      "text/plain": [
       "    Data prepared in: 0.448793s"
      ]
     },
     "metadata": {},
     "output_type": "display_data"
    },
    {
     "data": {
      "text/html": [
       "<pre>Loading user-provided nearest items.</pre>"
      ],
      "text/plain": [
       "Loading user-provided nearest items."
      ]
     },
     "metadata": {},
     "output_type": "display_data"
    },
    {
     "data": {
      "text/html": [
       "<pre>Generating candidate set for working with new users.</pre>"
      ],
      "text/plain": [
       "Generating candidate set for working with new users."
      ]
     },
     "metadata": {},
     "output_type": "display_data"
    },
    {
     "data": {
      "text/html": [
       "<pre>Finished training in 0.02563s</pre>"
      ],
      "text/plain": [
       "Finished training in 0.02563s"
      ]
     },
     "metadata": {},
     "output_type": "display_data"
    }
   ],
   "source": [
    "# Build content based recommender\n",
    "content_rec = graphlab.recommender.item_content_recommender.create(item_data, \"business_id\")"
   ]
  },
  {
   "cell_type": "markdown",
   "metadata": {},
   "source": [
    "##### Make recommendation for a single item"
   ]
  },
  {
   "cell_type": "code",
   "execution_count": 43,
   "metadata": {},
   "outputs": [
    {
     "data": {
      "text/html": [
       "<div style=\"max-height:1000px;max-width:1500px;overflow:auto;\"><table frame=\"box\" rules=\"cols\">\n",
       "    <tr>\n",
       "        <th style=\"padding-left: 1em; padding-right: 1em; text-align: center\">business_id</th>\n",
       "        <th style=\"padding-left: 1em; padding-right: 1em; text-align: center\">score</th>\n",
       "        <th style=\"padding-left: 1em; padding-right: 1em; text-align: center\">rank</th>\n",
       "    </tr>\n",
       "    <tr>\n",
       "        <td style=\"padding-left: 1em; padding-right: 1em; text-align: center; vertical-align: top\">uWECX6-Uq9n8v5ipk9R29A</td>\n",
       "        <td style=\"padding-left: 1em; padding-right: 1em; text-align: center; vertical-align: top\">0.815526545048</td>\n",
       "        <td style=\"padding-left: 1em; padding-right: 1em; text-align: center; vertical-align: top\">1</td>\n",
       "    </tr>\n",
       "    <tr>\n",
       "        <td style=\"padding-left: 1em; padding-right: 1em; text-align: center; vertical-align: top\">ZPwx7ktiVluGFVg0L05n5A</td>\n",
       "        <td style=\"padding-left: 1em; padding-right: 1em; text-align: center; vertical-align: top\">0.799123167992</td>\n",
       "        <td style=\"padding-left: 1em; padding-right: 1em; text-align: center; vertical-align: top\">2</td>\n",
       "    </tr>\n",
       "    <tr>\n",
       "        <td style=\"padding-left: 1em; padding-right: 1em; text-align: center; vertical-align: top\">nnDLapJk1z2NJE0-XzwMlQ</td>\n",
       "        <td style=\"padding-left: 1em; padding-right: 1em; text-align: center; vertical-align: top\">0.774502456188</td>\n",
       "        <td style=\"padding-left: 1em; padding-right: 1em; text-align: center; vertical-align: top\">3</td>\n",
       "    </tr>\n",
       "    <tr>\n",
       "        <td style=\"padding-left: 1em; padding-right: 1em; text-align: center; vertical-align: top\">JijwZPUuFqQqUekNR--dfw</td>\n",
       "        <td style=\"padding-left: 1em; padding-right: 1em; text-align: center; vertical-align: top\">0.773157954216</td>\n",
       "        <td style=\"padding-left: 1em; padding-right: 1em; text-align: center; vertical-align: top\">4</td>\n",
       "    </tr>\n",
       "    <tr>\n",
       "        <td style=\"padding-left: 1em; padding-right: 1em; text-align: center; vertical-align: top\">bSY97kgQpJ5BrpgW40V1qg</td>\n",
       "        <td style=\"padding-left: 1em; padding-right: 1em; text-align: center; vertical-align: top\">0.772916436195</td>\n",
       "        <td style=\"padding-left: 1em; padding-right: 1em; text-align: center; vertical-align: top\">5</td>\n",
       "    </tr>\n",
       "    <tr>\n",
       "        <td style=\"padding-left: 1em; padding-right: 1em; text-align: center; vertical-align: top\">gdWy-x5KbCbMrwIwI87mMg</td>\n",
       "        <td style=\"padding-left: 1em; padding-right: 1em; text-align: center; vertical-align: top\">0.77242565155</td>\n",
       "        <td style=\"padding-left: 1em; padding-right: 1em; text-align: center; vertical-align: top\">6</td>\n",
       "    </tr>\n",
       "    <tr>\n",
       "        <td style=\"padding-left: 1em; padding-right: 1em; text-align: center; vertical-align: top\">IT_4EEIbv6Ox1jBRMyE7pg</td>\n",
       "        <td style=\"padding-left: 1em; padding-right: 1em; text-align: center; vertical-align: top\">0.772324681282</td>\n",
       "        <td style=\"padding-left: 1em; padding-right: 1em; text-align: center; vertical-align: top\">7</td>\n",
       "    </tr>\n",
       "    <tr>\n",
       "        <td style=\"padding-left: 1em; padding-right: 1em; text-align: center; vertical-align: top\">7wMCJ9NqL9eBEX4WdJWuIA</td>\n",
       "        <td style=\"padding-left: 1em; padding-right: 1em; text-align: center; vertical-align: top\">0.771615147591</td>\n",
       "        <td style=\"padding-left: 1em; padding-right: 1em; text-align: center; vertical-align: top\">8</td>\n",
       "    </tr>\n",
       "    <tr>\n",
       "        <td style=\"padding-left: 1em; padding-right: 1em; text-align: center; vertical-align: top\">L_ZLtfHvfzfoNVQ0-okTXg</td>\n",
       "        <td style=\"padding-left: 1em; padding-right: 1em; text-align: center; vertical-align: top\">0.770999252796</td>\n",
       "        <td style=\"padding-left: 1em; padding-right: 1em; text-align: center; vertical-align: top\">9</td>\n",
       "    </tr>\n",
       "    <tr>\n",
       "        <td style=\"padding-left: 1em; padding-right: 1em; text-align: center; vertical-align: top\">qmIHO-6T_KEfPC9jyGDamQ</td>\n",
       "        <td style=\"padding-left: 1em; padding-right: 1em; text-align: center; vertical-align: top\">0.770149409771</td>\n",
       "        <td style=\"padding-left: 1em; padding-right: 1em; text-align: center; vertical-align: top\">10</td>\n",
       "    </tr>\n",
       "</table>\n",
       "[10 rows x 3 columns]<br/>\n",
       "</div>"
      ],
      "text/plain": [
       "Columns:\n",
       "\tbusiness_id\tstr\n",
       "\tscore\tfloat\n",
       "\trank\tint\n",
       "\n",
       "Rows: 10\n",
       "\n",
       "Data:\n",
       "+------------------------+----------------+------+\n",
       "|      business_id       |     score      | rank |\n",
       "+------------------------+----------------+------+\n",
       "| uWECX6-Uq9n8v5ipk9R29A | 0.815526545048 |  1   |\n",
       "| ZPwx7ktiVluGFVg0L05n5A | 0.799123167992 |  2   |\n",
       "| nnDLapJk1z2NJE0-XzwMlQ | 0.774502456188 |  3   |\n",
       "| JijwZPUuFqQqUekNR--dfw | 0.773157954216 |  4   |\n",
       "| bSY97kgQpJ5BrpgW40V1qg | 0.772916436195 |  5   |\n",
       "| gdWy-x5KbCbMrwIwI87mMg | 0.77242565155  |  6   |\n",
       "| IT_4EEIbv6Ox1jBRMyE7pg | 0.772324681282 |  7   |\n",
       "| 7wMCJ9NqL9eBEX4WdJWuIA | 0.771615147591 |  8   |\n",
       "| L_ZLtfHvfzfoNVQ0-okTXg | 0.770999252796 |  9   |\n",
       "| qmIHO-6T_KEfPC9jyGDamQ | 0.770149409771 |  10  |\n",
       "+------------------------+----------------+------+\n",
       "[10 rows x 3 columns]"
      ]
     },
     "execution_count": 43,
     "metadata": {},
     "output_type": "execute_result"
    }
   ],
   "source": [
    "sample_item = [df_stars.iloc[0].business_id]\n",
    "content_rec.recommend_from_interactions(sample_item)\n",
    "#recommendation from single item"
   ]
  },
  {
   "cell_type": "code",
   "execution_count": 44,
   "metadata": {},
   "outputs": [
    {
     "data": {
      "text/plain": [
       "['--9e1ONYQuAa-CB_Rrw7Tw']"
      ]
     },
     "execution_count": 44,
     "metadata": {},
     "output_type": "execute_result"
    }
   ],
   "source": [
    "sample_item"
   ]
  },
  {
   "cell_type": "markdown",
   "metadata": {},
   "source": [
    "##### Similar items per item"
   ]
  },
  {
   "cell_type": "code",
   "execution_count": 46,
   "metadata": {},
   "outputs": [
    {
     "data": {
      "text/html": [
       "<div>\n",
       "<table border=\"1\" class=\"dataframe\">\n",
       "  <thead>\n",
       "    <tr style=\"text-align: right;\">\n",
       "      <th></th>\n",
       "      <th>business_id</th>\n",
       "      <th>similar</th>\n",
       "      <th>score</th>\n",
       "      <th>rank</th>\n",
       "    </tr>\n",
       "  </thead>\n",
       "  <tbody>\n",
       "    <tr>\n",
       "      <th>0</th>\n",
       "      <td>--9e1ONYQuAa-CB_Rrw7Tw</td>\n",
       "      <td>uWECX6-Uq9n8v5ipk9R29A</td>\n",
       "      <td>0.815527</td>\n",
       "      <td>1</td>\n",
       "    </tr>\n",
       "    <tr>\n",
       "      <th>1</th>\n",
       "      <td>--9e1ONYQuAa-CB_Rrw7Tw</td>\n",
       "      <td>ZPwx7ktiVluGFVg0L05n5A</td>\n",
       "      <td>0.799123</td>\n",
       "      <td>2</td>\n",
       "    </tr>\n",
       "    <tr>\n",
       "      <th>2</th>\n",
       "      <td>--9e1ONYQuAa-CB_Rrw7Tw</td>\n",
       "      <td>nnDLapJk1z2NJE0-XzwMlQ</td>\n",
       "      <td>0.774502</td>\n",
       "      <td>3</td>\n",
       "    </tr>\n",
       "    <tr>\n",
       "      <th>3</th>\n",
       "      <td>--9e1ONYQuAa-CB_Rrw7Tw</td>\n",
       "      <td>JijwZPUuFqQqUekNR--dfw</td>\n",
       "      <td>0.773158</td>\n",
       "      <td>4</td>\n",
       "    </tr>\n",
       "    <tr>\n",
       "      <th>4</th>\n",
       "      <td>--9e1ONYQuAa-CB_Rrw7Tw</td>\n",
       "      <td>bSY97kgQpJ5BrpgW40V1qg</td>\n",
       "      <td>0.772916</td>\n",
       "      <td>5</td>\n",
       "    </tr>\n",
       "    <tr>\n",
       "      <th>5</th>\n",
       "      <td>--9e1ONYQuAa-CB_Rrw7Tw</td>\n",
       "      <td>gdWy-x5KbCbMrwIwI87mMg</td>\n",
       "      <td>0.772426</td>\n",
       "      <td>6</td>\n",
       "    </tr>\n",
       "    <tr>\n",
       "      <th>6</th>\n",
       "      <td>--9e1ONYQuAa-CB_Rrw7Tw</td>\n",
       "      <td>IT_4EEIbv6Ox1jBRMyE7pg</td>\n",
       "      <td>0.772325</td>\n",
       "      <td>7</td>\n",
       "    </tr>\n",
       "    <tr>\n",
       "      <th>7</th>\n",
       "      <td>--9e1ONYQuAa-CB_Rrw7Tw</td>\n",
       "      <td>7wMCJ9NqL9eBEX4WdJWuIA</td>\n",
       "      <td>0.771615</td>\n",
       "      <td>8</td>\n",
       "    </tr>\n",
       "    <tr>\n",
       "      <th>8</th>\n",
       "      <td>--9e1ONYQuAa-CB_Rrw7Tw</td>\n",
       "      <td>L_ZLtfHvfzfoNVQ0-okTXg</td>\n",
       "      <td>0.770999</td>\n",
       "      <td>9</td>\n",
       "    </tr>\n",
       "    <tr>\n",
       "      <th>9</th>\n",
       "      <td>--9e1ONYQuAa-CB_Rrw7Tw</td>\n",
       "      <td>qmIHO-6T_KEfPC9jyGDamQ</td>\n",
       "      <td>0.770149</td>\n",
       "      <td>10</td>\n",
       "    </tr>\n",
       "    <tr>\n",
       "      <th>10</th>\n",
       "      <td>-1m9o3vGRA8IBPNvNqKLmA</td>\n",
       "      <td>dTsyfvRfN-zFdsgIDuQllQ</td>\n",
       "      <td>0.810541</td>\n",
       "      <td>1</td>\n",
       "    </tr>\n",
       "    <tr>\n",
       "      <th>11</th>\n",
       "      <td>-1m9o3vGRA8IBPNvNqKLmA</td>\n",
       "      <td>n_o2DAmDBAZ-RjVDSY-5uQ</td>\n",
       "      <td>0.725106</td>\n",
       "      <td>2</td>\n",
       "    </tr>\n",
       "    <tr>\n",
       "      <th>12</th>\n",
       "      <td>-1m9o3vGRA8IBPNvNqKLmA</td>\n",
       "      <td>NmOBomyz63TP9Nn2q4Z1rg</td>\n",
       "      <td>0.722693</td>\n",
       "      <td>3</td>\n",
       "    </tr>\n",
       "    <tr>\n",
       "      <th>13</th>\n",
       "      <td>-1m9o3vGRA8IBPNvNqKLmA</td>\n",
       "      <td>bMZBkFrTI6uSYQB6XYnvnw</td>\n",
       "      <td>0.711709</td>\n",
       "      <td>4</td>\n",
       "    </tr>\n",
       "    <tr>\n",
       "      <th>14</th>\n",
       "      <td>-1m9o3vGRA8IBPNvNqKLmA</td>\n",
       "      <td>8sFRqawo8bDDWiaC9wkA5g</td>\n",
       "      <td>0.693841</td>\n",
       "      <td>5</td>\n",
       "    </tr>\n",
       "    <tr>\n",
       "      <th>15</th>\n",
       "      <td>-1m9o3vGRA8IBPNvNqKLmA</td>\n",
       "      <td>TXV5mRFOGjwY7igrPjkKVA</td>\n",
       "      <td>0.683880</td>\n",
       "      <td>6</td>\n",
       "    </tr>\n",
       "    <tr>\n",
       "      <th>16</th>\n",
       "      <td>-1m9o3vGRA8IBPNvNqKLmA</td>\n",
       "      <td>rN3gHTjqx5sOnoUpJ-6jyg</td>\n",
       "      <td>0.683492</td>\n",
       "      <td>7</td>\n",
       "    </tr>\n",
       "    <tr>\n",
       "      <th>17</th>\n",
       "      <td>-1m9o3vGRA8IBPNvNqKLmA</td>\n",
       "      <td>7UFDAX4wLi6ux5otguYldA</td>\n",
       "      <td>0.683367</td>\n",
       "      <td>8</td>\n",
       "    </tr>\n",
       "    <tr>\n",
       "      <th>18</th>\n",
       "      <td>-1m9o3vGRA8IBPNvNqKLmA</td>\n",
       "      <td>rbDqCV2g23K3ZrTxmgoNBg</td>\n",
       "      <td>0.683056</td>\n",
       "      <td>9</td>\n",
       "    </tr>\n",
       "    <tr>\n",
       "      <th>19</th>\n",
       "      <td>-1m9o3vGRA8IBPNvNqKLmA</td>\n",
       "      <td>hRQS8y-uG2kc8miWVYiLuQ</td>\n",
       "      <td>0.682287</td>\n",
       "      <td>10</td>\n",
       "    </tr>\n",
       "    <tr>\n",
       "      <th>20</th>\n",
       "      <td>-3zffZUHoY8bQjGfPSoBKQ</td>\n",
       "      <td>0qPNeqLuKE88rKbIbSZDpg</td>\n",
       "      <td>0.954753</td>\n",
       "      <td>1</td>\n",
       "    </tr>\n",
       "    <tr>\n",
       "      <th>21</th>\n",
       "      <td>-3zffZUHoY8bQjGfPSoBKQ</td>\n",
       "      <td>Trbt0Ex85yvwT8DHoEFCvg</td>\n",
       "      <td>0.878903</td>\n",
       "      <td>2</td>\n",
       "    </tr>\n",
       "    <tr>\n",
       "      <th>22</th>\n",
       "      <td>-3zffZUHoY8bQjGfPSoBKQ</td>\n",
       "      <td>0_mJttUgHIzC-NO18gcgBA</td>\n",
       "      <td>0.860554</td>\n",
       "      <td>3</td>\n",
       "    </tr>\n",
       "    <tr>\n",
       "      <th>23</th>\n",
       "      <td>-3zffZUHoY8bQjGfPSoBKQ</td>\n",
       "      <td>fOAf6lQHhPn7qybtHKxsGQ</td>\n",
       "      <td>0.852234</td>\n",
       "      <td>4</td>\n",
       "    </tr>\n",
       "    <tr>\n",
       "      <th>24</th>\n",
       "      <td>-3zffZUHoY8bQjGfPSoBKQ</td>\n",
       "      <td>wx_46jwjuX885DnQWyBCyg</td>\n",
       "      <td>0.850043</td>\n",
       "      <td>5</td>\n",
       "    </tr>\n",
       "    <tr>\n",
       "      <th>25</th>\n",
       "      <td>-3zffZUHoY8bQjGfPSoBKQ</td>\n",
       "      <td>yjME88ri8wpBDm6i0xoi9Q</td>\n",
       "      <td>0.842510</td>\n",
       "      <td>6</td>\n",
       "    </tr>\n",
       "    <tr>\n",
       "      <th>26</th>\n",
       "      <td>-3zffZUHoY8bQjGfPSoBKQ</td>\n",
       "      <td>I6Vg6g9IX51-2mXo4HDd-Q</td>\n",
       "      <td>0.827721</td>\n",
       "      <td>7</td>\n",
       "    </tr>\n",
       "    <tr>\n",
       "      <th>27</th>\n",
       "      <td>-3zffZUHoY8bQjGfPSoBKQ</td>\n",
       "      <td>vATbGMxLd9cZ3VY_GZAIJw</td>\n",
       "      <td>0.808759</td>\n",
       "      <td>8</td>\n",
       "    </tr>\n",
       "    <tr>\n",
       "      <th>28</th>\n",
       "      <td>-3zffZUHoY8bQjGfPSoBKQ</td>\n",
       "      <td>d4bMBIhBELF_bhkT-Sig3Q</td>\n",
       "      <td>0.797573</td>\n",
       "      <td>9</td>\n",
       "    </tr>\n",
       "    <tr>\n",
       "      <th>29</th>\n",
       "      <td>-3zffZUHoY8bQjGfPSoBKQ</td>\n",
       "      <td>r8hF3kwnZzxTo1IYNcI6rg</td>\n",
       "      <td>0.786838</td>\n",
       "      <td>10</td>\n",
       "    </tr>\n",
       "  </tbody>\n",
       "</table>\n",
       "</div>"
      ],
      "text/plain": [
       "               business_id                 similar     score  rank\n",
       "0   --9e1ONYQuAa-CB_Rrw7Tw  uWECX6-Uq9n8v5ipk9R29A  0.815527     1\n",
       "1   --9e1ONYQuAa-CB_Rrw7Tw  ZPwx7ktiVluGFVg0L05n5A  0.799123     2\n",
       "2   --9e1ONYQuAa-CB_Rrw7Tw  nnDLapJk1z2NJE0-XzwMlQ  0.774502     3\n",
       "3   --9e1ONYQuAa-CB_Rrw7Tw  JijwZPUuFqQqUekNR--dfw  0.773158     4\n",
       "4   --9e1ONYQuAa-CB_Rrw7Tw  bSY97kgQpJ5BrpgW40V1qg  0.772916     5\n",
       "5   --9e1ONYQuAa-CB_Rrw7Tw  gdWy-x5KbCbMrwIwI87mMg  0.772426     6\n",
       "6   --9e1ONYQuAa-CB_Rrw7Tw  IT_4EEIbv6Ox1jBRMyE7pg  0.772325     7\n",
       "7   --9e1ONYQuAa-CB_Rrw7Tw  7wMCJ9NqL9eBEX4WdJWuIA  0.771615     8\n",
       "8   --9e1ONYQuAa-CB_Rrw7Tw  L_ZLtfHvfzfoNVQ0-okTXg  0.770999     9\n",
       "9   --9e1ONYQuAa-CB_Rrw7Tw  qmIHO-6T_KEfPC9jyGDamQ  0.770149    10\n",
       "10  -1m9o3vGRA8IBPNvNqKLmA  dTsyfvRfN-zFdsgIDuQllQ  0.810541     1\n",
       "11  -1m9o3vGRA8IBPNvNqKLmA  n_o2DAmDBAZ-RjVDSY-5uQ  0.725106     2\n",
       "12  -1m9o3vGRA8IBPNvNqKLmA  NmOBomyz63TP9Nn2q4Z1rg  0.722693     3\n",
       "13  -1m9o3vGRA8IBPNvNqKLmA  bMZBkFrTI6uSYQB6XYnvnw  0.711709     4\n",
       "14  -1m9o3vGRA8IBPNvNqKLmA  8sFRqawo8bDDWiaC9wkA5g  0.693841     5\n",
       "15  -1m9o3vGRA8IBPNvNqKLmA  TXV5mRFOGjwY7igrPjkKVA  0.683880     6\n",
       "16  -1m9o3vGRA8IBPNvNqKLmA  rN3gHTjqx5sOnoUpJ-6jyg  0.683492     7\n",
       "17  -1m9o3vGRA8IBPNvNqKLmA  7UFDAX4wLi6ux5otguYldA  0.683367     8\n",
       "18  -1m9o3vGRA8IBPNvNqKLmA  rbDqCV2g23K3ZrTxmgoNBg  0.683056     9\n",
       "19  -1m9o3vGRA8IBPNvNqKLmA  hRQS8y-uG2kc8miWVYiLuQ  0.682287    10\n",
       "20  -3zffZUHoY8bQjGfPSoBKQ  0qPNeqLuKE88rKbIbSZDpg  0.954753     1\n",
       "21  -3zffZUHoY8bQjGfPSoBKQ  Trbt0Ex85yvwT8DHoEFCvg  0.878903     2\n",
       "22  -3zffZUHoY8bQjGfPSoBKQ  0_mJttUgHIzC-NO18gcgBA  0.860554     3\n",
       "23  -3zffZUHoY8bQjGfPSoBKQ  fOAf6lQHhPn7qybtHKxsGQ  0.852234     4\n",
       "24  -3zffZUHoY8bQjGfPSoBKQ  wx_46jwjuX885DnQWyBCyg  0.850043     5\n",
       "25  -3zffZUHoY8bQjGfPSoBKQ  yjME88ri8wpBDm6i0xoi9Q  0.842510     6\n",
       "26  -3zffZUHoY8bQjGfPSoBKQ  I6Vg6g9IX51-2mXo4HDd-Q  0.827721     7\n",
       "27  -3zffZUHoY8bQjGfPSoBKQ  vATbGMxLd9cZ3VY_GZAIJw  0.808759     8\n",
       "28  -3zffZUHoY8bQjGfPSoBKQ  d4bMBIhBELF_bhkT-Sig3Q  0.797573     9\n",
       "29  -3zffZUHoY8bQjGfPSoBKQ  r8hF3kwnZzxTo1IYNcI6rg  0.786838    10"
      ]
     },
     "execution_count": 46,
     "metadata": {},
     "output_type": "execute_result"
    }
   ],
   "source": [
    "similar_items_df = content_rec.get_similar_items().to_dataframe()\n",
    "similar_items_df.head(30)"
   ]
  },
  {
   "cell_type": "markdown",
   "metadata": {},
   "source": [
    "##### Make recommendation for a sample user"
   ]
  },
  {
   "cell_type": "code",
   "execution_count": 51,
   "metadata": {},
   "outputs": [
    {
     "data": {
      "text/plain": [
       "0    uWECX6-Uq9n8v5ipk9R29A\n",
       "1    ZPwx7ktiVluGFVg0L05n5A\n",
       "2    nnDLapJk1z2NJE0-XzwMlQ\n",
       "3    JijwZPUuFqQqUekNR--dfw\n",
       "4    bSY97kgQpJ5BrpgW40V1qg\n",
       "Name: similar, dtype: object"
      ]
     },
     "execution_count": 51,
     "metadata": {},
     "output_type": "execute_result"
    }
   ],
   "source": [
    "df_favored = df_stars[df_stars.stars > 4] # select favored restuarants\n",
    "bid_favored = df_favored[df_favored.user_id == df_favored.user_id.iloc[0]]\n",
    "\n",
    "# first select favored restaurants' similar items\n",
    "# second sort those restaurants, then got top 5\n",
    "similar_items_df[similar_items_df['business_id'].isin(bid_favored.business_id)].sort('score',ascending=False).similar[:5]"
   ]
  },
  {
   "cell_type": "markdown",
   "metadata": {},
   "source": [
    "### Popularity - based - recommender"
   ]
  },
  {
   "cell_type": "code",
   "execution_count": 52,
   "metadata": {},
   "outputs": [
    {
     "data": {
      "text/html": [
       "<div style=\"max-height:1000px;max-width:1500px;overflow:auto;\"><table frame=\"box\" rules=\"cols\">\n",
       "    <tr>\n",
       "        <th style=\"padding-left: 1em; padding-right: 1em; text-align: center\">business_id</th>\n",
       "        <th style=\"padding-left: 1em; padding-right: 1em; text-align: center\">user_id</th>\n",
       "        <th style=\"padding-left: 1em; padding-right: 1em; text-align: center\">stars</th>\n",
       "    </tr>\n",
       "    <tr>\n",
       "        <td style=\"padding-left: 1em; padding-right: 1em; text-align: center; vertical-align: top\">--9e1ONYQuAa-CB_Rrw7Tw</td>\n",
       "        <td style=\"padding-left: 1em; padding-right: 1em; text-align: center; vertical-align: top\">ymlnR8UeFvB4FZL56tCZsA</td>\n",
       "        <td style=\"padding-left: 1em; padding-right: 1em; text-align: center; vertical-align: top\">5</td>\n",
       "    </tr>\n",
       "    <tr>\n",
       "        <td style=\"padding-left: 1em; padding-right: 1em; text-align: center; vertical-align: top\">--9e1ONYQuAa-CB_Rrw7Tw</td>\n",
       "        <td style=\"padding-left: 1em; padding-right: 1em; text-align: center; vertical-align: top\">9pSSL6X6lFpY3FCRLEH3og</td>\n",
       "        <td style=\"padding-left: 1em; padding-right: 1em; text-align: center; vertical-align: top\">5</td>\n",
       "    </tr>\n",
       "    <tr>\n",
       "        <td style=\"padding-left: 1em; padding-right: 1em; text-align: center; vertical-align: top\">--9e1ONYQuAa-CB_Rrw7Tw</td>\n",
       "        <td style=\"padding-left: 1em; padding-right: 1em; text-align: center; vertical-align: top\">CEtidlXNyQzgJSdF1ubPFw</td>\n",
       "        <td style=\"padding-left: 1em; padding-right: 1em; text-align: center; vertical-align: top\">3</td>\n",
       "    </tr>\n",
       "    <tr>\n",
       "        <td style=\"padding-left: 1em; padding-right: 1em; text-align: center; vertical-align: top\">--9e1ONYQuAa-CB_Rrw7Tw</td>\n",
       "        <td style=\"padding-left: 1em; padding-right: 1em; text-align: center; vertical-align: top\">cZVQGCZ_fHtTdfiyGVJPdg</td>\n",
       "        <td style=\"padding-left: 1em; padding-right: 1em; text-align: center; vertical-align: top\">5</td>\n",
       "    </tr>\n",
       "    <tr>\n",
       "        <td style=\"padding-left: 1em; padding-right: 1em; text-align: center; vertical-align: top\">--9e1ONYQuAa-CB_Rrw7Tw</td>\n",
       "        <td style=\"padding-left: 1em; padding-right: 1em; text-align: center; vertical-align: top\">li2cBZl60vgqihDJJG7jeA</td>\n",
       "        <td style=\"padding-left: 1em; padding-right: 1em; text-align: center; vertical-align: top\">2</td>\n",
       "    </tr>\n",
       "    <tr>\n",
       "        <td style=\"padding-left: 1em; padding-right: 1em; text-align: center; vertical-align: top\">--9e1ONYQuAa-CB_Rrw7Tw</td>\n",
       "        <td style=\"padding-left: 1em; padding-right: 1em; text-align: center; vertical-align: top\">zGipc5uOJrejX6KkUsSNpA</td>\n",
       "        <td style=\"padding-left: 1em; padding-right: 1em; text-align: center; vertical-align: top\">4</td>\n",
       "    </tr>\n",
       "    <tr>\n",
       "        <td style=\"padding-left: 1em; padding-right: 1em; text-align: center; vertical-align: top\">--9e1ONYQuAa-CB_Rrw7Tw</td>\n",
       "        <td style=\"padding-left: 1em; padding-right: 1em; text-align: center; vertical-align: top\">Lgmfl_A0cy72dwZfbuh9Tg</td>\n",
       "        <td style=\"padding-left: 1em; padding-right: 1em; text-align: center; vertical-align: top\">4</td>\n",
       "    </tr>\n",
       "    <tr>\n",
       "        <td style=\"padding-left: 1em; padding-right: 1em; text-align: center; vertical-align: top\">--9e1ONYQuAa-CB_Rrw7Tw</td>\n",
       "        <td style=\"padding-left: 1em; padding-right: 1em; text-align: center; vertical-align: top\">nGw_csaHeNdtb3IpSmtuGA</td>\n",
       "        <td style=\"padding-left: 1em; padding-right: 1em; text-align: center; vertical-align: top\">2</td>\n",
       "    </tr>\n",
       "    <tr>\n",
       "        <td style=\"padding-left: 1em; padding-right: 1em; text-align: center; vertical-align: top\">--9e1ONYQuAa-CB_Rrw7Tw</td>\n",
       "        <td style=\"padding-left: 1em; padding-right: 1em; text-align: center; vertical-align: top\">KC8H7qTZVPIEnanw9fG43g</td>\n",
       "        <td style=\"padding-left: 1em; padding-right: 1em; text-align: center; vertical-align: top\">5</td>\n",
       "    </tr>\n",
       "    <tr>\n",
       "        <td style=\"padding-left: 1em; padding-right: 1em; text-align: center; vertical-align: top\">--9e1ONYQuAa-CB_Rrw7Tw</td>\n",
       "        <td style=\"padding-left: 1em; padding-right: 1em; text-align: center; vertical-align: top\">P1O81PTvXaR9kYKaP3_qwg</td>\n",
       "        <td style=\"padding-left: 1em; padding-right: 1em; text-align: center; vertical-align: top\">5</td>\n",
       "    </tr>\n",
       "</table>\n",
       "[365550 rows x 3 columns]<br/>Note: Only the head of the SFrame is printed.<br/>You can use print_rows(num_rows=m, num_columns=n) to print more rows and columns.\n",
       "</div>"
      ],
      "text/plain": [
       "Columns:\n",
       "\tbusiness_id\tstr\n",
       "\tuser_id\tstr\n",
       "\tstars\tint\n",
       "\n",
       "Rows: 365550\n",
       "\n",
       "Data:\n",
       "+------------------------+------------------------+-------+\n",
       "|      business_id       |        user_id         | stars |\n",
       "+------------------------+------------------------+-------+\n",
       "| --9e1ONYQuAa-CB_Rrw7Tw | ymlnR8UeFvB4FZL56tCZsA |   5   |\n",
       "| --9e1ONYQuAa-CB_Rrw7Tw | 9pSSL6X6lFpY3FCRLEH3og |   5   |\n",
       "| --9e1ONYQuAa-CB_Rrw7Tw | CEtidlXNyQzgJSdF1ubPFw |   3   |\n",
       "| --9e1ONYQuAa-CB_Rrw7Tw | cZVQGCZ_fHtTdfiyGVJPdg |   5   |\n",
       "| --9e1ONYQuAa-CB_Rrw7Tw | li2cBZl60vgqihDJJG7jeA |   2   |\n",
       "| --9e1ONYQuAa-CB_Rrw7Tw | zGipc5uOJrejX6KkUsSNpA |   4   |\n",
       "| --9e1ONYQuAa-CB_Rrw7Tw | Lgmfl_A0cy72dwZfbuh9Tg |   4   |\n",
       "| --9e1ONYQuAa-CB_Rrw7Tw | nGw_csaHeNdtb3IpSmtuGA |   2   |\n",
       "| --9e1ONYQuAa-CB_Rrw7Tw | KC8H7qTZVPIEnanw9fG43g |   5   |\n",
       "| --9e1ONYQuAa-CB_Rrw7Tw | P1O81PTvXaR9kYKaP3_qwg |   5   |\n",
       "+------------------------+------------------------+-------+\n",
       "[365550 rows x 3 columns]\n",
       "Note: Only the head of the SFrame is printed.\n",
       "You can use print_rows(num_rows=m, num_columns=n) to print more rows and columns."
      ]
     },
     "execution_count": 52,
     "metadata": {},
     "output_type": "execute_result"
    }
   ],
   "source": [
    "#data\n",
    "sf_stars"
   ]
  },
  {
   "cell_type": "code",
   "execution_count": 53,
   "metadata": {},
   "outputs": [
    {
     "data": {
      "text/html": [
       "<pre>Recsys training: model = popularity</pre>"
      ],
      "text/plain": [
       "Recsys training: model = popularity"
      ]
     },
     "metadata": {},
     "output_type": "display_data"
    },
    {
     "data": {
      "text/html": [
       "<pre>Preparing data set.</pre>"
      ],
      "text/plain": [
       "Preparing data set."
      ]
     },
     "metadata": {},
     "output_type": "display_data"
    },
    {
     "data": {
      "text/html": [
       "<pre>    Data has 365550 observations with 176960 users and 4550 items.</pre>"
      ],
      "text/plain": [
       "    Data has 365550 observations with 176960 users and 4550 items."
      ]
     },
     "metadata": {},
     "output_type": "display_data"
    },
    {
     "data": {
      "text/html": [
       "<pre>    Data prepared in: 0.592415s</pre>"
      ],
      "text/plain": [
       "    Data prepared in: 0.592415s"
      ]
     },
     "metadata": {},
     "output_type": "display_data"
    },
    {
     "data": {
      "text/html": [
       "<pre>365550 observations to process; with 4550 unique items.</pre>"
      ],
      "text/plain": [
       "365550 observations to process; with 4550 unique items."
      ]
     },
     "metadata": {},
     "output_type": "display_data"
    }
   ],
   "source": [
    "# Build recommendation system\n",
    "pop_rec = graphlab.popularity_recommender.create(sf_stars,\n",
    "                                                user_id = 'user_id',\n",
    "                                                item_id = 'business_id',\n",
    "                                                target = 'stars')"
   ]
  },
  {
   "cell_type": "code",
   "execution_count": 54,
   "metadata": {},
   "outputs": [
    {
     "data": {
      "text/html": [
       "<pre>recommendations finished on 1000/176960 queries. users per second: 47409.1</pre>"
      ],
      "text/plain": [
       "recommendations finished on 1000/176960 queries. users per second: 47409.1"
      ]
     },
     "metadata": {},
     "output_type": "display_data"
    },
    {
     "data": {
      "text/html": [
       "<pre>recommendations finished on 2000/176960 queries. users per second: 56170.3</pre>"
      ],
      "text/plain": [
       "recommendations finished on 2000/176960 queries. users per second: 56170.3"
      ]
     },
     "metadata": {},
     "output_type": "display_data"
    },
    {
     "data": {
      "text/html": [
       "<pre>recommendations finished on 3000/176960 queries. users per second: 57363.6</pre>"
      ],
      "text/plain": [
       "recommendations finished on 3000/176960 queries. users per second: 57363.6"
      ]
     },
     "metadata": {},
     "output_type": "display_data"
    },
    {
     "data": {
      "text/html": [
       "<pre>recommendations finished on 4000/176960 queries. users per second: 60142.2</pre>"
      ],
      "text/plain": [
       "recommendations finished on 4000/176960 queries. users per second: 60142.2"
      ]
     },
     "metadata": {},
     "output_type": "display_data"
    },
    {
     "data": {
      "text/html": [
       "<pre>recommendations finished on 5000/176960 queries. users per second: 56996.3</pre>"
      ],
      "text/plain": [
       "recommendations finished on 5000/176960 queries. users per second: 56996.3"
      ]
     },
     "metadata": {},
     "output_type": "display_data"
    },
    {
     "data": {
      "text/html": [
       "<pre>recommendations finished on 6000/176960 queries. users per second: 55697.9</pre>"
      ],
      "text/plain": [
       "recommendations finished on 6000/176960 queries. users per second: 55697.9"
      ]
     },
     "metadata": {},
     "output_type": "display_data"
    },
    {
     "data": {
      "text/html": [
       "<pre>recommendations finished on 7000/176960 queries. users per second: 49284.3</pre>"
      ],
      "text/plain": [
       "recommendations finished on 7000/176960 queries. users per second: 49284.3"
      ]
     },
     "metadata": {},
     "output_type": "display_data"
    },
    {
     "data": {
      "text/html": [
       "<pre>recommendations finished on 8000/176960 queries. users per second: 50402.3</pre>"
      ],
      "text/plain": [
       "recommendations finished on 8000/176960 queries. users per second: 50402.3"
      ]
     },
     "metadata": {},
     "output_type": "display_data"
    },
    {
     "data": {
      "text/html": [
       "<pre>recommendations finished on 9000/176960 queries. users per second: 51119.5</pre>"
      ],
      "text/plain": [
       "recommendations finished on 9000/176960 queries. users per second: 51119.5"
      ]
     },
     "metadata": {},
     "output_type": "display_data"
    },
    {
     "data": {
      "text/html": [
       "<pre>recommendations finished on 10000/176960 queries. users per second: 49854.4</pre>"
      ],
      "text/plain": [
       "recommendations finished on 10000/176960 queries. users per second: 49854.4"
      ]
     },
     "metadata": {},
     "output_type": "display_data"
    },
    {
     "data": {
      "text/html": [
       "<pre>recommendations finished on 11000/176960 queries. users per second: 50428.9</pre>"
      ],
      "text/plain": [
       "recommendations finished on 11000/176960 queries. users per second: 50428.9"
      ]
     },
     "metadata": {},
     "output_type": "display_data"
    },
    {
     "data": {
      "text/html": [
       "<pre>recommendations finished on 12000/176960 queries. users per second: 51445</pre>"
      ],
      "text/plain": [
       "recommendations finished on 12000/176960 queries. users per second: 51445"
      ]
     },
     "metadata": {},
     "output_type": "display_data"
    },
    {
     "data": {
      "text/html": [
       "<pre>recommendations finished on 13000/176960 queries. users per second: 51088.2</pre>"
      ],
      "text/plain": [
       "recommendations finished on 13000/176960 queries. users per second: 51088.2"
      ]
     },
     "metadata": {},
     "output_type": "display_data"
    },
    {
     "data": {
      "text/html": [
       "<pre>recommendations finished on 14000/176960 queries. users per second: 49961.6</pre>"
      ],
      "text/plain": [
       "recommendations finished on 14000/176960 queries. users per second: 49961.6"
      ]
     },
     "metadata": {},
     "output_type": "display_data"
    },
    {
     "data": {
      "text/html": [
       "<pre>recommendations finished on 15000/176960 queries. users per second: 49783.6</pre>"
      ],
      "text/plain": [
       "recommendations finished on 15000/176960 queries. users per second: 49783.6"
      ]
     },
     "metadata": {},
     "output_type": "display_data"
    },
    {
     "data": {
      "text/html": [
       "<pre>recommendations finished on 16000/176960 queries. users per second: 50607.9</pre>"
      ],
      "text/plain": [
       "recommendations finished on 16000/176960 queries. users per second: 50607.9"
      ]
     },
     "metadata": {},
     "output_type": "display_data"
    },
    {
     "data": {
      "text/html": [
       "<pre>recommendations finished on 17000/176960 queries. users per second: 51073.3</pre>"
      ],
      "text/plain": [
       "recommendations finished on 17000/176960 queries. users per second: 51073.3"
      ]
     },
     "metadata": {},
     "output_type": "display_data"
    },
    {
     "data": {
      "text/html": [
       "<pre>recommendations finished on 18000/176960 queries. users per second: 50684.8</pre>"
      ],
      "text/plain": [
       "recommendations finished on 18000/176960 queries. users per second: 50684.8"
      ]
     },
     "metadata": {},
     "output_type": "display_data"
    },
    {
     "data": {
      "text/html": [
       "<pre>recommendations finished on 19000/176960 queries. users per second: 50536.1</pre>"
      ],
      "text/plain": [
       "recommendations finished on 19000/176960 queries. users per second: 50536.1"
      ]
     },
     "metadata": {},
     "output_type": "display_data"
    },
    {
     "data": {
      "text/html": [
       "<pre>recommendations finished on 20000/176960 queries. users per second: 49770.6</pre>"
      ],
      "text/plain": [
       "recommendations finished on 20000/176960 queries. users per second: 49770.6"
      ]
     },
     "metadata": {},
     "output_type": "display_data"
    },
    {
     "data": {
      "text/html": [
       "<pre>recommendations finished on 21000/176960 queries. users per second: 49799</pre>"
      ],
      "text/plain": [
       "recommendations finished on 21000/176960 queries. users per second: 49799"
      ]
     },
     "metadata": {},
     "output_type": "display_data"
    },
    {
     "data": {
      "text/html": [
       "<pre>recommendations finished on 22000/176960 queries. users per second: 49811.7</pre>"
      ],
      "text/plain": [
       "recommendations finished on 22000/176960 queries. users per second: 49811.7"
      ]
     },
     "metadata": {},
     "output_type": "display_data"
    },
    {
     "data": {
      "text/html": [
       "<pre>recommendations finished on 23000/176960 queries. users per second: 50157.5</pre>"
      ],
      "text/plain": [
       "recommendations finished on 23000/176960 queries. users per second: 50157.5"
      ]
     },
     "metadata": {},
     "output_type": "display_data"
    },
    {
     "data": {
      "text/html": [
       "<pre>recommendations finished on 24000/176960 queries. users per second: 50253.9</pre>"
      ],
      "text/plain": [
       "recommendations finished on 24000/176960 queries. users per second: 50253.9"
      ]
     },
     "metadata": {},
     "output_type": "display_data"
    },
    {
     "data": {
      "text/html": [
       "<pre>recommendations finished on 25000/176960 queries. users per second: 50288.5</pre>"
      ],
      "text/plain": [
       "recommendations finished on 25000/176960 queries. users per second: 50288.5"
      ]
     },
     "metadata": {},
     "output_type": "display_data"
    },
    {
     "data": {
      "text/html": [
       "<pre>recommendations finished on 26000/176960 queries. users per second: 50677.8</pre>"
      ],
      "text/plain": [
       "recommendations finished on 26000/176960 queries. users per second: 50677.8"
      ]
     },
     "metadata": {},
     "output_type": "display_data"
    },
    {
     "data": {
      "text/html": [
       "<pre>recommendations finished on 27000/176960 queries. users per second: 50292.6</pre>"
      ],
      "text/plain": [
       "recommendations finished on 27000/176960 queries. users per second: 50292.6"
      ]
     },
     "metadata": {},
     "output_type": "display_data"
    },
    {
     "data": {
      "text/html": [
       "<pre>recommendations finished on 28000/176960 queries. users per second: 49995.9</pre>"
      ],
      "text/plain": [
       "recommendations finished on 28000/176960 queries. users per second: 49995.9"
      ]
     },
     "metadata": {},
     "output_type": "display_data"
    },
    {
     "data": {
      "text/html": [
       "<pre>recommendations finished on 29000/176960 queries. users per second: 50201.8</pre>"
      ],
      "text/plain": [
       "recommendations finished on 29000/176960 queries. users per second: 50201.8"
      ]
     },
     "metadata": {},
     "output_type": "display_data"
    },
    {
     "data": {
      "text/html": [
       "<pre>recommendations finished on 30000/176960 queries. users per second: 50117</pre>"
      ],
      "text/plain": [
       "recommendations finished on 30000/176960 queries. users per second: 50117"
      ]
     },
     "metadata": {},
     "output_type": "display_data"
    },
    {
     "data": {
      "text/html": [
       "<pre>recommendations finished on 31000/176960 queries. users per second: 50005.5</pre>"
      ],
      "text/plain": [
       "recommendations finished on 31000/176960 queries. users per second: 50005.5"
      ]
     },
     "metadata": {},
     "output_type": "display_data"
    },
    {
     "data": {
      "text/html": [
       "<pre>recommendations finished on 32000/176960 queries. users per second: 49774.8</pre>"
      ],
      "text/plain": [
       "recommendations finished on 32000/176960 queries. users per second: 49774.8"
      ]
     },
     "metadata": {},
     "output_type": "display_data"
    },
    {
     "data": {
      "text/html": [
       "<pre>recommendations finished on 33000/176960 queries. users per second: 50006.5</pre>"
      ],
      "text/plain": [
       "recommendations finished on 33000/176960 queries. users per second: 50006.5"
      ]
     },
     "metadata": {},
     "output_type": "display_data"
    },
    {
     "data": {
      "text/html": [
       "<pre>recommendations finished on 34000/176960 queries. users per second: 49904.2</pre>"
      ],
      "text/plain": [
       "recommendations finished on 34000/176960 queries. users per second: 49904.2"
      ]
     },
     "metadata": {},
     "output_type": "display_data"
    },
    {
     "data": {
      "text/html": [
       "<pre>recommendations finished on 35000/176960 queries. users per second: 50109.8</pre>"
      ],
      "text/plain": [
       "recommendations finished on 35000/176960 queries. users per second: 50109.8"
      ]
     },
     "metadata": {},
     "output_type": "display_data"
    },
    {
     "data": {
      "text/html": [
       "<pre>recommendations finished on 36000/176960 queries. users per second: 50431.8</pre>"
      ],
      "text/plain": [
       "recommendations finished on 36000/176960 queries. users per second: 50431.8"
      ]
     },
     "metadata": {},
     "output_type": "display_data"
    },
    {
     "data": {
      "text/html": [
       "<pre>recommendations finished on 37000/176960 queries. users per second: 50386</pre>"
      ],
      "text/plain": [
       "recommendations finished on 37000/176960 queries. users per second: 50386"
      ]
     },
     "metadata": {},
     "output_type": "display_data"
    },
    {
     "data": {
      "text/html": [
       "<pre>recommendations finished on 38000/176960 queries. users per second: 50476.5</pre>"
      ],
      "text/plain": [
       "recommendations finished on 38000/176960 queries. users per second: 50476.5"
      ]
     },
     "metadata": {},
     "output_type": "display_data"
    },
    {
     "data": {
      "text/html": [
       "<pre>recommendations finished on 39000/176960 queries. users per second: 50747.9</pre>"
      ],
      "text/plain": [
       "recommendations finished on 39000/176960 queries. users per second: 50747.9"
      ]
     },
     "metadata": {},
     "output_type": "display_data"
    },
    {
     "data": {
      "text/html": [
       "<pre>recommendations finished on 40000/176960 queries. users per second: 50812.4</pre>"
      ],
      "text/plain": [
       "recommendations finished on 40000/176960 queries. users per second: 50812.4"
      ]
     },
     "metadata": {},
     "output_type": "display_data"
    },
    {
     "data": {
      "text/html": [
       "<pre>recommendations finished on 41000/176960 queries. users per second: 50766.5</pre>"
      ],
      "text/plain": [
       "recommendations finished on 41000/176960 queries. users per second: 50766.5"
      ]
     },
     "metadata": {},
     "output_type": "display_data"
    },
    {
     "data": {
      "text/html": [
       "<pre>recommendations finished on 42000/176960 queries. users per second: 50512.1</pre>"
      ],
      "text/plain": [
       "recommendations finished on 42000/176960 queries. users per second: 50512.1"
      ]
     },
     "metadata": {},
     "output_type": "display_data"
    },
    {
     "data": {
      "text/html": [
       "<pre>recommendations finished on 43000/176960 queries. users per second: 50660.4</pre>"
      ],
      "text/plain": [
       "recommendations finished on 43000/176960 queries. users per second: 50660.4"
      ]
     },
     "metadata": {},
     "output_type": "display_data"
    },
    {
     "data": {
      "text/html": [
       "<pre>recommendations finished on 44000/176960 queries. users per second: 50890.6</pre>"
      ],
      "text/plain": [
       "recommendations finished on 44000/176960 queries. users per second: 50890.6"
      ]
     },
     "metadata": {},
     "output_type": "display_data"
    },
    {
     "data": {
      "text/html": [
       "<pre>recommendations finished on 45000/176960 queries. users per second: 50838.9</pre>"
      ],
      "text/plain": [
       "recommendations finished on 45000/176960 queries. users per second: 50838.9"
      ]
     },
     "metadata": {},
     "output_type": "display_data"
    },
    {
     "data": {
      "text/html": [
       "<pre>recommendations finished on 46000/176960 queries. users per second: 50737.7</pre>"
      ],
      "text/plain": [
       "recommendations finished on 46000/176960 queries. users per second: 50737.7"
      ]
     },
     "metadata": {},
     "output_type": "display_data"
    },
    {
     "data": {
      "text/html": [
       "<pre>recommendations finished on 47000/176960 queries. users per second: 50403.3</pre>"
      ],
      "text/plain": [
       "recommendations finished on 47000/176960 queries. users per second: 50403.3"
      ]
     },
     "metadata": {},
     "output_type": "display_data"
    },
    {
     "data": {
      "text/html": [
       "<pre>recommendations finished on 48000/176960 queries. users per second: 49952.5</pre>"
      ],
      "text/plain": [
       "recommendations finished on 48000/176960 queries. users per second: 49952.5"
      ]
     },
     "metadata": {},
     "output_type": "display_data"
    },
    {
     "data": {
      "text/html": [
       "<pre>recommendations finished on 49000/176960 queries. users per second: 49159.2</pre>"
      ],
      "text/plain": [
       "recommendations finished on 49000/176960 queries. users per second: 49159.2"
      ]
     },
     "metadata": {},
     "output_type": "display_data"
    },
    {
     "data": {
      "text/html": [
       "<pre>recommendations finished on 50000/176960 queries. users per second: 48809.6</pre>"
      ],
      "text/plain": [
       "recommendations finished on 50000/176960 queries. users per second: 48809.6"
      ]
     },
     "metadata": {},
     "output_type": "display_data"
    },
    {
     "data": {
      "text/html": [
       "<pre>recommendations finished on 51000/176960 queries. users per second: 48335.2</pre>"
      ],
      "text/plain": [
       "recommendations finished on 51000/176960 queries. users per second: 48335.2"
      ]
     },
     "metadata": {},
     "output_type": "display_data"
    },
    {
     "data": {
      "text/html": [
       "<pre>recommendations finished on 52000/176960 queries. users per second: 48019.1</pre>"
      ],
      "text/plain": [
       "recommendations finished on 52000/176960 queries. users per second: 48019.1"
      ]
     },
     "metadata": {},
     "output_type": "display_data"
    },
    {
     "data": {
      "text/html": [
       "<pre>recommendations finished on 53000/176960 queries. users per second: 46600</pre>"
      ],
      "text/plain": [
       "recommendations finished on 53000/176960 queries. users per second: 46600"
      ]
     },
     "metadata": {},
     "output_type": "display_data"
    },
    {
     "data": {
      "text/html": [
       "<pre>recommendations finished on 54000/176960 queries. users per second: 45777.2</pre>"
      ],
      "text/plain": [
       "recommendations finished on 54000/176960 queries. users per second: 45777.2"
      ]
     },
     "metadata": {},
     "output_type": "display_data"
    },
    {
     "data": {
      "text/html": [
       "<pre>recommendations finished on 55000/176960 queries. users per second: 45817.6</pre>"
      ],
      "text/plain": [
       "recommendations finished on 55000/176960 queries. users per second: 45817.6"
      ]
     },
     "metadata": {},
     "output_type": "display_data"
    },
    {
     "data": {
      "text/html": [
       "<pre>recommendations finished on 56000/176960 queries. users per second: 45449.5</pre>"
      ],
      "text/plain": [
       "recommendations finished on 56000/176960 queries. users per second: 45449.5"
      ]
     },
     "metadata": {},
     "output_type": "display_data"
    },
    {
     "data": {
      "text/html": [
       "<pre>recommendations finished on 57000/176960 queries. users per second: 45254.4</pre>"
      ],
      "text/plain": [
       "recommendations finished on 57000/176960 queries. users per second: 45254.4"
      ]
     },
     "metadata": {},
     "output_type": "display_data"
    },
    {
     "data": {
      "text/html": [
       "<pre>recommendations finished on 58000/176960 queries. users per second: 45279.5</pre>"
      ],
      "text/plain": [
       "recommendations finished on 58000/176960 queries. users per second: 45279.5"
      ]
     },
     "metadata": {},
     "output_type": "display_data"
    },
    {
     "data": {
      "text/html": [
       "<pre>recommendations finished on 59000/176960 queries. users per second: 45277.1</pre>"
      ],
      "text/plain": [
       "recommendations finished on 59000/176960 queries. users per second: 45277.1"
      ]
     },
     "metadata": {},
     "output_type": "display_data"
    },
    {
     "data": {
      "text/html": [
       "<pre>recommendations finished on 60000/176960 queries. users per second: 44999.8</pre>"
      ],
      "text/plain": [
       "recommendations finished on 60000/176960 queries. users per second: 44999.8"
      ]
     },
     "metadata": {},
     "output_type": "display_data"
    },
    {
     "data": {
      "text/html": [
       "<pre>recommendations finished on 61000/176960 queries. users per second: 44827</pre>"
      ],
      "text/plain": [
       "recommendations finished on 61000/176960 queries. users per second: 44827"
      ]
     },
     "metadata": {},
     "output_type": "display_data"
    },
    {
     "data": {
      "text/html": [
       "<pre>recommendations finished on 62000/176960 queries. users per second: 44963.4</pre>"
      ],
      "text/plain": [
       "recommendations finished on 62000/176960 queries. users per second: 44963.4"
      ]
     },
     "metadata": {},
     "output_type": "display_data"
    },
    {
     "data": {
      "text/html": [
       "<pre>recommendations finished on 63000/176960 queries. users per second: 45009.2</pre>"
      ],
      "text/plain": [
       "recommendations finished on 63000/176960 queries. users per second: 45009.2"
      ]
     },
     "metadata": {},
     "output_type": "display_data"
    },
    {
     "data": {
      "text/html": [
       "<pre>recommendations finished on 64000/176960 queries. users per second: 45005.7</pre>"
      ],
      "text/plain": [
       "recommendations finished on 64000/176960 queries. users per second: 45005.7"
      ]
     },
     "metadata": {},
     "output_type": "display_data"
    },
    {
     "data": {
      "text/html": [
       "<pre>recommendations finished on 65000/176960 queries. users per second: 44958</pre>"
      ],
      "text/plain": [
       "recommendations finished on 65000/176960 queries. users per second: 44958"
      ]
     },
     "metadata": {},
     "output_type": "display_data"
    },
    {
     "data": {
      "text/html": [
       "<pre>recommendations finished on 66000/176960 queries. users per second: 44955.3</pre>"
      ],
      "text/plain": [
       "recommendations finished on 66000/176960 queries. users per second: 44955.3"
      ]
     },
     "metadata": {},
     "output_type": "display_data"
    },
    {
     "data": {
      "text/html": [
       "<pre>recommendations finished on 67000/176960 queries. users per second: 44934.7</pre>"
      ],
      "text/plain": [
       "recommendations finished on 67000/176960 queries. users per second: 44934.7"
      ]
     },
     "metadata": {},
     "output_type": "display_data"
    },
    {
     "data": {
      "text/html": [
       "<pre>recommendations finished on 68000/176960 queries. users per second: 44976.1</pre>"
      ],
      "text/plain": [
       "recommendations finished on 68000/176960 queries. users per second: 44976.1"
      ]
     },
     "metadata": {},
     "output_type": "display_data"
    },
    {
     "data": {
      "text/html": [
       "<pre>recommendations finished on 69000/176960 queries. users per second: 44854.7</pre>"
      ],
      "text/plain": [
       "recommendations finished on 69000/176960 queries. users per second: 44854.7"
      ]
     },
     "metadata": {},
     "output_type": "display_data"
    },
    {
     "data": {
      "text/html": [
       "<pre>recommendations finished on 70000/176960 queries. users per second: 44627.2</pre>"
      ],
      "text/plain": [
       "recommendations finished on 70000/176960 queries. users per second: 44627.2"
      ]
     },
     "metadata": {},
     "output_type": "display_data"
    },
    {
     "data": {
      "text/html": [
       "<pre>recommendations finished on 71000/176960 queries. users per second: 44780.1</pre>"
      ],
      "text/plain": [
       "recommendations finished on 71000/176960 queries. users per second: 44780.1"
      ]
     },
     "metadata": {},
     "output_type": "display_data"
    },
    {
     "data": {
      "text/html": [
       "<pre>recommendations finished on 72000/176960 queries. users per second: 45031</pre>"
      ],
      "text/plain": [
       "recommendations finished on 72000/176960 queries. users per second: 45031"
      ]
     },
     "metadata": {},
     "output_type": "display_data"
    },
    {
     "data": {
      "text/html": [
       "<pre>recommendations finished on 73000/176960 queries. users per second: 45282.7</pre>"
      ],
      "text/plain": [
       "recommendations finished on 73000/176960 queries. users per second: 45282.7"
      ]
     },
     "metadata": {},
     "output_type": "display_data"
    },
    {
     "data": {
      "text/html": [
       "<pre>recommendations finished on 74000/176960 queries. users per second: 45243.8</pre>"
      ],
      "text/plain": [
       "recommendations finished on 74000/176960 queries. users per second: 45243.8"
      ]
     },
     "metadata": {},
     "output_type": "display_data"
    },
    {
     "data": {
      "text/html": [
       "<pre>recommendations finished on 75000/176960 queries. users per second: 45219.2</pre>"
      ],
      "text/plain": [
       "recommendations finished on 75000/176960 queries. users per second: 45219.2"
      ]
     },
     "metadata": {},
     "output_type": "display_data"
    },
    {
     "data": {
      "text/html": [
       "<pre>recommendations finished on 76000/176960 queries. users per second: 45353.6</pre>"
      ],
      "text/plain": [
       "recommendations finished on 76000/176960 queries. users per second: 45353.6"
      ]
     },
     "metadata": {},
     "output_type": "display_data"
    },
    {
     "data": {
      "text/html": [
       "<pre>recommendations finished on 77000/176960 queries. users per second: 45461.3</pre>"
      ],
      "text/plain": [
       "recommendations finished on 77000/176960 queries. users per second: 45461.3"
      ]
     },
     "metadata": {},
     "output_type": "display_data"
    },
    {
     "data": {
      "text/html": [
       "<pre>recommendations finished on 78000/176960 queries. users per second: 45484.2</pre>"
      ],
      "text/plain": [
       "recommendations finished on 78000/176960 queries. users per second: 45484.2"
      ]
     },
     "metadata": {},
     "output_type": "display_data"
    },
    {
     "data": {
      "text/html": [
       "<pre>recommendations finished on 79000/176960 queries. users per second: 45527</pre>"
      ],
      "text/plain": [
       "recommendations finished on 79000/176960 queries. users per second: 45527"
      ]
     },
     "metadata": {},
     "output_type": "display_data"
    },
    {
     "data": {
      "text/html": [
       "<pre>recommendations finished on 80000/176960 queries. users per second: 45612.6</pre>"
      ],
      "text/plain": [
       "recommendations finished on 80000/176960 queries. users per second: 45612.6"
      ]
     },
     "metadata": {},
     "output_type": "display_data"
    },
    {
     "data": {
      "text/html": [
       "<pre>recommendations finished on 81000/176960 queries. users per second: 45610.9</pre>"
      ],
      "text/plain": [
       "recommendations finished on 81000/176960 queries. users per second: 45610.9"
      ]
     },
     "metadata": {},
     "output_type": "display_data"
    },
    {
     "data": {
      "text/html": [
       "<pre>recommendations finished on 82000/176960 queries. users per second: 45744.3</pre>"
      ],
      "text/plain": [
       "recommendations finished on 82000/176960 queries. users per second: 45744.3"
      ]
     },
     "metadata": {},
     "output_type": "display_data"
    },
    {
     "data": {
      "text/html": [
       "<pre>recommendations finished on 83000/176960 queries. users per second: 45873.4</pre>"
      ],
      "text/plain": [
       "recommendations finished on 83000/176960 queries. users per second: 45873.4"
      ]
     },
     "metadata": {},
     "output_type": "display_data"
    },
    {
     "data": {
      "text/html": [
       "<pre>recommendations finished on 84000/176960 queries. users per second: 46044.8</pre>"
      ],
      "text/plain": [
       "recommendations finished on 84000/176960 queries. users per second: 46044.8"
      ]
     },
     "metadata": {},
     "output_type": "display_data"
    },
    {
     "data": {
      "text/html": [
       "<pre>recommendations finished on 85000/176960 queries. users per second: 46163.7</pre>"
      ],
      "text/plain": [
       "recommendations finished on 85000/176960 queries. users per second: 46163.7"
      ]
     },
     "metadata": {},
     "output_type": "display_data"
    },
    {
     "data": {
      "text/html": [
       "<pre>recommendations finished on 86000/176960 queries. users per second: 46202.9</pre>"
      ],
      "text/plain": [
       "recommendations finished on 86000/176960 queries. users per second: 46202.9"
      ]
     },
     "metadata": {},
     "output_type": "display_data"
    },
    {
     "data": {
      "text/html": [
       "<pre>recommendations finished on 87000/176960 queries. users per second: 46254.1</pre>"
      ],
      "text/plain": [
       "recommendations finished on 87000/176960 queries. users per second: 46254.1"
      ]
     },
     "metadata": {},
     "output_type": "display_data"
    },
    {
     "data": {
      "text/html": [
       "<pre>recommendations finished on 88000/176960 queries. users per second: 46348.2</pre>"
      ],
      "text/plain": [
       "recommendations finished on 88000/176960 queries. users per second: 46348.2"
      ]
     },
     "metadata": {},
     "output_type": "display_data"
    },
    {
     "data": {
      "text/html": [
       "<pre>recommendations finished on 89000/176960 queries. users per second: 46268.3</pre>"
      ],
      "text/plain": [
       "recommendations finished on 89000/176960 queries. users per second: 46268.3"
      ]
     },
     "metadata": {},
     "output_type": "display_data"
    },
    {
     "data": {
      "text/html": [
       "<pre>recommendations finished on 90000/176960 queries. users per second: 46360.8</pre>"
      ],
      "text/plain": [
       "recommendations finished on 90000/176960 queries. users per second: 46360.8"
      ]
     },
     "metadata": {},
     "output_type": "display_data"
    },
    {
     "data": {
      "text/html": [
       "<pre>recommendations finished on 91000/176960 queries. users per second: 46447.9</pre>"
      ],
      "text/plain": [
       "recommendations finished on 91000/176960 queries. users per second: 46447.9"
      ]
     },
     "metadata": {},
     "output_type": "display_data"
    },
    {
     "data": {
      "text/html": [
       "<pre>recommendations finished on 92000/176960 queries. users per second: 46437.8</pre>"
      ],
      "text/plain": [
       "recommendations finished on 92000/176960 queries. users per second: 46437.8"
      ]
     },
     "metadata": {},
     "output_type": "display_data"
    },
    {
     "data": {
      "text/html": [
       "<pre>recommendations finished on 93000/176960 queries. users per second: 46527.1</pre>"
      ],
      "text/plain": [
       "recommendations finished on 93000/176960 queries. users per second: 46527.1"
      ]
     },
     "metadata": {},
     "output_type": "display_data"
    },
    {
     "data": {
      "text/html": [
       "<pre>recommendations finished on 94000/176960 queries. users per second: 46626.6</pre>"
      ],
      "text/plain": [
       "recommendations finished on 94000/176960 queries. users per second: 46626.6"
      ]
     },
     "metadata": {},
     "output_type": "display_data"
    },
    {
     "data": {
      "text/html": [
       "<pre>recommendations finished on 95000/176960 queries. users per second: 46722.9</pre>"
      ],
      "text/plain": [
       "recommendations finished on 95000/176960 queries. users per second: 46722.9"
      ]
     },
     "metadata": {},
     "output_type": "display_data"
    },
    {
     "data": {
      "text/html": [
       "<pre>recommendations finished on 96000/176960 queries. users per second: 46765.5</pre>"
      ],
      "text/plain": [
       "recommendations finished on 96000/176960 queries. users per second: 46765.5"
      ]
     },
     "metadata": {},
     "output_type": "display_data"
    },
    {
     "data": {
      "text/html": [
       "<pre>recommendations finished on 97000/176960 queries. users per second: 46735.9</pre>"
      ],
      "text/plain": [
       "recommendations finished on 97000/176960 queries. users per second: 46735.9"
      ]
     },
     "metadata": {},
     "output_type": "display_data"
    },
    {
     "data": {
      "text/html": [
       "<pre>recommendations finished on 98000/176960 queries. users per second: 46900.1</pre>"
      ],
      "text/plain": [
       "recommendations finished on 98000/176960 queries. users per second: 46900.1"
      ]
     },
     "metadata": {},
     "output_type": "display_data"
    },
    {
     "data": {
      "text/html": [
       "<pre>recommendations finished on 99000/176960 queries. users per second: 46949.9</pre>"
      ],
      "text/plain": [
       "recommendations finished on 99000/176960 queries. users per second: 46949.9"
      ]
     },
     "metadata": {},
     "output_type": "display_data"
    },
    {
     "data": {
      "text/html": [
       "<pre>recommendations finished on 100000/176960 queries. users per second: 46939.7</pre>"
      ],
      "text/plain": [
       "recommendations finished on 100000/176960 queries. users per second: 46939.7"
      ]
     },
     "metadata": {},
     "output_type": "display_data"
    },
    {
     "data": {
      "text/html": [
       "<pre>recommendations finished on 101000/176960 queries. users per second: 47028.7</pre>"
      ],
      "text/plain": [
       "recommendations finished on 101000/176960 queries. users per second: 47028.7"
      ]
     },
     "metadata": {},
     "output_type": "display_data"
    },
    {
     "data": {
      "text/html": [
       "<pre>recommendations finished on 102000/176960 queries. users per second: 47200.1</pre>"
      ],
      "text/plain": [
       "recommendations finished on 102000/176960 queries. users per second: 47200.1"
      ]
     },
     "metadata": {},
     "output_type": "display_data"
    },
    {
     "data": {
      "text/html": [
       "<pre>recommendations finished on 103000/176960 queries. users per second: 47329.7</pre>"
      ],
      "text/plain": [
       "recommendations finished on 103000/176960 queries. users per second: 47329.7"
      ]
     },
     "metadata": {},
     "output_type": "display_data"
    },
    {
     "data": {
      "text/html": [
       "<pre>recommendations finished on 104000/176960 queries. users per second: 47320.8</pre>"
      ],
      "text/plain": [
       "recommendations finished on 104000/176960 queries. users per second: 47320.8"
      ]
     },
     "metadata": {},
     "output_type": "display_data"
    },
    {
     "data": {
      "text/html": [
       "<pre>recommendations finished on 105000/176960 queries. users per second: 47150.3</pre>"
      ],
      "text/plain": [
       "recommendations finished on 105000/176960 queries. users per second: 47150.3"
      ]
     },
     "metadata": {},
     "output_type": "display_data"
    },
    {
     "data": {
      "text/html": [
       "<pre>recommendations finished on 106000/176960 queries. users per second: 45997.9</pre>"
      ],
      "text/plain": [
       "recommendations finished on 106000/176960 queries. users per second: 45997.9"
      ]
     },
     "metadata": {},
     "output_type": "display_data"
    },
    {
     "data": {
      "text/html": [
       "<pre>recommendations finished on 107000/176960 queries. users per second: 46151</pre>"
      ],
      "text/plain": [
       "recommendations finished on 107000/176960 queries. users per second: 46151"
      ]
     },
     "metadata": {},
     "output_type": "display_data"
    },
    {
     "data": {
      "text/html": [
       "<pre>recommendations finished on 108000/176960 queries. users per second: 46226.8</pre>"
      ],
      "text/plain": [
       "recommendations finished on 108000/176960 queries. users per second: 46226.8"
      ]
     },
     "metadata": {},
     "output_type": "display_data"
    },
    {
     "data": {
      "text/html": [
       "<pre>recommendations finished on 109000/176960 queries. users per second: 46342.8</pre>"
      ],
      "text/plain": [
       "recommendations finished on 109000/176960 queries. users per second: 46342.8"
      ]
     },
     "metadata": {},
     "output_type": "display_data"
    },
    {
     "data": {
      "text/html": [
       "<pre>recommendations finished on 110000/176960 queries. users per second: 46333.5</pre>"
      ],
      "text/plain": [
       "recommendations finished on 110000/176960 queries. users per second: 46333.5"
      ]
     },
     "metadata": {},
     "output_type": "display_data"
    },
    {
     "data": {
      "text/html": [
       "<pre>recommendations finished on 111000/176960 queries. users per second: 46367.9</pre>"
      ],
      "text/plain": [
       "recommendations finished on 111000/176960 queries. users per second: 46367.9"
      ]
     },
     "metadata": {},
     "output_type": "display_data"
    },
    {
     "data": {
      "text/html": [
       "<pre>recommendations finished on 112000/176960 queries. users per second: 46496.6</pre>"
      ],
      "text/plain": [
       "recommendations finished on 112000/176960 queries. users per second: 46496.6"
      ]
     },
     "metadata": {},
     "output_type": "display_data"
    },
    {
     "data": {
      "text/html": [
       "<pre>recommendations finished on 113000/176960 queries. users per second: 46619.3</pre>"
      ],
      "text/plain": [
       "recommendations finished on 113000/176960 queries. users per second: 46619.3"
      ]
     },
     "metadata": {},
     "output_type": "display_data"
    },
    {
     "data": {
      "text/html": [
       "<pre>recommendations finished on 114000/176960 queries. users per second: 46552.1</pre>"
      ],
      "text/plain": [
       "recommendations finished on 114000/176960 queries. users per second: 46552.1"
      ]
     },
     "metadata": {},
     "output_type": "display_data"
    },
    {
     "data": {
      "text/html": [
       "<pre>recommendations finished on 115000/176960 queries. users per second: 46396.7</pre>"
      ],
      "text/plain": [
       "recommendations finished on 115000/176960 queries. users per second: 46396.7"
      ]
     },
     "metadata": {},
     "output_type": "display_data"
    },
    {
     "data": {
      "text/html": [
       "<pre>recommendations finished on 116000/176960 queries. users per second: 46312.9</pre>"
      ],
      "text/plain": [
       "recommendations finished on 116000/176960 queries. users per second: 46312.9"
      ]
     },
     "metadata": {},
     "output_type": "display_data"
    },
    {
     "data": {
      "text/html": [
       "<pre>recommendations finished on 117000/176960 queries. users per second: 46168.4</pre>"
      ],
      "text/plain": [
       "recommendations finished on 117000/176960 queries. users per second: 46168.4"
      ]
     },
     "metadata": {},
     "output_type": "display_data"
    },
    {
     "data": {
      "text/html": [
       "<pre>recommendations finished on 118000/176960 queries. users per second: 46028.7</pre>"
      ],
      "text/plain": [
       "recommendations finished on 118000/176960 queries. users per second: 46028.7"
      ]
     },
     "metadata": {},
     "output_type": "display_data"
    },
    {
     "data": {
      "text/html": [
       "<pre>recommendations finished on 119000/176960 queries. users per second: 46023.8</pre>"
      ],
      "text/plain": [
       "recommendations finished on 119000/176960 queries. users per second: 46023.8"
      ]
     },
     "metadata": {},
     "output_type": "display_data"
    },
    {
     "data": {
      "text/html": [
       "<pre>recommendations finished on 120000/176960 queries. users per second: 46023.3</pre>"
      ],
      "text/plain": [
       "recommendations finished on 120000/176960 queries. users per second: 46023.3"
      ]
     },
     "metadata": {},
     "output_type": "display_data"
    },
    {
     "data": {
      "text/html": [
       "<pre>recommendations finished on 121000/176960 queries. users per second: 46009.2</pre>"
      ],
      "text/plain": [
       "recommendations finished on 121000/176960 queries. users per second: 46009.2"
      ]
     },
     "metadata": {},
     "output_type": "display_data"
    },
    {
     "data": {
      "text/html": [
       "<pre>recommendations finished on 122000/176960 queries. users per second: 46015.1</pre>"
      ],
      "text/plain": [
       "recommendations finished on 122000/176960 queries. users per second: 46015.1"
      ]
     },
     "metadata": {},
     "output_type": "display_data"
    },
    {
     "data": {
      "text/html": [
       "<pre>recommendations finished on 123000/176960 queries. users per second: 46073.9</pre>"
      ],
      "text/plain": [
       "recommendations finished on 123000/176960 queries. users per second: 46073.9"
      ]
     },
     "metadata": {},
     "output_type": "display_data"
    },
    {
     "data": {
      "text/html": [
       "<pre>recommendations finished on 124000/176960 queries. users per second: 46145.4</pre>"
      ],
      "text/plain": [
       "recommendations finished on 124000/176960 queries. users per second: 46145.4"
      ]
     },
     "metadata": {},
     "output_type": "display_data"
    },
    {
     "data": {
      "text/html": [
       "<pre>recommendations finished on 125000/176960 queries. users per second: 46209.3</pre>"
      ],
      "text/plain": [
       "recommendations finished on 125000/176960 queries. users per second: 46209.3"
      ]
     },
     "metadata": {},
     "output_type": "display_data"
    },
    {
     "data": {
      "text/html": [
       "<pre>recommendations finished on 126000/176960 queries. users per second: 46302</pre>"
      ],
      "text/plain": [
       "recommendations finished on 126000/176960 queries. users per second: 46302"
      ]
     },
     "metadata": {},
     "output_type": "display_data"
    },
    {
     "data": {
      "text/html": [
       "<pre>recommendations finished on 127000/176960 queries. users per second: 46280.5</pre>"
      ],
      "text/plain": [
       "recommendations finished on 127000/176960 queries. users per second: 46280.5"
      ]
     },
     "metadata": {},
     "output_type": "display_data"
    },
    {
     "data": {
      "text/html": [
       "<pre>recommendations finished on 128000/176960 queries. users per second: 46315.4</pre>"
      ],
      "text/plain": [
       "recommendations finished on 128000/176960 queries. users per second: 46315.4"
      ]
     },
     "metadata": {},
     "output_type": "display_data"
    },
    {
     "data": {
      "text/html": [
       "<pre>recommendations finished on 129000/176960 queries. users per second: 46386.4</pre>"
      ],
      "text/plain": [
       "recommendations finished on 129000/176960 queries. users per second: 46386.4"
      ]
     },
     "metadata": {},
     "output_type": "display_data"
    },
    {
     "data": {
      "text/html": [
       "<pre>recommendations finished on 130000/176960 queries. users per second: 46430.8</pre>"
      ],
      "text/plain": [
       "recommendations finished on 130000/176960 queries. users per second: 46430.8"
      ]
     },
     "metadata": {},
     "output_type": "display_data"
    },
    {
     "data": {
      "text/html": [
       "<pre>recommendations finished on 131000/176960 queries. users per second: 46413.2</pre>"
      ],
      "text/plain": [
       "recommendations finished on 131000/176960 queries. users per second: 46413.2"
      ]
     },
     "metadata": {},
     "output_type": "display_data"
    },
    {
     "data": {
      "text/html": [
       "<pre>recommendations finished on 132000/176960 queries. users per second: 46475.1</pre>"
      ],
      "text/plain": [
       "recommendations finished on 132000/176960 queries. users per second: 46475.1"
      ]
     },
     "metadata": {},
     "output_type": "display_data"
    },
    {
     "data": {
      "text/html": [
       "<pre>recommendations finished on 133000/176960 queries. users per second: 46553.4</pre>"
      ],
      "text/plain": [
       "recommendations finished on 133000/176960 queries. users per second: 46553.4"
      ]
     },
     "metadata": {},
     "output_type": "display_data"
    },
    {
     "data": {
      "text/html": [
       "<pre>recommendations finished on 134000/176960 queries. users per second: 46627.7</pre>"
      ],
      "text/plain": [
       "recommendations finished on 134000/176960 queries. users per second: 46627.7"
      ]
     },
     "metadata": {},
     "output_type": "display_data"
    },
    {
     "data": {
      "text/html": [
       "<pre>recommendations finished on 135000/176960 queries. users per second: 46643</pre>"
      ],
      "text/plain": [
       "recommendations finished on 135000/176960 queries. users per second: 46643"
      ]
     },
     "metadata": {},
     "output_type": "display_data"
    },
    {
     "data": {
      "text/html": [
       "<pre>recommendations finished on 136000/176960 queries. users per second: 46638.2</pre>"
      ],
      "text/plain": [
       "recommendations finished on 136000/176960 queries. users per second: 46638.2"
      ]
     },
     "metadata": {},
     "output_type": "display_data"
    },
    {
     "data": {
      "text/html": [
       "<pre>recommendations finished on 137000/176960 queries. users per second: 46712.9</pre>"
      ],
      "text/plain": [
       "recommendations finished on 137000/176960 queries. users per second: 46712.9"
      ]
     },
     "metadata": {},
     "output_type": "display_data"
    },
    {
     "data": {
      "text/html": [
       "<pre>recommendations finished on 138000/176960 queries. users per second: 46776.1</pre>"
      ],
      "text/plain": [
       "recommendations finished on 138000/176960 queries. users per second: 46776.1"
      ]
     },
     "metadata": {},
     "output_type": "display_data"
    },
    {
     "data": {
      "text/html": [
       "<pre>recommendations finished on 139000/176960 queries. users per second: 46713.5</pre>"
      ],
      "text/plain": [
       "recommendations finished on 139000/176960 queries. users per second: 46713.5"
      ]
     },
     "metadata": {},
     "output_type": "display_data"
    },
    {
     "data": {
      "text/html": [
       "<pre>recommendations finished on 140000/176960 queries. users per second: 46762.7</pre>"
      ],
      "text/plain": [
       "recommendations finished on 140000/176960 queries. users per second: 46762.7"
      ]
     },
     "metadata": {},
     "output_type": "display_data"
    },
    {
     "data": {
      "text/html": [
       "<pre>recommendations finished on 141000/176960 queries. users per second: 46828.4</pre>"
      ],
      "text/plain": [
       "recommendations finished on 141000/176960 queries. users per second: 46828.4"
      ]
     },
     "metadata": {},
     "output_type": "display_data"
    },
    {
     "data": {
      "text/html": [
       "<pre>recommendations finished on 142000/176960 queries. users per second: 46833.3</pre>"
      ],
      "text/plain": [
       "recommendations finished on 142000/176960 queries. users per second: 46833.3"
      ]
     },
     "metadata": {},
     "output_type": "display_data"
    },
    {
     "data": {
      "text/html": [
       "<pre>recommendations finished on 143000/176960 queries. users per second: 46881.3</pre>"
      ],
      "text/plain": [
       "recommendations finished on 143000/176960 queries. users per second: 46881.3"
      ]
     },
     "metadata": {},
     "output_type": "display_data"
    },
    {
     "data": {
      "text/html": [
       "<pre>recommendations finished on 144000/176960 queries. users per second: 46945.1</pre>"
      ],
      "text/plain": [
       "recommendations finished on 144000/176960 queries. users per second: 46945.1"
      ]
     },
     "metadata": {},
     "output_type": "display_data"
    },
    {
     "data": {
      "text/html": [
       "<pre>recommendations finished on 145000/176960 queries. users per second: 46995.2</pre>"
      ],
      "text/plain": [
       "recommendations finished on 145000/176960 queries. users per second: 46995.2"
      ]
     },
     "metadata": {},
     "output_type": "display_data"
    },
    {
     "data": {
      "text/html": [
       "<pre>recommendations finished on 146000/176960 queries. users per second: 47045.4</pre>"
      ],
      "text/plain": [
       "recommendations finished on 146000/176960 queries. users per second: 47045.4"
      ]
     },
     "metadata": {},
     "output_type": "display_data"
    },
    {
     "data": {
      "text/html": [
       "<pre>recommendations finished on 147000/176960 queries. users per second: 46992.6</pre>"
      ],
      "text/plain": [
       "recommendations finished on 147000/176960 queries. users per second: 46992.6"
      ]
     },
     "metadata": {},
     "output_type": "display_data"
    },
    {
     "data": {
      "text/html": [
       "<pre>recommendations finished on 148000/176960 queries. users per second: 47090.6</pre>"
      ],
      "text/plain": [
       "recommendations finished on 148000/176960 queries. users per second: 47090.6"
      ]
     },
     "metadata": {},
     "output_type": "display_data"
    },
    {
     "data": {
      "text/html": [
       "<pre>recommendations finished on 149000/176960 queries. users per second: 47204.2</pre>"
      ],
      "text/plain": [
       "recommendations finished on 149000/176960 queries. users per second: 47204.2"
      ]
     },
     "metadata": {},
     "output_type": "display_data"
    },
    {
     "data": {
      "text/html": [
       "<pre>recommendations finished on 150000/176960 queries. users per second: 47315.7</pre>"
      ],
      "text/plain": [
       "recommendations finished on 150000/176960 queries. users per second: 47315.7"
      ]
     },
     "metadata": {},
     "output_type": "display_data"
    },
    {
     "data": {
      "text/html": [
       "<pre>recommendations finished on 151000/176960 queries. users per second: 47349.9</pre>"
      ],
      "text/plain": [
       "recommendations finished on 151000/176960 queries. users per second: 47349.9"
      ]
     },
     "metadata": {},
     "output_type": "display_data"
    },
    {
     "data": {
      "text/html": [
       "<pre>recommendations finished on 152000/176960 queries. users per second: 47331.5</pre>"
      ],
      "text/plain": [
       "recommendations finished on 152000/176960 queries. users per second: 47331.5"
      ]
     },
     "metadata": {},
     "output_type": "display_data"
    },
    {
     "data": {
      "text/html": [
       "<pre>recommendations finished on 153000/176960 queries. users per second: 47393.7</pre>"
      ],
      "text/plain": [
       "recommendations finished on 153000/176960 queries. users per second: 47393.7"
      ]
     },
     "metadata": {},
     "output_type": "display_data"
    },
    {
     "data": {
      "text/html": [
       "<pre>recommendations finished on 154000/176960 queries. users per second: 47464.4</pre>"
      ],
      "text/plain": [
       "recommendations finished on 154000/176960 queries. users per second: 47464.4"
      ]
     },
     "metadata": {},
     "output_type": "display_data"
    },
    {
     "data": {
      "text/html": [
       "<pre>recommendations finished on 155000/176960 queries. users per second: 47495.1</pre>"
      ],
      "text/plain": [
       "recommendations finished on 155000/176960 queries. users per second: 47495.1"
      ]
     },
     "metadata": {},
     "output_type": "display_data"
    },
    {
     "data": {
      "text/html": [
       "<pre>recommendations finished on 156000/176960 queries. users per second: 47443.9</pre>"
      ],
      "text/plain": [
       "recommendations finished on 156000/176960 queries. users per second: 47443.9"
      ]
     },
     "metadata": {},
     "output_type": "display_data"
    },
    {
     "data": {
      "text/html": [
       "<pre>recommendations finished on 157000/176960 queries. users per second: 47461.8</pre>"
      ],
      "text/plain": [
       "recommendations finished on 157000/176960 queries. users per second: 47461.8"
      ]
     },
     "metadata": {},
     "output_type": "display_data"
    },
    {
     "data": {
      "text/html": [
       "<pre>recommendations finished on 158000/176960 queries. users per second: 47542.8</pre>"
      ],
      "text/plain": [
       "recommendations finished on 158000/176960 queries. users per second: 47542.8"
      ]
     },
     "metadata": {},
     "output_type": "display_data"
    },
    {
     "data": {
      "text/html": [
       "<pre>recommendations finished on 159000/176960 queries. users per second: 47593.9</pre>"
      ],
      "text/plain": [
       "recommendations finished on 159000/176960 queries. users per second: 47593.9"
      ]
     },
     "metadata": {},
     "output_type": "display_data"
    },
    {
     "data": {
      "text/html": [
       "<pre>recommendations finished on 160000/176960 queries. users per second: 47581.6</pre>"
      ],
      "text/plain": [
       "recommendations finished on 160000/176960 queries. users per second: 47581.6"
      ]
     },
     "metadata": {},
     "output_type": "display_data"
    },
    {
     "data": {
      "text/html": [
       "<pre>recommendations finished on 161000/176960 queries. users per second: 47595.5</pre>"
      ],
      "text/plain": [
       "recommendations finished on 161000/176960 queries. users per second: 47595.5"
      ]
     },
     "metadata": {},
     "output_type": "display_data"
    },
    {
     "data": {
      "text/html": [
       "<pre>recommendations finished on 162000/176960 queries. users per second: 47654.3</pre>"
      ],
      "text/plain": [
       "recommendations finished on 162000/176960 queries. users per second: 47654.3"
      ]
     },
     "metadata": {},
     "output_type": "display_data"
    },
    {
     "data": {
      "text/html": [
       "<pre>recommendations finished on 163000/176960 queries. users per second: 47702.8</pre>"
      ],
      "text/plain": [
       "recommendations finished on 163000/176960 queries. users per second: 47702.8"
      ]
     },
     "metadata": {},
     "output_type": "display_data"
    },
    {
     "data": {
      "text/html": [
       "<pre>recommendations finished on 164000/176960 queries. users per second: 47746.6</pre>"
      ],
      "text/plain": [
       "recommendations finished on 164000/176960 queries. users per second: 47746.6"
      ]
     },
     "metadata": {},
     "output_type": "display_data"
    },
    {
     "data": {
      "text/html": [
       "<pre>recommendations finished on 165000/176960 queries. users per second: 47706.4</pre>"
      ],
      "text/plain": [
       "recommendations finished on 165000/176960 queries. users per second: 47706.4"
      ]
     },
     "metadata": {},
     "output_type": "display_data"
    },
    {
     "data": {
      "text/html": [
       "<pre>recommendations finished on 166000/176960 queries. users per second: 47765.2</pre>"
      ],
      "text/plain": [
       "recommendations finished on 166000/176960 queries. users per second: 47765.2"
      ]
     },
     "metadata": {},
     "output_type": "display_data"
    },
    {
     "data": {
      "text/html": [
       "<pre>recommendations finished on 167000/176960 queries. users per second: 47840.4</pre>"
      ],
      "text/plain": [
       "recommendations finished on 167000/176960 queries. users per second: 47840.4"
      ]
     },
     "metadata": {},
     "output_type": "display_data"
    },
    {
     "data": {
      "text/html": [
       "<pre>recommendations finished on 168000/176960 queries. users per second: 47919.8</pre>"
      ],
      "text/plain": [
       "recommendations finished on 168000/176960 queries. users per second: 47919.8"
      ]
     },
     "metadata": {},
     "output_type": "display_data"
    },
    {
     "data": {
      "text/html": [
       "<pre>recommendations finished on 169000/176960 queries. users per second: 47957</pre>"
      ],
      "text/plain": [
       "recommendations finished on 169000/176960 queries. users per second: 47957"
      ]
     },
     "metadata": {},
     "output_type": "display_data"
    },
    {
     "data": {
      "text/html": [
       "<pre>recommendations finished on 170000/176960 queries. users per second: 47950</pre>"
      ],
      "text/plain": [
       "recommendations finished on 170000/176960 queries. users per second: 47950"
      ]
     },
     "metadata": {},
     "output_type": "display_data"
    },
    {
     "data": {
      "text/html": [
       "<pre>recommendations finished on 171000/176960 queries. users per second: 47959.9</pre>"
      ],
      "text/plain": [
       "recommendations finished on 171000/176960 queries. users per second: 47959.9"
      ]
     },
     "metadata": {},
     "output_type": "display_data"
    },
    {
     "data": {
      "text/html": [
       "<pre>recommendations finished on 172000/176960 queries. users per second: 48000.2</pre>"
      ],
      "text/plain": [
       "recommendations finished on 172000/176960 queries. users per second: 48000.2"
      ]
     },
     "metadata": {},
     "output_type": "display_data"
    },
    {
     "data": {
      "text/html": [
       "<pre>recommendations finished on 173000/176960 queries. users per second: 48032.6</pre>"
      ],
      "text/plain": [
       "recommendations finished on 173000/176960 queries. users per second: 48032.6"
      ]
     },
     "metadata": {},
     "output_type": "display_data"
    },
    {
     "data": {
      "text/html": [
       "<pre>recommendations finished on 174000/176960 queries. users per second: 47985.2</pre>"
      ],
      "text/plain": [
       "recommendations finished on 174000/176960 queries. users per second: 47985.2"
      ]
     },
     "metadata": {},
     "output_type": "display_data"
    },
    {
     "data": {
      "text/html": [
       "<pre>recommendations finished on 175000/176960 queries. users per second: 48031.9</pre>"
      ],
      "text/plain": [
       "recommendations finished on 175000/176960 queries. users per second: 48031.9"
      ]
     },
     "metadata": {},
     "output_type": "display_data"
    },
    {
     "data": {
      "text/html": [
       "<pre>recommendations finished on 176000/176960 queries. users per second: 48001</pre>"
      ],
      "text/plain": [
       "recommendations finished on 176000/176960 queries. users per second: 48001"
      ]
     },
     "metadata": {},
     "output_type": "display_data"
    }
   ],
   "source": [
    "# Get recommendation\n",
    "pop_result = pop_rec.recommend()"
   ]
  },
  {
   "cell_type": "code",
   "execution_count": 55,
   "metadata": {},
   "outputs": [
    {
     "name": "stdout",
     "output_type": "stream",
     "text": [
      "+------------------------+------------------------+-------+-----+\n",
      "|        user_id         |      business_id       | score | ... |\n",
      "+------------------------+------------------------+-------+-----+\n",
      "| ymlnR8UeFvB4FZL56tCZsA | Gmkfors9fSxUKcJKSX0BRQ |  5.0  | ... |\n",
      "| ymlnR8UeFvB4FZL56tCZsA | GP7_e6cbOd17ASWcJ0_FSQ |  5.0  | ... |\n",
      "| ymlnR8UeFvB4FZL56tCZsA | Fyuotg1ShiQZLtV5Dmjakg |  5.0  | ... |\n",
      "| ymlnR8UeFvB4FZL56tCZsA | FooKqQJ3UnsIG2slFPuLRA |  5.0  | ... |\n",
      "| ymlnR8UeFvB4FZL56tCZsA | FK7JHSUMdznZefUW6X319A |  5.0  | ... |\n",
      "| ymlnR8UeFvB4FZL56tCZsA | -zbJp3NGEhvmNOiFziN8Lg |  5.0  | ... |\n",
      "| ymlnR8UeFvB4FZL56tCZsA | -tseCGdDvepLP8IIWtZikQ |  5.0  | ... |\n",
      "| ymlnR8UeFvB4FZL56tCZsA | -iBk1_3M_efQtY6Bcygp5w |  5.0  | ... |\n",
      "| ymlnR8UeFvB4FZL56tCZsA | -UtYWvCnUppcSaC_u1pTYQ |  5.0  | ... |\n",
      "| ymlnR8UeFvB4FZL56tCZsA | -CbDQXiuKzPQ0_jiUz03aw |  5.0  | ... |\n",
      "| 9pSSL6X6lFpY3FCRLEH3og | Gmkfors9fSxUKcJKSX0BRQ |  5.0  | ... |\n",
      "| 9pSSL6X6lFpY3FCRLEH3og | GP7_e6cbOd17ASWcJ0_FSQ |  5.0  | ... |\n",
      "| 9pSSL6X6lFpY3FCRLEH3og | Fyuotg1ShiQZLtV5Dmjakg |  5.0  | ... |\n",
      "| 9pSSL6X6lFpY3FCRLEH3og | FooKqQJ3UnsIG2slFPuLRA |  5.0  | ... |\n",
      "| 9pSSL6X6lFpY3FCRLEH3og | FK7JHSUMdznZefUW6X319A |  5.0  | ... |\n",
      "| 9pSSL6X6lFpY3FCRLEH3og | -zbJp3NGEhvmNOiFziN8Lg |  5.0  | ... |\n",
      "| 9pSSL6X6lFpY3FCRLEH3og | -tseCGdDvepLP8IIWtZikQ |  5.0  | ... |\n",
      "| 9pSSL6X6lFpY3FCRLEH3og | -iBk1_3M_efQtY6Bcygp5w |  5.0  | ... |\n",
      "| 9pSSL6X6lFpY3FCRLEH3og | -UtYWvCnUppcSaC_u1pTYQ |  5.0  | ... |\n",
      "| 9pSSL6X6lFpY3FCRLEH3og | -CbDQXiuKzPQ0_jiUz03aw |  5.0  | ... |\n",
      "| CEtidlXNyQzgJSdF1ubPFw | Gmkfors9fSxUKcJKSX0BRQ |  5.0  | ... |\n",
      "| CEtidlXNyQzgJSdF1ubPFw | GP7_e6cbOd17ASWcJ0_FSQ |  5.0  | ... |\n",
      "| CEtidlXNyQzgJSdF1ubPFw | Fyuotg1ShiQZLtV5Dmjakg |  5.0  | ... |\n",
      "| CEtidlXNyQzgJSdF1ubPFw | FooKqQJ3UnsIG2slFPuLRA |  5.0  | ... |\n",
      "| CEtidlXNyQzgJSdF1ubPFw | FK7JHSUMdznZefUW6X319A |  5.0  | ... |\n",
      "| CEtidlXNyQzgJSdF1ubPFw | -zbJp3NGEhvmNOiFziN8Lg |  5.0  | ... |\n",
      "| CEtidlXNyQzgJSdF1ubPFw | -tseCGdDvepLP8IIWtZikQ |  5.0  | ... |\n",
      "| CEtidlXNyQzgJSdF1ubPFw | -iBk1_3M_efQtY6Bcygp5w |  5.0  | ... |\n",
      "| CEtidlXNyQzgJSdF1ubPFw | -UtYWvCnUppcSaC_u1pTYQ |  5.0  | ... |\n",
      "| CEtidlXNyQzgJSdF1ubPFw | -CbDQXiuKzPQ0_jiUz03aw |  5.0  | ... |\n",
      "+------------------------+------------------------+-------+-----+\n",
      "[1769600 rows x 4 columns]\n",
      "\n"
     ]
    }
   ],
   "source": [
    "pop_result.print_rows(num_rows=30, num_columns=3)"
   ]
  },
  {
   "cell_type": "markdown",
   "metadata": {},
   "source": [
    "### Hybrid Recommender\n",
    "For active user using item-item recommender, for inactive user using popularity recommender"
   ]
  }
 ],
 "metadata": {
  "kernelspec": {
   "display_name": "Python 3",
   "language": "python",
   "name": "python3"
  },
  "language_info": {
   "codemirror_mode": {
    "name": "ipython",
    "version": 3
   },
   "file_extension": ".py",
   "mimetype": "text/x-python",
   "name": "python",
   "nbconvert_exporter": "python",
   "pygments_lexer": "ipython3",
   "version": "3.6.4"
  }
 },
 "nbformat": 4,
 "nbformat_minor": 2
}
